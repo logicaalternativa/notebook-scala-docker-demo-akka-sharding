{
 "cells": [
  {
   "cell_type": "code",
   "execution_count": 1,
   "metadata": {},
   "outputs": [
    {
     "data": {
      "text/plain": [
       "defined \u001b[32mobject\u001b[39m \u001b[36mUriUtil\u001b[39m"
      ]
     },
     "execution_count": 1,
     "metadata": {},
     "output_type": "execute_result"
    }
   ],
   "source": [
    "object UriUtil {\n",
    "\n",
    "    import scala.io.Source\n",
    "    \n",
    "    import java.io._\n",
    "    import java.nio.file._\n",
    "    import java.nio.charset.StandardCharsets.UTF_8\n",
    "    import scala.util._\n",
    "    \n",
    "    import java.nio.file.Files.{write, deleteIfExists}\n",
    "    \n",
    "\n",
    "    def getUri( url :String ) =  Try{ Source.fromURL( url ).mkString}\n",
    "    \n",
    "    def writeToFile( content : String, path : Path ) = Try {  \n",
    "        write( path, content.getBytes( UTF_8 ) )\n",
    "    }\n",
    "    \n",
    "    def deleteFile( path: Path ) = Try { deleteIfExists( path ) }\n",
    "    \n",
    "}"
   ]
  },
  {
   "cell_type": "code",
   "execution_count": 2,
   "metadata": {},
   "outputs": [
    {
     "data": {
      "text/plain": [
       "defined \u001b[32mobject\u001b[39m \u001b[36mPullData\u001b[39m"
      ]
     },
     "execution_count": 2,
     "metadata": {},
     "output_type": "execute_result"
    }
   ],
   "source": [
    "\n",
    "object PullData {\n",
    "    import java.nio.file._\n",
    "    \n",
    "    val WorkPath = \"/home/jovyan/work/js/data/\"\n",
    "    \n",
    "    def pull( uri : String, nameFile :String ) = {\n",
    "        \n",
    "        val pathFile = Paths.get( WorkPath, nameFile )\n",
    "\n",
    "        for {\n",
    "           -    <- UriUtil.deleteFile( pathFile )\n",
    "           data <- UriUtil.getUri( uri )\n",
    "           _    <- UriUtil.writeToFile( data, pathFile )  \n",
    "        } yield ( () )\n",
    "        \n",
    "    }\n",
    "    \n",
    "}\n"
   ]
  },
  {
   "cell_type": "code",
   "execution_count": null,
   "metadata": {
    "scrolled": true
   },
   "outputs": [
    {
     "name": "stdout",
     "output_type": "stream",
     "text": [
      "(Failure(java.net.ConnectException: Connection refused (Connection refused)),Failure(java.net.ConnectException: Connection refused (Connection refused)),Failure(java.net.ConnectException: Connection refused (Connection refused)),Failure(java.net.ConnectException: Connection refused (Connection refused)))\n",
      "(Failure(java.net.ConnectException: Connection refused (Connection refused)),Failure(java.net.ConnectException: Connection refused (Connection refused)),Failure(java.net.ConnectException: Connection refused (Connection refused)),Failure(java.net.ConnectException: Connection refused (Connection refused)))\n",
      "(Failure(java.net.ConnectException: Connection refused (Connection refused)),Failure(java.net.ConnectException: Connection refused (Connection refused)),Failure(java.net.ConnectException: Connection refused (Connection refused)),Failure(java.net.ConnectException: Connection refused (Connection refused)))\n",
      "(Failure(java.net.ConnectException: Connection refused (Connection refused)),Failure(java.net.ConnectException: Connection refused (Connection refused)),Failure(java.net.ConnectException: Connection refused (Connection refused)),Failure(java.net.ConnectException: Connection refused (Connection refused)))\n",
      "(Failure(java.net.ConnectException: Connection refused (Connection refused)),Failure(java.net.ConnectException: Connection refused (Connection refused)),Failure(java.net.ConnectException: Connection refused (Connection refused)),Failure(java.net.ConnectException: Connection refused (Connection refused)))\n",
      "(Failure(java.net.ConnectException: Connection refused (Connection refused)),Failure(java.net.ConnectException: Connection refused (Connection refused)),Failure(java.net.ConnectException: Connection refused (Connection refused)),Failure(java.net.ConnectException: Connection refused (Connection refused)))\n",
      "(Failure(java.net.ConnectException: Connection refused (Connection refused)),Failure(java.net.ConnectException: Connection refused (Connection refused)),Failure(java.net.ConnectException: Connection refused (Connection refused)),Failure(java.net.ConnectException: Connection refused (Connection refused)))\n",
      "(Failure(java.net.ConnectException: Connection refused (Connection refused)),Failure(java.net.ConnectException: Connection refused (Connection refused)),Failure(java.net.ConnectException: Connection refused (Connection refused)),Failure(java.net.ConnectException: Connection refused (Connection refused)))\n",
      "(Failure(java.net.ConnectException: Connection refused (Connection refused)),Failure(java.net.ConnectException: Connection refused (Connection refused)),Failure(java.net.ConnectException: Connection refused (Connection refused)),Failure(java.net.ConnectException: Connection refused (Connection refused)))\n",
      "(Failure(java.net.ConnectException: Connection refused (Connection refused)),Failure(java.net.ConnectException: Connection refused (Connection refused)),Failure(java.net.ConnectException: Connection refused (Connection refused)),Failure(java.net.ConnectException: Connection refused (Connection refused)))\n",
      "(Failure(java.net.ConnectException: Connection refused (Connection refused)),Failure(java.net.ConnectException: Connection refused (Connection refused)),Failure(java.net.ConnectException: Connection refused (Connection refused)),Failure(java.net.ConnectException: Connection refused (Connection refused)))\n",
      "(Failure(java.net.ConnectException: Connection refused (Connection refused)),Failure(java.net.ConnectException: Connection refused (Connection refused)),Failure(java.net.ConnectException: Connection refused (Connection refused)),Failure(java.net.ConnectException: Connection refused (Connection refused)))\n",
      "(Failure(java.net.ConnectException: Connection refused (Connection refused)),Failure(java.net.ConnectException: Connection refused (Connection refused)),Failure(java.net.ConnectException: Connection refused (Connection refused)),Failure(java.net.ConnectException: Connection refused (Connection refused)))\n",
      "(Failure(java.net.ConnectException: Connection refused (Connection refused)),Failure(java.net.ConnectException: Connection refused (Connection refused)),Failure(java.net.ConnectException: Connection refused (Connection refused)),Failure(java.net.ConnectException: Connection refused (Connection refused)))\n",
      "(Failure(java.net.ConnectException: Connection refused (Connection refused)),Failure(java.net.ConnectException: Connection refused (Connection refused)),Failure(java.net.ConnectException: Connection refused (Connection refused)),Failure(java.net.ConnectException: Connection refused (Connection refused)))\n",
      "(Failure(java.net.ConnectException: Connection refused (Connection refused)),Failure(java.net.ConnectException: Connection refused (Connection refused)),Failure(java.net.ConnectException: Connection refused (Connection refused)),Failure(java.net.ConnectException: Connection refused (Connection refused)))\n",
      "(Failure(java.net.ConnectException: Connection refused (Connection refused)),Failure(java.net.ConnectException: Connection refused (Connection refused)),Failure(java.net.ConnectException: Connection refused (Connection refused)),Failure(java.net.ConnectException: Connection refused (Connection refused)))\n",
      "(Failure(java.net.ConnectException: Connection refused (Connection refused)),Failure(java.net.ConnectException: Connection refused (Connection refused)),Failure(java.net.ConnectException: Connection refused (Connection refused)),Failure(java.net.ConnectException: Connection refused (Connection refused)))\n",
      "(Failure(java.net.ConnectException: Connection refused (Connection refused)),Failure(java.net.ConnectException: Connection refused (Connection refused)),Failure(java.net.ConnectException: Connection refused (Connection refused)),Failure(java.net.ConnectException: Connection refused (Connection refused)))\n",
      "(Failure(java.net.ConnectException: Connection refused (Connection refused)),Failure(java.net.ConnectException: Connection refused (Connection refused)),Failure(java.net.ConnectException: Connection refused (Connection refused)),Failure(java.net.ConnectException: Connection refused (Connection refused)))\n",
      "(Failure(java.net.ConnectException: Connection refused (Connection refused)),Failure(java.net.ConnectException: Connection refused (Connection refused)),Failure(java.net.ConnectException: Connection refused (Connection refused)),Failure(java.net.ConnectException: Connection refused (Connection refused)))\n",
      "(Failure(java.net.ConnectException: Connection refused (Connection refused)),Failure(java.net.ConnectException: Connection refused (Connection refused)),Failure(java.net.ConnectException: Connection refused (Connection refused)),Failure(java.net.ConnectException: Connection refused (Connection refused)))\n",
      "(Failure(java.net.ConnectException: Connection refused (Connection refused)),Failure(java.net.ConnectException: Connection refused (Connection refused)),Failure(java.net.ConnectException: Connection refused (Connection refused)),Failure(java.net.ConnectException: Connection refused (Connection refused)))\n",
      "(Failure(java.net.ConnectException: Connection refused (Connection refused)),Failure(java.net.ConnectException: Connection refused (Connection refused)),Failure(java.net.ConnectException: Connection refused (Connection refused)),Failure(java.net.ConnectException: Connection refused (Connection refused)))\n",
      "(Failure(java.net.ConnectException: Connection refused (Connection refused)),Failure(java.net.ConnectException: Connection refused (Connection refused)),Failure(java.net.ConnectException: Connection refused (Connection refused)),Failure(java.net.ConnectException: Connection refused (Connection refused)))\n",
      "(Success(()),Success(()),Failure(java.net.ConnectException: Connection refused (Connection refused)),Failure(java.net.ConnectException: Connection refused (Connection refused)))\n",
      "(Success(()),Success(()),Failure(java.net.ConnectException: Connection refused (Connection refused)),Failure(java.net.ConnectException: Connection refused (Connection refused)))\n",
      "(Success(()),Success(()),Failure(java.net.ConnectException: Connection refused (Connection refused)),Failure(java.net.ConnectException: Connection refused (Connection refused)))\n",
      "(Success(()),Success(()),Failure(java.net.ConnectException: Connection refused (Connection refused)),Failure(java.net.ConnectException: Connection refused (Connection refused)))\n"
     ]
    },
    {
     "name": "stdout",
     "output_type": "stream",
     "text": [
      "(Success(()),Success(()),Failure(java.net.ConnectException: Connection refused (Connection refused)),Failure(java.net.ConnectException: Connection refused (Connection refused)))\n",
      "(Failure(java.net.ConnectException: Connection refused (Connection refused)),Failure(java.net.ConnectException: Connection refused (Connection refused)),Failure(java.net.ConnectException: Connection refused (Connection refused)),Failure(java.net.ConnectException: Connection refused (Connection refused)))\n",
      "(Failure(java.net.ConnectException: Connection refused (Connection refused)),Failure(java.net.ConnectException: Connection refused (Connection refused)),Failure(java.net.ConnectException: Connection refused (Connection refused)),Failure(java.net.ConnectException: Connection refused (Connection refused)))\n",
      "(Failure(java.net.ConnectException: Connection refused (Connection refused)),Failure(java.net.ConnectException: Connection refused (Connection refused)),Failure(java.net.ConnectException: Connection refused (Connection refused)),Failure(java.net.ConnectException: Connection refused (Connection refused)))\n",
      "(Failure(java.net.ConnectException: Connection refused (Connection refused)),Failure(java.net.ConnectException: Connection refused (Connection refused)),Failure(java.net.ConnectException: Connection refused (Connection refused)),Failure(java.net.ConnectException: Connection refused (Connection refused)))\n",
      "(Failure(java.net.ConnectException: Connection refused (Connection refused)),Failure(java.net.ConnectException: Connection refused (Connection refused)),Failure(java.net.ConnectException: Connection refused (Connection refused)),Failure(java.net.ConnectException: Connection refused (Connection refused)))\n",
      "(Failure(java.net.ConnectException: Connection refused (Connection refused)),Failure(java.net.ConnectException: Connection refused (Connection refused)),Failure(java.net.ConnectException: Connection refused (Connection refused)),Failure(java.net.ConnectException: Connection refused (Connection refused)))\n",
      "(Failure(java.net.ConnectException: Connection refused (Connection refused)),Failure(java.net.ConnectException: Connection refused (Connection refused)),Failure(java.net.ConnectException: Connection refused (Connection refused)),Failure(java.net.ConnectException: Connection refused (Connection refused)))\n"
     ]
    }
   ],
   "source": [
    "\n",
    "while( true ) {\n",
    "    \n",
    "    val res1 = PullData.pull( \"http://127.0.0.1:8554/cluster/members\", \"members_8554.json\" )\n",
    "    val res2 = PullData.pull( \"http://127.0.0.1:8554/cluster/shards/accounts\", \"shard_8554.json\" )\n",
    "    val res3 = PullData.pull( \"http://127.0.0.1:8553/cluster/members\", \"members_8553.json\" )\n",
    "    val res4 = PullData.pull( \"http://127.0.0.1:8553/cluster/shards/accounts\", \"shard_8553.json\" )\n",
    "    \n",
    "    println((res1,res2,res3,res4) )\n",
    "    \n",
    "    Thread.sleep( 5000 )\n",
    "    \n",
    "}"
   ]
  }
 ],
 "metadata": {
  "kernelspec": {
   "display_name": "Scala (2.12)",
   "language": "scala",
   "name": "scala_2_12"
  },
  "language_info": {
   "codemirror_mode": "text/x-scala",
   "file_extension": ".scala",
   "mimetype": "text/x-scala",
   "name": "scala212",
   "nbconvert_exporter": "script",
   "pygments_lexer": "scala",
   "version": "2.12.2"
  }
 },
 "nbformat": 4,
 "nbformat_minor": 2
}
