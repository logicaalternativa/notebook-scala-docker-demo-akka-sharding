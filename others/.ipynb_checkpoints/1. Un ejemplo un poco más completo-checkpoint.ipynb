{
 "cells": [
  {
   "cell_type": "markdown",
   "metadata": {},
   "source": [
    "# Un ejemplo un poco más complicado\n",
    "\n",
    "Vamos a hacer un caso muy simplificado de una cuenta de un banco.\n",
    "\n",
    "## Índice\n",
    "- Protocolo de mensajería\n",
    "  + De entrada\n",
    "  + De salida\n",
    "  + Eventos\n",
    "- Cuentas y transferencias\n",
    "  + Actor cuenta\n",
    "  + Interfaz cuenta\n",
    "  + Definición de una transferencia\n",
    "- Implementaciones\n",
    "  + Logica de negocio: actualización del balance\n",
    "  + Publicación de eventos\n",
    " "
   ]
  },
  {
   "cell_type": "markdown",
   "metadata": {},
   "source": [
    "###  Se importan la librerias de akka "
   ]
  },
  {
   "cell_type": "code",
   "execution_count": null,
   "metadata": {},
   "outputs": [],
   "source": [
    "import $ivy.`com.typesafe.akka::akka-actor:2.5.14`"
   ]
  },
  {
   "cell_type": "markdown",
   "metadata": {},
   "source": [
    "### Implicitos necesarios"
   ]
  },
  {
   "cell_type": "code",
   "execution_count": null,
   "metadata": {},
   "outputs": [],
   "source": [
    "import scala.concurrent.ExecutionContext \n",
    "import java.util.concurrent.Executors\n",
    "import akka.util.Timeout\n",
    "import scala.concurrent.duration._\n",
    "\n",
    "implicit val ec  = ExecutionContext.fromExecutorService( Executors.newFixedThreadPool( 20 ) )\n",
    "implicit val timeout = Timeout( 5 seconds )   \n",
    "\n",
    "object Types {    \n",
    "   type Balance = Int\n",
    "   type Amount  = Int\n",
    "   type IdAccount = String\n",
    "}"
   ]
  },
  {
   "cell_type": "markdown",
   "metadata": {},
   "source": [
    "---\n",
    "\n",
    "---\n",
    "## Se define el protocolo de mensajería\n",
    "\n",
    "### Protocolo de entrada"
   ]
  },
  {
   "cell_type": "code",
   "execution_count": null,
   "metadata": {},
   "outputs": [],
   "source": [
    "import Types._\n",
    "\n",
    "sealed trait AccountIn\n",
    "\n",
    "// Commands\n",
    "\n",
    "sealed trait AccountCommand extends AccountIn { \n",
    "    val amount : Balance\n",
    "}\n",
    "\n",
    "final case class Withdrawal(amount : Amount) extends AccountCommand \n",
    "final case class Income(amount : Amount) extends AccountCommand \n",
    "\n",
    "\n",
    "// Queries\n",
    "\n",
    "sealed trait AccountQuery extends AccountIn\n",
    "\n",
    "final case object GetBalance extends AccountQuery"
   ]
  },
  {
   "cell_type": "markdown",
   "metadata": {},
   "source": [
    "### Protocolo de salida"
   ]
  },
  {
   "cell_type": "code",
   "execution_count": null,
   "metadata": {},
   "outputs": [],
   "source": [
    "import Types._ \n",
    "\n",
    "sealed trait AccountOut\n",
    "\n",
    "final case class CurrentBalance( balance: Balance ) extends AccountOut"
   ]
  },
  {
   "cell_type": "markdown",
   "metadata": {},
   "source": [
    "### Eventos"
   ]
  },
  {
   "cell_type": "code",
   "execution_count": null,
   "metadata": {},
   "outputs": [],
   "source": [
    "import Types._\n",
    "\n",
    "sealed trait AccountEvent {    \n",
    "    val idAccount : IdAccount\n",
    "    val amount: Amount\n",
    "}\n",
    "\n",
    "case class WithdrawalCreated( \n",
    "                              val idAccount: IdAccount, \n",
    "                              val amount : Amount \n",
    "                            ) extends AccountEvent\n",
    "\n",
    "case class IncomeCreated( \n",
    "                          val idAccount: IdAccount, \n",
    "                          val amount : Amount \n",
    "                        ) extends AccountEvent"
   ]
  },
  {
   "cell_type": "markdown",
   "metadata": {},
   "source": [
    "---\n",
    "\n",
    "---\n",
    "## Cuentas y transferencias\n",
    "### Actor 'Cuenta'"
   ]
  },
  {
   "cell_type": "code",
   "execution_count": null,
   "metadata": {},
   "outputs": [],
   "source": [
    "import akka.actor._\n",
    "import scala.collection.mutable.Queue\n",
    "import scala.util._\n",
    "import Types._\n",
    "\n",
    "class ActorAccount( \n",
    "                    private val updateBalance : (Amount, Balance) => Try[Balance], \n",
    "                    private val queueCQRS: Queue[AccountEvent] \n",
    "                  ) extends Actor {\n",
    "    \n",
    "    \n",
    "    val id = self.path.name\n",
    "    \n",
    "    var balance : Int = 0\n",
    "    \n",
    "    override def receive = {\n",
    "        \n",
    "        case command : AccountCommand => manageCommads( command )\n",
    "        case querry  : AccountQuery   => manageQueries( querry )\n",
    "        case other                    => unhandled( other )\n",
    "        \n",
    "    }\n",
    "    \n",
    "    private def manageCommads( command: AccountCommand ) : Unit = {\n",
    "        \n",
    "        command match {\n",
    "            case Withdrawal( amount ) => execUpdateBalance( -1 * amount, command)\n",
    "            case Income( amount )     => execUpdateBalance( amount, command )\n",
    "            \n",
    "        }           \n",
    "        \n",
    "    }\n",
    "    \n",
    "    private def execUpdateBalance( amount : Amount, command : AccountCommand) = {        \n",
    "        updateBalance( amount, balance ) match {            \n",
    "            case Success( newBalance ) => {\n",
    "                balance = newBalance\n",
    "                responseBalance( balance )\n",
    "                sendEvent( command )\n",
    "                \n",
    "            }\n",
    "            case Failure(  error ) => sender() ! Status.Failure( error )         \n",
    "        }\n",
    "    }\n",
    "    \n",
    "    private def sendEvent( command: AccountCommand ) {\n",
    "        \n",
    "        val event : AccountEvent = command match {\n",
    "            case Withdrawal( amount ) => WithdrawalCreated( id, amount ) \n",
    "            case Income( amount )     => IncomeCreated( id, amount ) \n",
    "        }\n",
    "        \n",
    "        queueCQRS.enqueue( event )\n",
    "        \n",
    "    }\n",
    "    \n",
    "    private def manageQueries( queries : AccountQuery ) : Unit = queries match {\n",
    "        case GetBalance => responseBalance( balance )\n",
    "    }\n",
    "    \n",
    "    private def responseBalance( bal : Balance ) = sender() !  CurrentBalance( bal )    \n",
    "    \n",
    "}"
   ]
  },
  {
   "cell_type": "markdown",
   "metadata": {},
   "source": [
    "### Interfaz 'Cuenta'"
   ]
  },
  {
   "cell_type": "code",
   "execution_count": null,
   "metadata": {},
   "outputs": [],
   "source": [
    "import scala.concurrent.Future\n",
    "import Types._\n",
    "\n",
    "trait Account {\n",
    "   def makeWithdrawal( amount : Amount ) : Future[Balance] \n",
    "   def makeIncome( amount : Amount ) : Future[Balance] \n",
    "   def getBalance: Future[Balance]\n",
    "}\n",
    "\n",
    "object Account {\n",
    "    \n",
    "    import akka.pattern._\n",
    "    import akka.actor._\n",
    "    import akka.util.Timeout\n",
    "    \n",
    "    private def toBalance( responseActor : Future[Any] )( implicit ec : ExecutionContext ) : Future[Balance] = {\n",
    "        responseActor.mapTo[CurrentBalance].map( _.balance )\n",
    "    }\n",
    "    \n",
    "    def apply( account :ActorRef )\n",
    "                    ( implicit ec : ExecutionContext, timeout : Timeout ) = new Account {\n",
    "      \n",
    "      def makeWithdrawal( amount : Amount ) : Future[ Balance] =  toBalance {\n",
    "          account ? Withdrawal( amount ) \n",
    "      }\n",
    "\n",
    "      def makeIncome( amount : Amount ) : Future[Balance] =  toBalance {\n",
    "          account ? Income( amount ) \n",
    "      }\n",
    "        \n",
    "      def getBalance : Future[Balance] =  toBalance {\n",
    "          account ? GetBalance\n",
    "      }  \n",
    "        \n",
    "    }\n",
    "}\n",
    "\n"
   ]
  },
  {
   "cell_type": "markdown",
   "metadata": {},
   "source": [
    "### Definición de una transferencia\n",
    "\n",
    "Se simula una operación/compensacion siguiendo el patrón sagas"
   ]
  },
  {
   "cell_type": "code",
   "execution_count": null,
   "metadata": {},
   "outputs": [],
   "source": [
    "import Types._\n",
    "\n",
    "object Transfer {\n",
    "    \n",
    "    import scala.concurrent._\n",
    "    \n",
    "    def transfer( from : Account, to: Account )( amount : Amount )( implicit ec : ExecutionContext) = {\n",
    "        \n",
    "        for {\n",
    "            \n",
    "             _  <- from.makeWithdrawal( amount ) \n",
    "            res <- to.makeIncome( amount )\n",
    "                    .map( _ => true )\n",
    "                    .recoverWith{ \n",
    "                        case _ => from.makeIncome( amount ).map( _=> false ) \n",
    "                    }\n",
    "        } yield( res )\n",
    "        \n",
    "   }\n",
    "    \n",
    "}"
   ]
  },
  {
   "cell_type": "markdown",
   "metadata": {},
   "source": [
    "---\n",
    "\n",
    "----\n",
    "## Implementaciones"
   ]
  },
  {
   "cell_type": "markdown",
   "metadata": {},
   "source": [
    "### Lógica de negocio\n",
    "Se define una lógica de negocio simple. En este caso no se admiten descubiertos, pero por ejemplo se pueden implementar diferentes lógicas como un porcentaje de descubierto dependiendo del balance. \n",
    "> El objetivo final es que la lógica puede estar separada del actor y puede ser validada y probada aparte"
   ]
  },
  {
   "cell_type": "code",
   "execution_count": null,
   "metadata": {},
   "outputs": [],
   "source": [
    "import scala.util._\n",
    "import Types._\n",
    "\n",
    "implicit val updateBalance : (Amount,Balance) => Try[Balance] = ( amount, balance ) => {\n",
    "   \n",
    "    val newBalance = amount + balance\n",
    "    \n",
    "    if( newBalance >= 0 ) {\n",
    "    \n",
    "        Success( newBalance )\n",
    "        \n",
    "    } else {\n",
    "        \n",
    "        Failure( new IllegalStateException( s\"It should not be in red( ${newBalance} )\" ) )\n",
    "    }\n",
    "    \n",
    "}"
   ]
  },
  {
   "cell_type": "markdown",
   "metadata": {},
   "source": [
    "### Indirección de publicación de eventos\n",
    "Se define una cola que será la indirección de publicación de eventos.\n",
    "En este caso para esta prueba será una cola mitable de Scala.   \n",
    "> En un sistema real puede ser un akka stream con su fuente '_materializada_' en una cola"
   ]
  },
  {
   "cell_type": "code",
   "execution_count": null,
   "metadata": {},
   "outputs": [],
   "source": [
    "import scala.collection.mutable.Queue\n",
    "\n",
    "val queueCQRS = Queue[AccountEvent]()"
   ]
  },
  {
   "cell_type": "markdown",
   "metadata": {},
   "source": [
    "---\n",
    "\n",
    "---\n",
    "## Probandolo todo"
   ]
  },
  {
   "cell_type": "markdown",
   "metadata": {},
   "source": [
    "### _Testing: Utilidades_\n",
    "\n",
    "> **Sólo para motivos de testing**. Espera el resultado de un futuro"
   ]
  },
  {
   "cell_type": "code",
   "execution_count": null,
   "metadata": {
    "slideshow": {
     "slide_type": "notes"
    }
   },
   "outputs": [],
   "source": [
    "object TestUtil {\n",
    "    \n",
    "    import scala.concurrent._, duration._\n",
    "    import akka.pattern._\n",
    "    import akka.util.Timeout\n",
    "\n",
    "\n",
    "    val tm = 5 seconds\n",
    "    implicit val timeout = Timeout( tm )\n",
    "\n",
    "    def result[T]( future : => Future[T] ) = Try {\n",
    "        Await.result( future, tm )\n",
    "    }\n",
    "    \n",
    "}"
   ]
  },
  {
   "cell_type": "markdown",
   "metadata": {},
   "source": [
    "---\n",
    "### Iniciando el entorno"
   ]
  },
  {
   "cell_type": "markdown",
   "metadata": {},
   "source": [
    "#### Se crea el sistema de actores"
   ]
  },
  {
   "cell_type": "code",
   "execution_count": null,
   "metadata": {},
   "outputs": [],
   "source": [
    "val system = akka.actor.ActorSystem.create( \"test-1\" )"
   ]
  },
  {
   "cell_type": "markdown",
   "metadata": {},
   "source": [
    "#### Se crean dos actores cuenta"
   ]
  },
  {
   "cell_type": "code",
   "execution_count": null,
   "metadata": {},
   "outputs": [],
   "source": [
    "import akka.actor.Props\n",
    "\n",
    "val accountOneActor = system.actorOf (\n",
    "        Props( new ActorAccount(  updateBalance, queueCQRS )),  \n",
    "       \"accountOne\"  \n",
    ")\n",
    "\n",
    "val accountTwoActor = system.actorOf (\n",
    "        Props( new ActorAccount( updateBalance, queueCQRS ) ),\n",
    "        \"accountTwo\"\n",
    ")"
   ]
  },
  {
   "cell_type": "markdown",
   "metadata": {},
   "source": [
    "#### Se crean dos 'entidades' cuenta\n",
    "A partir de los dos actores cuenta se crean las instancias del interfaz \"_Cuenta_\""
   ]
  },
  {
   "cell_type": "code",
   "execution_count": null,
   "metadata": {},
   "outputs": [],
   "source": [
    "val accountOne = Account( accountOneActor )\n",
    "val accountTwo = Account( accountTwoActor )"
   ]
  },
  {
   "cell_type": "markdown",
   "metadata": {},
   "source": [
    "#### Se hace un ingreso incial a las dos cuentas\n",
    "\n",
    "Se obtiene el resutlado de los dos balances y se calcula el total del dinero (la suma de los dos balances)\n",
    "\n",
    "> Aquí se hace `Await` sólo por motivos de testing"
   ]
  },
  {
   "cell_type": "code",
   "execution_count": null,
   "metadata": {},
   "outputs": [],
   "source": [
    "\n",
    "TestUtil.result{\n",
    "    \n",
    "    accountOne.makeIncome( 1000 ).zipWith( accountTwo.makeIncome( 1000 ) ){\n",
    "        ( b1, b2 ) => (b1, b2, b1 +b2) \n",
    "    }\n",
    "    \n",
    "}"
   ]
  },
  {
   "cell_type": "markdown",
   "metadata": {},
   "source": [
    "#### Se comprueban los eventos"
   ]
  },
  {
   "cell_type": "code",
   "execution_count": null,
   "metadata": {},
   "outputs": [],
   "source": [
    "queueCQRS.toList ; queueCQRS.clear"
   ]
  },
  {
   "cell_type": "markdown",
   "metadata": {},
   "source": [
    "---\n",
    "### _Probando, probando_"
   ]
  },
  {
   "cell_type": "markdown",
   "metadata": {},
   "source": [
    "#### Funciones de utilidades\n",
    "Para poder testear transferencias de una cuenta a otra de una manera más cómoda"
   ]
  },
  {
   "cell_type": "code",
   "execution_count": null,
   "metadata": {},
   "outputs": [],
   "source": [
    "val transfersOneToTwo =  Transfer.transfer( accountOne, accountTwo)( _ )\n",
    "val transfersTwoToOne =  Transfer.transfer( accountTwo, accountOne)( _ )"
   ]
  },
  {
   "cell_type": "markdown",
   "metadata": {},
   "source": [
    "#### Primera prueba\n",
    "\n",
    "Dos transferencias lanzadas en paralelo. El mismo importe (`500`) desde la cuenta 1 a la 2 y desde la 2 a la 1"
   ]
  },
  {
   "cell_type": "code",
   "execution_count": null,
   "metadata": {
    "scrolled": true
   },
   "outputs": [],
   "source": [
    "TestUtil.result{\n",
    "    \n",
    "    transfersOneToTwo( 500 ).zipWith( transfersTwoToOne( 500 ) ) {\n",
    "        (a, b) =>  a && b\n",
    "    }\n",
    "    \n",
    "}"
   ]
  },
  {
   "cell_type": "markdown",
   "metadata": {},
   "source": [
    "#### Se vuelen a compruebar los balances\n",
    "\n",
    "> `Await` sólo por motivos de testing"
   ]
  },
  {
   "cell_type": "code",
   "execution_count": null,
   "metadata": {},
   "outputs": [],
   "source": [
    "TestUtil.result {\n",
    "    accountOne.getBalance.zipWith( accountTwo.getBalance ){\n",
    "        ( b1, b2 ) => (b1, b2, b1 +b2) \n",
    "    }\n",
    "}"
   ]
  },
  {
   "cell_type": "markdown",
   "metadata": {},
   "source": [
    "#### Se vuelven a comprobar los eventos"
   ]
  },
  {
   "cell_type": "code",
   "execution_count": null,
   "metadata": {},
   "outputs": [],
   "source": [
    "queueCQRS.toList ; queueCQRS.clear"
   ]
  },
  {
   "cell_type": "markdown",
   "metadata": {},
   "source": [
    "---\n",
    "### Bonus track\n",
    "Test de concurrencia, lanzando transferencias en paralelo desde las mismas cuentas con cantidades aleatorias.\n",
    "\n",
    "El resultado debera conservar la suma de los balances y ninguna de las dos cuentas puede tener valores negativos, ni valores mayores que la suma de los dos balances inciales"
   ]
  },
  {
   "cell_type": "code",
   "execution_count": null,
   "metadata": {},
   "outputs": [],
   "source": [
    "object TestConcurrent {\n",
    "\n",
    "    import scala.util.Random\n",
    "    \n",
    "    private def randomAmount = Random.nextInt( 998 ) + 1 \n",
    "    \n",
    "    private def randomOperation( amount : Amount ) =  {\n",
    "        if ( Random.nextInt(2) == 0 ) {\n",
    "            transfersOneToTwo( amount )\n",
    "        } else {\n",
    "            transfersTwoToOne( amount )\n",
    "        }\n",
    "    }\n",
    "\n",
    "    private def randomTransfer( implicit ec : ExecutionContext ) = Future {\n",
    "        randomOperation( randomAmount )\n",
    "    }.flatten.map{\n",
    "       _ => 1  \n",
    "    } .recover{\n",
    "        case _=> 0\n",
    "    }\n",
    "  \n",
    "    def testConncurrent( cont: Int, \n",
    "                         from : List[Future[Int]] = List())( implicit ec : ExecutionContext ): Future[Int] ={\n",
    "\n",
    "        if ( cont == 0 ) {\n",
    "            Future.sequence( from ) .map {\n",
    "                _.fold(0) { \n",
    "                        ( a,b ) => a + b \n",
    "                } \n",
    "            }\n",
    "        } else  {\n",
    "           testConncurrent( cont -1, from :+ randomTransfer )\n",
    "        }\n",
    "    }\n",
    "\n",
    "}"
   ]
  },
  {
   "cell_type": "markdown",
   "metadata": {},
   "source": [
    "#### Se lanza el test\n",
    "Se lanza `500` transferencias aleatorias y se comprueban los balances de las dos cuentas"
   ]
  },
  {
   "cell_type": "code",
   "execution_count": null,
   "metadata": {},
   "outputs": [],
   "source": [
    "TestUtil.result {\n",
    "    for {\n",
    "        t <- TestConcurrent.testConncurrent( 500 ) \n",
    "        ( b1, b2 ) <- accountOne.getBalance.zip( accountTwo.getBalance )\n",
    "    } yield{  (t, (b1, b2, b1 +b2) ) }    \n",
    "}"
   ]
  },
  {
   "cell_type": "markdown",
   "metadata": {},
   "source": [
    "#### Se vuelven a comprobar los eventos"
   ]
  },
  {
   "cell_type": "code",
   "execution_count": null,
   "metadata": {},
   "outputs": [],
   "source": [
    "queueCQRS.toList ; queueCQRS.clear"
   ]
  }
 ],
 "metadata": {
  "kernelspec": {
   "display_name": "Scala (2.12)",
   "language": "scala",
   "name": "scala_2_12"
  },
  "language_info": {
   "codemirror_mode": "text/x-scala",
   "file_extension": ".scala",
   "mimetype": "text/x-scala",
   "name": "scala212",
   "nbconvert_exporter": "script",
   "pygments_lexer": "scala",
   "version": "2.12.2"
  }
 },
 "nbformat": 4,
 "nbformat_minor": 2
}
