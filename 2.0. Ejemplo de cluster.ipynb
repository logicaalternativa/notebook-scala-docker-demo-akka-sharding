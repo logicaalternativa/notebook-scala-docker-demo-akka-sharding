{
 "cells": [
  {
   "cell_type": "markdown",
   "metadata": {},
   "source": [
    "# Ejemplo final\n",
    "\n",
    "Implementamos el mismo ejemplo anterior pero esta vez utilizando **cluster sharding**.\n",
    "\n",
    "## Índice\n",
    "- Protocolo de mensajería\n",
    "  + De entrada\n",
    "  + De salida\n",
    "  + Eventos\n",
    "- Cuentas y transferencias\n",
    "  + Actor cuenta\n",
    "    - Funciones, a partir del mensaje: \n",
    "      + Id de cuenta a partir del mensaje\n",
    "      + Región de sharding a partir del mensaje\n",
    "  + Interfaz cuenta\n",
    "  + Definición de una transferencia\n",
    "- Implementaciones\n",
    "  + Logica de negocio: actualización del balance\n",
    "  + Publicación de eventos\n",
    "- Probandolo todo\n",
    "  + Se crea el sistema de actores con la configuración necesaria\n",
    "  + Se crea la región de cluster sharding\n",
    "- Bonus track\n",
    "  + Utilizar `akka-management`\n",
    "  + Escuchar los eventos del cluster "
   ]
  },
  {
   "cell_type": "markdown",
   "metadata": {},
   "source": [
    "###  Se importan la librerías de akka \n",
    "\n",
    "> Ahora se importan las librerías de cluster sharding"
   ]
  },
  {
   "cell_type": "code",
   "execution_count": 1,
   "metadata": {},
   "outputs": [
    {
     "data": {
      "text/plain": [
       "\u001b[32mimport \u001b[39m\u001b[36m$ivy.$                                                \n",
       "\u001b[39m\n",
       "\u001b[32mimport \u001b[39m\u001b[36m$ivy.$                                                      \n",
       "\u001b[39m\n",
       "\u001b[32mimport \u001b[39m\u001b[36m$ivy.$                                                                   \u001b[39m"
      ]
     },
     "execution_count": 1,
     "metadata": {},
     "output_type": "execute_result"
    }
   ],
   "source": [
    "import $ivy.`com.typesafe.akka::akka-cluster-sharding:2.5.14`\n",
    "import $ivy.`com.lightbend.akka.management::akka-management:0.17.0`\n",
    "import $ivy.`com.lightbend.akka.management::akka-management-cluster-http:0.17.0`"
   ]
  },
  {
   "cell_type": "markdown",
   "metadata": {},
   "source": [
    "### Implicitos necesarios"
   ]
  },
  {
   "cell_type": "code",
   "execution_count": 2,
   "metadata": {},
   "outputs": [
    {
     "data": {
      "text/plain": [
       "\u001b[32mimport \u001b[39m\u001b[36mscala.concurrent.ExecutionContext \n",
       "\u001b[39m\n",
       "\u001b[32mimport \u001b[39m\u001b[36mjava.util.concurrent.Executors\n",
       "\u001b[39m\n",
       "\u001b[32mimport \u001b[39m\u001b[36makka.util.Timeout\n",
       "\u001b[39m\n",
       "\u001b[32mimport \u001b[39m\u001b[36mscala.concurrent.duration._\n",
       "\n",
       "\u001b[39m\n",
       "\u001b[36mec\u001b[39m: \u001b[32mconcurrent\u001b[39m.\u001b[32mExecutionContextExecutorService\u001b[39m = scala.concurrent.impl.ExecutionContextImpl$$anon$1@54b6bfae\n",
       "\u001b[36mtimeout\u001b[39m: \u001b[32makka\u001b[39m.\u001b[32mutil\u001b[39m.\u001b[32mTimeout\u001b[39m = \u001b[33mTimeout\u001b[39m(5 seconds)"
      ]
     },
     "execution_count": 2,
     "metadata": {},
     "output_type": "execute_result"
    }
   ],
   "source": [
    "import scala.concurrent.ExecutionContext \n",
    "import java.util.concurrent.Executors\n",
    "import akka.util.Timeout\n",
    "import scala.concurrent.duration._\n",
    "\n",
    "implicit val ec  = ExecutionContext.fromExecutorService( Executors.newFixedThreadPool( 20 ) )\n",
    "implicit val timeout = Timeout( 5 seconds )   "
   ]
  },
  {
   "cell_type": "markdown",
   "metadata": {},
   "source": [
    "---\n",
    "\n",
    "---\n",
    "## Se define el protocolo de mensajería\n",
    "\n",
    "### Protocolo de entrada"
   ]
  },
  {
   "cell_type": "code",
   "execution_count": 3,
   "metadata": {},
   "outputs": [
    {
     "data": {
      "text/plain": [
       "defined \u001b[32mtrait\u001b[39m \u001b[36mAccountIn\u001b[39m\n",
       "defined \u001b[32mtrait\u001b[39m \u001b[36mAccountCommand\u001b[39m\n",
       "defined \u001b[32mclass\u001b[39m \u001b[36mWithdrawal\u001b[39m\n",
       "defined \u001b[32mclass\u001b[39m \u001b[36mIncome\u001b[39m\n",
       "defined \u001b[32mtrait\u001b[39m \u001b[36mAccountQuery\u001b[39m\n",
       "defined \u001b[32mclass\u001b[39m \u001b[36mGetBalance\u001b[39m"
      ]
     },
     "execution_count": 3,
     "metadata": {},
     "output_type": "execute_result"
    }
   ],
   "source": [
    "sealed trait AccountIn {\n",
    "    \n",
    "    val accountId : String\n",
    "}\n",
    "\n",
    "// Commands\n",
    "\n",
    "sealed trait AccountCommand extends AccountIn { \n",
    "    val amount : Int\n",
    "}\n",
    "\n",
    "final case class Withdrawal(accountId : String, amount : Int) extends AccountCommand \n",
    "final case class Income(accountId : String, amount : Int) extends AccountCommand \n",
    "\n",
    "\n",
    "// Queries\n",
    "\n",
    "sealed trait AccountQuery extends AccountIn\n",
    "\n",
    "final case class GetBalance(accountId : String) extends AccountQuery"
   ]
  },
  {
   "cell_type": "markdown",
   "metadata": {},
   "source": [
    "### Protocolo de salida"
   ]
  },
  {
   "cell_type": "code",
   "execution_count": 4,
   "metadata": {},
   "outputs": [
    {
     "data": {
      "text/plain": [
       "defined \u001b[32mtrait\u001b[39m \u001b[36mAccountOut\u001b[39m\n",
       "defined \u001b[32mclass\u001b[39m \u001b[36mCurrentBalance\u001b[39m\n",
       "defined \u001b[32mclass\u001b[39m \u001b[36mDeltaBalance\u001b[39m"
      ]
     },
     "execution_count": 4,
     "metadata": {},
     "output_type": "execute_result"
    }
   ],
   "source": [
    "sealed trait AccountOut\n",
    "\n",
    "final case class CurrentBalance( balance: Int ) extends AccountOut\n",
    "final case class DeltaBalance( delta : Int ) extends AccountOut"
   ]
  },
  {
   "cell_type": "markdown",
   "metadata": {},
   "source": [
    "### Eventos"
   ]
  },
  {
   "cell_type": "code",
   "execution_count": 5,
   "metadata": {},
   "outputs": [
    {
     "data": {
      "text/plain": [
       "defined \u001b[32mtrait\u001b[39m \u001b[36mAccountEvent\u001b[39m\n",
       "defined \u001b[32mclass\u001b[39m \u001b[36mWithdrawalCreated\u001b[39m\n",
       "defined \u001b[32mclass\u001b[39m \u001b[36mIncomeCreated\u001b[39m"
      ]
     },
     "execution_count": 5,
     "metadata": {},
     "output_type": "execute_result"
    }
   ],
   "source": [
    "sealed trait AccountEvent {    \n",
    "    val idAccount : String\n",
    "    val amount: Int\n",
    "}\n",
    "\n",
    "case class WithdrawalCreated( val idAccount: String, val amount : Int ) extends AccountEvent\n",
    "case class IncomeCreated( val idAccount: String, val amount : Int ) extends AccountEvent"
   ]
  },
  {
   "cell_type": "markdown",
   "metadata": {},
   "source": [
    "---\n",
    "\n",
    "---\n",
    "## Cuentas y transferencias\n",
    "### Actor 'Cuenta'"
   ]
  },
  {
   "cell_type": "code",
   "execution_count": 6,
   "metadata": {},
   "outputs": [
    {
     "data": {
      "text/plain": [
       "\u001b[32mimport \u001b[39m\u001b[36makka.actor._\n",
       "\u001b[39m\n",
       "\u001b[32mimport \u001b[39m\u001b[36mscala.collection.mutable.Queue\n",
       "\u001b[39m\n",
       "\u001b[32mimport \u001b[39m\u001b[36mscala.util._\n",
       "\n",
       "\u001b[39m\n",
       "defined \u001b[32mclass\u001b[39m \u001b[36mActorAccount\u001b[39m\n",
       "defined \u001b[32mobject\u001b[39m \u001b[36mActorAccount\u001b[39m"
      ]
     },
     "execution_count": 6,
     "metadata": {},
     "output_type": "execute_result"
    }
   ],
   "source": [
    "import akka.actor._\n",
    "import scala.collection.mutable.Queue\n",
    "import scala.util._\n",
    "\n",
    "class ActorAccount( private val updateBalance : (Int, Int) => Try[Int], \n",
    "                       private val queueCQRS: Queue[AccountEvent] ) extends Actor {\n",
    "    \n",
    "    val id = self.path.name\n",
    "    \n",
    "    var balance : Int = 0\n",
    "    \n",
    "    override def receive = {\n",
    "        \n",
    "        case command : AccountCommand => manageCommads( command )\n",
    "        case querry  : AccountQuery   => manageQueries( querry )\n",
    "        case other                    => unhandled( other )\n",
    "        \n",
    "    }\n",
    "    \n",
    "    private def manageCommads( command: AccountCommand ) : Unit = {\n",
    "        \n",
    "        command match {\n",
    "            case Withdrawal(_, amount ) => execUpdateBalance( -1 * amount, command)\n",
    "            case Income( _, amount )     => execUpdateBalance( amount, command )\n",
    "            \n",
    "        }           \n",
    "        \n",
    "    }\n",
    "    \n",
    "    private def execUpdateBalance( amount : Int, command : AccountCommand) = {        \n",
    "        updateBalance( amount, balance ) match {            \n",
    "            case Success( newBalance ) => {\n",
    "                sender() ! DeltaBalance( newBalance - balance ) \n",
    "                sendEvent( command )\n",
    "                balance = newBalance\n",
    "            }\n",
    "            case Failure(  error ) => sender() ! Status.Failure( error )         \n",
    "        }\n",
    "    }\n",
    "    \n",
    "    private def sendEvent( command: AccountCommand ) {\n",
    "        \n",
    "        val event : AccountEvent = command match {\n",
    "            case Withdrawal(_, amount ) => WithdrawalCreated( id, amount ) \n",
    "            case Income( _, amount )     => IncomeCreated( id, amount ) \n",
    "        }\n",
    "        \n",
    "        queueCQRS.enqueue( event )\n",
    "        \n",
    "    }\n",
    "    \n",
    "    private def manageQueries( queries : AccountQuery ) : Unit = queries match {\n",
    "        case GetBalance(_) => sender() !  CurrentBalance( balance )\n",
    "    }\n",
    "}\n",
    "\n",
    "\n",
    "/*\n",
    "\n",
    "#### Se crea un objeto acompañante\n",
    "Tendra las funciones necesarias para la creación de la región de sharding\n",
    "*/\n",
    "\n",
    "object ActorAccount {\n",
    "    \n",
    "    import akka.cluster.sharding.{ShardRegion, ClusterSharding, ClusterShardingSettings}\n",
    "    import akka.actor.ActorRef\n",
    "    \n",
    "    \n",
    "    def props( updateBalance : (Int, Int) => Try[Int], queueCQRS: Queue[AccountEvent] ) = Props {\n",
    "        new ActorAccount( updateBalance, queueCQRS ) \n",
    "    }        \n",
    "    \n",
    "    def extractShardId: ShardRegion.ExtractShardId = {\n",
    "        case a : AccountIn =>  ( Math.abs( a.accountId.hashCode % 3 ) ).toString\n",
    "\n",
    "    }\n",
    "\n",
    "    def  extractEntityId: ShardRegion.ExtractEntityId = {\n",
    "        case a : AccountIn =>  ( a.accountId, a)\n",
    "    }\n",
    "    \n",
    "}\n"
   ]
  },
  {
   "cell_type": "markdown",
   "metadata": {},
   "source": [
    "### Interfaz 'Cuenta'"
   ]
  },
  {
   "cell_type": "code",
   "execution_count": 7,
   "metadata": {},
   "outputs": [
    {
     "data": {
      "text/plain": [
       "\u001b[32mimport \u001b[39m\u001b[36mscala.concurrent.Future\n",
       "\n",
       "\u001b[39m\n",
       "defined \u001b[32mtrait\u001b[39m \u001b[36mAccount\u001b[39m\n",
       "defined \u001b[32mobject\u001b[39m \u001b[36mAccount\u001b[39m"
      ]
     },
     "execution_count": 7,
     "metadata": {},
     "output_type": "execute_result"
    }
   ],
   "source": [
    "import scala.concurrent.Future\n",
    "\n",
    "trait Account {\n",
    "   def makeWithdrawal( amount : Int ) : Future[ Int ] \n",
    "   def makeIncome( amount : Int ) : Future[Int] \n",
    "   def getBalance: Future[Int]\n",
    "}\n",
    "\n",
    "object Account {\n",
    "    \n",
    "    import akka.pattern._\n",
    "    import akka.actor._\n",
    "    import akka.util.Timeout\n",
    "    \n",
    "    def apply( accountId : String, accountSharding : ActorRef )\n",
    "                ( implicit ec : ExecutionContext, timeout : Timeout ) = new Account {\n",
    "      \n",
    "     def makeWithdrawal( amount : Int ) : Future[ Int] = {\n",
    "        (\n",
    "            accountSharding ? Withdrawal( accountId, amount ) \n",
    "        ).mapTo[DeltaBalance].map( _.delta )            \n",
    "     }\n",
    "\n",
    "     def makeIncome( amount : Int ) : Future[Int] = {\n",
    "         ( \n",
    "            accountSharding ? Income( accountId,  amount ) \n",
    "         ).mapTo[DeltaBalance].map( _.delta )             \n",
    "     }\n",
    "        \n",
    "      def getBalance : Future[Int] = {\n",
    "         ( \n",
    "             accountSharding ? GetBalance( accountId )\n",
    "         ). mapTo[ CurrentBalance ].map( _.balance ) \n",
    "      }\n",
    "        \n",
    "    }\n",
    "}\n",
    "\n"
   ]
  },
  {
   "cell_type": "markdown",
   "metadata": {},
   "source": [
    "### Defincición de una transferencia\n",
    "\n",
    "Se simula una operación/compensacion siguiendo el patrón sagas"
   ]
  },
  {
   "cell_type": "code",
   "execution_count": 8,
   "metadata": {},
   "outputs": [
    {
     "data": {
      "text/plain": [
       "defined \u001b[32mobject\u001b[39m \u001b[36mTransfer\u001b[39m"
      ]
     },
     "execution_count": 8,
     "metadata": {},
     "output_type": "execute_result"
    }
   ],
   "source": [
    "object Transfer {\n",
    "    \n",
    "    import scala.concurrent._\n",
    "    \n",
    "    def transfer( from : Account, to: Account )( amount : Int )( implicit ec : ExecutionContext) = {\n",
    "        \n",
    "        from.makeWithdrawal( amount ).flatMap {\n",
    "             _ => to.makeIncome( amount )\n",
    "                    .map( _ => true )\n",
    "                    .recoverWith{ \n",
    "                        case _ => from.makeIncome( amount )\n",
    "                                      .map( _=> false ) \n",
    "                    }\n",
    "        }\n",
    "        \n",
    "   }\n",
    "    \n",
    "}\n",
    "\n"
   ]
  },
  {
   "cell_type": "markdown",
   "metadata": {},
   "source": [
    "---\n",
    "\n",
    "----\n",
    "## Implementaciones"
   ]
  },
  {
   "cell_type": "markdown",
   "metadata": {},
   "source": [
    "### Lógica de negocio\n",
    "Se define una lógica de negocio simple. En este caso no se admiten descubiertos, pero por ejemplo se pueden implementar diferentes lógicas como un porcentaje de descubierto dependiendo del balance. \n",
    "> El objetivo final es que la lógica puede estar separada del actor y puede ser validada y probada aparte"
   ]
  },
  {
   "cell_type": "code",
   "execution_count": 9,
   "metadata": {},
   "outputs": [
    {
     "data": {
      "text/plain": [
       "\u001b[32mimport \u001b[39m\u001b[36mscala.util._\n",
       "\n",
       "\u001b[39m\n",
       "\u001b[36mupdateBalance\u001b[39m: (\u001b[32mInt\u001b[39m, \u001b[32mInt\u001b[39m) => \u001b[32mTry\u001b[39m[\u001b[32mInt\u001b[39m] = $sess.cmd8Wrapper$Helper$$Lambda$3409/401254090@16f7f608"
      ]
     },
     "execution_count": 9,
     "metadata": {},
     "output_type": "execute_result"
    }
   ],
   "source": [
    "import scala.util._\n",
    "\n",
    "val updateBalance : (Int,Int) => Try[Int] = ( amount, balance ) => {\n",
    "   \n",
    "    val newBalance = amount + balance\n",
    "    \n",
    "    if( newBalance >= 0 ) {\n",
    "    \n",
    "        Success( newBalance )\n",
    "        \n",
    "    } else {\n",
    "        \n",
    "        Failure( new IllegalStateException( s\"It should not be in red( ${newBalance} )\" ) )\n",
    "    }\n",
    "    \n",
    "}"
   ]
  },
  {
   "cell_type": "markdown",
   "metadata": {},
   "source": [
    "### Indirección de publicación de eventos\n",
    "Se define una cola que será la indirección de publicación de eventos.\n",
    "En este caso para esta prueba será una cola mitable de Scala.   \n",
    "> En un sistema real puede ser un akka stream con su fuente '_materializada_' en una cola"
   ]
  },
  {
   "cell_type": "code",
   "execution_count": 10,
   "metadata": {},
   "outputs": [
    {
     "data": {
      "text/plain": [
       "\u001b[32mimport \u001b[39m\u001b[36mscala.collection.mutable.Queue\n",
       "\n",
       "\u001b[39m\n",
       "\u001b[36mqueueCQRS\u001b[39m: \u001b[32mQueue\u001b[39m[\u001b[32mAccountEvent\u001b[39m] = \u001b[33mQueue\u001b[39m()"
      ]
     },
     "execution_count": 10,
     "metadata": {},
     "output_type": "execute_result"
    }
   ],
   "source": [
    "import scala.collection.mutable.Queue\n",
    "\n",
    "val queueCQRS = Queue[AccountEvent]()"
   ]
  },
  {
   "cell_type": "markdown",
   "metadata": {},
   "source": [
    "---\n",
    "\n",
    "---\n",
    "## Probandolo todo"
   ]
  },
  {
   "cell_type": "markdown",
   "metadata": {},
   "source": [
    "### _Testing: Utilidades_"
   ]
  },
  {
   "cell_type": "code",
   "execution_count": 11,
   "metadata": {
    "slideshow": {
     "slide_type": "notes"
    }
   },
   "outputs": [
    {
     "data": {
      "text/plain": [
       "defined \u001b[32mobject\u001b[39m \u001b[36mTestUtil\u001b[39m"
      ]
     },
     "execution_count": 11,
     "metadata": {},
     "output_type": "execute_result"
    }
   ],
   "source": [
    "object TestUtil {\n",
    "    \n",
    "    import scala.concurrent._, duration._\n",
    "    import akka.pattern._\n",
    "    import akka.util.Timeout\n",
    "\n",
    "\n",
    "    val tm = 5 seconds\n",
    "    val timeout = Timeout( tm )\n",
    "\n",
    "    def result[T]( future : => Future[T] ) =  Try {\n",
    "        Await.result( future, tm )\n",
    "    }\n",
    "    \n",
    "}"
   ]
  },
  {
   "cell_type": "markdown",
   "metadata": {},
   "source": [
    "---\n",
    "### Iniciando el entorno"
   ]
  },
  {
   "cell_type": "markdown",
   "metadata": {},
   "source": [
    "#### Singlenton de utilidades del sistema de actores\n",
    "\n",
    "Se crea un objeto con los métodos necesarios para crear el sistema de actores con la configuración necesaria que requiere akka sharding. También permite parar el sistema de actores de una manera ordenada.\n",
    "\n",
    "> En este caso existen dos _seed nodes_ configurados para permitir comprobar el comportamiento del cluster"
   ]
  },
  {
   "cell_type": "code",
   "execution_count": 12,
   "metadata": {},
   "outputs": [
    {
     "data": {
      "text/plain": [
       "defined \u001b[32mobject\u001b[39m \u001b[36mSystemUtil\u001b[39m"
      ]
     },
     "execution_count": 12,
     "metadata": {},
     "output_type": "execute_result"
    }
   ],
   "source": [
    "\n",
    "object SystemUtil {\n",
    "    \n",
    "    import com.typesafe.config.ConfigFactory \n",
    "    import akka.actor._\n",
    "    import akka.cluster.Cluster\n",
    "    import scala.concurrent.Future\n",
    "\n",
    "    val SystemName = \"test2\"\n",
    "    \n",
    "    val AkkaPort = 2554\n",
    "    \n",
    "    val AkkaManagementPort = 8554\n",
    "    \n",
    "    val akkaCfg =\n",
    "      s\"\"\"\n",
    "        |akka {\n",
    "        |  \n",
    "        |  remote {\n",
    "        |    netty.tcp {\n",
    "        |      hostname = \"127.0.0.1\"\n",
    "        |      port = ${AkkaPort}\n",
    "        |    }\n",
    "        |  }\n",
    "        |  \n",
    "        |  cluster {\n",
    "        |     seed-nodes = [\n",
    "        |                     \"akka.tcp://${SystemName}@127.0.0.1:2554\",\n",
    "        |                     \"akka.tcp://${SystemName}@127.0.0.1:2553\"\n",
    "        |                   ]\n",
    "        |      sharding.state-store-mode = ddata\n",
    "        |    }\n",
    "        |\n",
    "        |  actor {\n",
    "        |    provider = \"akka.cluster.ClusterActorRefProvider\"\n",
    "        |  }\n",
    "        |\n",
    "        |  management {\n",
    "        |     http {\n",
    "        |       hostname = \"127.0.0.1\"\n",
    "        |       port = ${AkkaManagementPort} \n",
    "        |     }\n",
    "        |\n",
    "        |  }\n",
    "        |\n",
    "        |}\n",
    "      \"\"\".stripMargin\n",
    "    \n",
    "    lazy val system = ActorSystem.create( SystemName, \n",
    "                                          ConfigFactory.parseString( akkaCfg ).resolve() \n",
    "                                         )\n",
    "    def terminate : Unit = {\n",
    "        val cluster = Cluster.get( system )\n",
    "        cluster.registerOnMemberRemoved( system.terminate )\n",
    "        cluster.leave( cluster.selfAddress )\n",
    "    }\n",
    "    \n",
    "}\n",
    "\n"
   ]
  },
  {
   "cell_type": "markdown",
   "metadata": {},
   "source": [
    "####  Se crea la región de cluster sharding"
   ]
  },
  {
   "cell_type": "code",
   "execution_count": 13,
   "metadata": {},
   "outputs": [
    {
     "name": "stdout",
     "output_type": "stream",
     "text": [
      "[INFO] [09/04/2018 22:17:15.737] [pool-6-thread-15] [akka.remote.Remoting] Starting remoting\n",
      "[INFO] [09/04/2018 22:17:15.931] [pool-6-thread-15] [akka.remote.Remoting] Remoting started; listening on addresses :[akka.tcp://test2@127.0.0.1:2554]\n",
      "[INFO] [09/04/2018 22:17:15.937] [pool-6-thread-15] [akka.remote.Remoting] Remoting now listens on addresses: [akka.tcp://test2@127.0.0.1:2554]\n",
      "[INFO] [09/04/2018 22:17:15.961] [pool-6-thread-15] [akka.cluster.Cluster(akka://test2)] Cluster Node [akka.tcp://test2@127.0.0.1:2554] - Starting up...\n",
      "[INFO] [09/04/2018 22:17:16.117] [pool-6-thread-15] [akka.cluster.Cluster(akka://test2)] Cluster Node [akka.tcp://test2@127.0.0.1:2554] - Registered cluster JMX MBean [akka:type=Cluster]\n",
      "[INFO] [09/04/2018 22:17:16.118] [pool-6-thread-15] [akka.cluster.Cluster(akka://test2)] Cluster Node [akka.tcp://test2@127.0.0.1:2554] - Started up successfully\n",
      "[WARN] [09/04/2018 22:17:16.318] [New I/O boss #3] [NettyTransport(akka://test2)] Remote connection to [null] failed with java.net.ConnectException: Connection refused: /127.0.0.1:2553\n",
      "[WARN] [09/04/2018 22:17:16.342] [test2-akka.remote.default-remote-dispatcher-7] [akka.tcp://test2@127.0.0.1:2554/system/endpointManager/reliableEndpointWriter-akka.tcp%3A%2F%2Ftest2%40127.0.0.1%3A2553-0] Association with remote system [akka.tcp://test2@127.0.0.1:2553] has failed, address is now gated for [5000] ms. Reason: [Association failed with [akka.tcp://test2@127.0.0.1:2553]] Caused by: [Connection refused: /127.0.0.1:2553]\n",
      "[INFO] [09/04/2018 22:17:16.352] [test2-akka.actor.default-dispatcher-2] [akka://test2/deadLetters] Message [akka.cluster.InternalClusterAction$InitJoin] from Actor[akka://test2/system/cluster/core/daemon/firstSeedNodeProcess-1#826057960] to Actor[akka://test2/deadLetters] was not delivered. [1] dead letters encountered. If this is not an expected behavior, then [Actor[akka://test2/deadLetters]] may have terminated unexpectedly, This logging can be turned off or adjusted with configuration settings 'akka.log-dead-letters' and 'akka.log-dead-letters-during-shutdown'.\n"
     ]
    },
    {
     "data": {
      "text/plain": [
       "\u001b[32mimport \u001b[39m\u001b[36makka.cluster.sharding.{ClusterSharding, ClusterShardingSettings}\n",
       "\u001b[39m\n",
       "\u001b[32mimport \u001b[39m\u001b[36makka.actor.ActorRef\n",
       "\n",
       "\u001b[39m\n",
       "\u001b[36maccountsSharding\u001b[39m: \u001b[32mActorRef\u001b[39m = Actor[akka://test2/system/sharding/accounts#-1643427668]"
      ]
     },
     "execution_count": 13,
     "metadata": {},
     "output_type": "execute_result"
    }
   ],
   "source": [
    "import akka.cluster.sharding.{ClusterSharding, ClusterShardingSettings}\n",
    "import akka.actor.ActorRef\n",
    "\n",
    "val accountsSharding : ActorRef = ClusterSharding( SystemUtil.system ).start(\n",
    "      typeName = \"accounts\",\n",
    "      entityProps = ActorAccount.props( updateBalance, queueCQRS ),\n",
    "      settings = ClusterShardingSettings( SystemUtil.system ),\n",
    "      extractShardId = ActorAccount.extractShardId,\n",
    "      extractEntityId = ActorAccount.extractEntityId\n",
    "    )"
   ]
  },
  {
   "cell_type": "markdown",
   "metadata": {},
   "source": [
    "#### Se crean dos 'entidades' cuenta"
   ]
  },
  {
   "cell_type": "code",
   "execution_count": 14,
   "metadata": {},
   "outputs": [
    {
     "data": {
      "text/plain": [
       "\u001b[36maccountOne\u001b[39m: \u001b[32mAnyRef\u001b[39m with \u001b[32mAccount\u001b[39m = $sess.cmd6Wrapper$Helper$Account$$anon$1@56309941\n",
       "\u001b[36maccountTwo\u001b[39m: \u001b[32mAnyRef\u001b[39m with \u001b[32mAccount\u001b[39m = $sess.cmd6Wrapper$Helper$Account$$anon$1@5bad7878"
      ]
     },
     "execution_count": 14,
     "metadata": {},
     "output_type": "execute_result"
    }
   ],
   "source": [
    "val accountOne = Account( \"accountOne\", accountsSharding )\n",
    "val accountTwo = Account( \"accountTwo\", accountsSharding )"
   ]
  },
  {
   "cell_type": "markdown",
   "metadata": {},
   "source": [
    "#### Se hace un ingreso incial a las dos cuentas\n",
    "\n",
    "Después se comprueba el balance y se obtiene el total del dinero (la suma de los dos balances)\n",
    "\n",
    "> Aquí se hace `Await` sólo por motivos de testing"
   ]
  },
  {
   "cell_type": "code",
   "execution_count": 15,
   "metadata": {},
   "outputs": [
    {
     "data": {
      "text/plain": [
       "\u001b[36mres14\u001b[39m: \u001b[32mTry\u001b[39m[(\u001b[32mInt\u001b[39m, \u001b[32mInt\u001b[39m, \u001b[32mInt\u001b[39m)] = \u001b[33mSuccess\u001b[39m((\u001b[32m1000\u001b[39m, \u001b[32m1000\u001b[39m, \u001b[32m2000\u001b[39m))"
      ]
     },
     "execution_count": 15,
     "metadata": {},
     "output_type": "execute_result"
    }
   ],
   "source": [
    "\n",
    "TestUtil.result{\n",
    "    for {\n",
    "        _  <- accountOne.makeIncome( 1000 )\n",
    "        _  <- accountTwo.makeIncome( 1000 ) \n",
    "        b1 <- accountOne.getBalance  \n",
    "        b2 <- accountTwo.getBalance \n",
    "    } yield {( b1, b2, b1 + b2 )}\n",
    "    \n",
    "}"
   ]
  },
  {
   "cell_type": "markdown",
   "metadata": {},
   "source": [
    "#### Se comprueban los eventos"
   ]
  },
  {
   "cell_type": "code",
   "execution_count": 16,
   "metadata": {},
   "outputs": [
    {
     "data": {
      "text/plain": [
       "\u001b[36mres15_0\u001b[39m: \u001b[32mList\u001b[39m[\u001b[32mAccountEvent\u001b[39m] = \u001b[33mList\u001b[39m(IncomeCreated(accountOne,1000), IncomeCreated(accountTwo,1000))"
      ]
     },
     "execution_count": 16,
     "metadata": {},
     "output_type": "execute_result"
    }
   ],
   "source": [
    "queueCQRS.toList ; queueCQRS.clear"
   ]
  },
  {
   "cell_type": "markdown",
   "metadata": {},
   "source": [
    "---\n",
    "### _Probando, probando_"
   ]
  },
  {
   "cell_type": "markdown",
   "metadata": {},
   "source": [
    "#### Funciones de utilidades\n",
    "Para poder testear transferencias de una cuenta a otra de una manera más cómoda"
   ]
  },
  {
   "cell_type": "code",
   "execution_count": 17,
   "metadata": {},
   "outputs": [
    {
     "data": {
      "text/plain": [
       "\u001b[36mtransfersOneToTwo\u001b[39m: \u001b[32mInt\u001b[39m => \u001b[32mFuture\u001b[39m[\u001b[32mBoolean\u001b[39m] = $sess.cmd16Wrapper$Helper$$Lambda$4119/2098623858@1b60cff4\n",
       "\u001b[36mtransfersTwoToOne\u001b[39m: \u001b[32mInt\u001b[39m => \u001b[32mFuture\u001b[39m[\u001b[32mBoolean\u001b[39m] = $sess.cmd16Wrapper$Helper$$Lambda$4120/958369353@5edc1284"
      ]
     },
     "execution_count": 17,
     "metadata": {},
     "output_type": "execute_result"
    }
   ],
   "source": [
    "val transfersOneToTwo =  Transfer.transfer( accountOne, accountTwo)( _ )\n",
    "val transfersTwoToOne =  Transfer.transfer( accountTwo, accountOne)( _ )"
   ]
  },
  {
   "cell_type": "markdown",
   "metadata": {},
   "source": [
    "#### Primera prueba"
   ]
  },
  {
   "cell_type": "code",
   "execution_count": 18,
   "metadata": {
    "scrolled": true
   },
   "outputs": [
    {
     "data": {
      "text/plain": [
       "\u001b[36mres17\u001b[39m: \u001b[32mTry\u001b[39m[\u001b[32mBoolean\u001b[39m] = \u001b[33mSuccess\u001b[39m(\u001b[32mtrue\u001b[39m)"
      ]
     },
     "execution_count": 18,
     "metadata": {},
     "output_type": "execute_result"
    }
   ],
   "source": [
    "TestUtil.result{\n",
    "       for {\n",
    "           a <- transfersOneToTwo( 500 ) \n",
    "           b <- transfersTwoToOne( 500 ) \n",
    "       } yield( a && b )\n",
    "}"
   ]
  },
  {
   "cell_type": "markdown",
   "metadata": {},
   "source": [
    "#### Se vuelen a compruebar los balances\n",
    "\n",
    "> `Await` sólo por motivos de testing"
   ]
  },
  {
   "cell_type": "code",
   "execution_count": 19,
   "metadata": {},
   "outputs": [
    {
     "data": {
      "text/plain": [
       "\u001b[36mres18\u001b[39m: \u001b[32mTry\u001b[39m[(\u001b[32mInt\u001b[39m, \u001b[32mInt\u001b[39m, \u001b[32mInt\u001b[39m)] = \u001b[33mSuccess\u001b[39m((\u001b[32m1000\u001b[39m, \u001b[32m1000\u001b[39m, \u001b[32m2000\u001b[39m))"
      ]
     },
     "execution_count": 19,
     "metadata": {},
     "output_type": "execute_result"
    }
   ],
   "source": [
    "TestUtil.result {\n",
    "    for {\n",
    "        b1 <- accountOne.getBalance\n",
    "        b2 <- accountTwo.getBalance  \n",
    "    } yield{  (b1, b2, b1 +b2) }    \n",
    "}"
   ]
  },
  {
   "cell_type": "markdown",
   "metadata": {},
   "source": [
    "#### Se vuelven a comprobar los eventos"
   ]
  },
  {
   "cell_type": "code",
   "execution_count": 20,
   "metadata": {},
   "outputs": [
    {
     "data": {
      "text/plain": [
       "\u001b[36mres19_0\u001b[39m: \u001b[32mList\u001b[39m[\u001b[32mAccountEvent\u001b[39m] = \u001b[33mList\u001b[39m(\n",
       "  WithdrawalCreated(accountOne,500),\n",
       "  IncomeCreated(accountTwo,500),\n",
       "  WithdrawalCreated(accountTwo,500),\n",
       "  IncomeCreated(accountOne,500)\n",
       ")"
      ]
     },
     "execution_count": 20,
     "metadata": {},
     "output_type": "execute_result"
    }
   ],
   "source": [
    "queueCQRS.toList ; queueCQRS.clear"
   ]
  },
  {
   "cell_type": "markdown",
   "metadata": {},
   "source": [
    "---\n",
    "### Bonus track\n"
   ]
  },
  {
   "cell_type": "markdown",
   "metadata": {},
   "source": [
    "#### Akka management"
   ]
  },
  {
   "cell_type": "markdown",
   "metadata": {},
   "source": [
    "Se arranca akka-management. En este caso arranca un api rest en el puerto definido en `AkkaManagementPort` en `SystemUtil`"
   ]
  },
  {
   "cell_type": "code",
   "execution_count": 21,
   "metadata": {},
   "outputs": [
    {
     "data": {
      "text/plain": [
       "\u001b[32mimport \u001b[39m\u001b[36makka.management.AkkaManagement\n",
       "\n",
       "\u001b[39m\n",
       "\u001b[36mres20_1\u001b[39m: \u001b[32mTry\u001b[39m[\u001b[32makka\u001b[39m.\u001b[32mhttp\u001b[39m.\u001b[32mscaladsl\u001b[39m.\u001b[32mmodel\u001b[39m.\u001b[32mUri\u001b[39m] = \u001b[33mSuccess\u001b[39m(http://127.0.0.1:8554)"
      ]
     },
     "execution_count": 21,
     "metadata": {},
     "output_type": "execute_result"
    }
   ],
   "source": [
    "import akka.management.AkkaManagement\n",
    "\n",
    "TestUtil.result {\n",
    "    AkkaManagement( SystemUtil.system ).start()    \n",
    "}\n",
    "\n"
   ]
  },
  {
   "cell_type": "markdown",
   "metadata": {},
   "source": [
    "#### Escuchar eventos del estado del cluster"
   ]
  },
  {
   "cell_type": "markdown",
   "metadata": {},
   "source": [
    "Actor '_listener_' que escucha los eventos del cluster `MemberEvent` y `ReachabilityEvent` y los almacena en una variable.\n",
    "\n",
    "Se puede obtener esa información eviando un mensaje del tipo `GetClusterStateEvent`. Después de devolver estos datos se incializa la variable."
   ]
  },
  {
   "cell_type": "code",
   "execution_count": 22,
   "metadata": {},
   "outputs": [
    {
     "data": {
      "text/plain": [
       "defined \u001b[32mtrait\u001b[39m \u001b[36mEventClusterListenerIn\u001b[39m\n",
       "defined \u001b[32mobject\u001b[39m \u001b[36mGetClusterStateEvent\u001b[39m\n",
       "defined \u001b[32mclass\u001b[39m \u001b[36mEventClusterListener\u001b[39m"
      ]
     },
     "execution_count": 22,
     "metadata": {},
     "output_type": "execute_result"
    }
   ],
   "source": [
    "sealed trait EventClusterListenerIn \n",
    "final case object GetClusterStateEvent extends EventClusterListenerIn\n",
    "\n",
    "class EventClusterListener extends Actor {\n",
    "    \n",
    "    import akka.cluster.Cluster\n",
    "    \n",
    "    import akka.cluster.ClusterEvent._\n",
    "    \n",
    "    val cluster = Cluster( context.system  )\n",
    "    \n",
    "    cluster.subscribe(self, \n",
    "                      initialStateMode = InitialStateAsEvents, \n",
    "                      classOf[MemberEvent], \n",
    "                      classOf[ReachabilityEvent] )\n",
    "    \n",
    "    var listDomain = Set[ClusterDomainEvent]()       \n",
    "    \n",
    "    \n",
    "    override def receive = {\n",
    "        \n",
    "        case a : ClusterDomainEvent => {\n",
    "            listDomain = listDomain + a\n",
    "        }\n",
    "        \n",
    "        case GetClusterStateEvent => {\n",
    "            sender() ! listDomain\n",
    "            listDomain = Set()\n",
    "        }       \n",
    "    }\n",
    "    \n",
    "}\n"
   ]
  },
  {
   "cell_type": "markdown",
   "metadata": {},
   "source": [
    "Se crea un objeto que envuelve al actor para gestionar estos mensajes"
   ]
  },
  {
   "cell_type": "code",
   "execution_count": 23,
   "metadata": {},
   "outputs": [
    {
     "data": {
      "text/plain": [
       "defined \u001b[32mobject\u001b[39m \u001b[36mEventClusterListener\u001b[39m"
      ]
     },
     "execution_count": 23,
     "metadata": {},
     "output_type": "execute_result"
    }
   ],
   "source": [
    "object EventClusterListener {\n",
    "    \n",
    "    import akka.pattern._\n",
    "    import akka.actor._\n",
    "    import akka.util.Timeout\n",
    "    \n",
    "    import akka.cluster.ClusterEvent._\n",
    "    \n",
    "    lazy val listener = SystemUtil.system.actorOf( Props( new EventClusterListener() ) )\n",
    "    \n",
    "     def getEvents: Future[Set[ClusterDomainEvent]] = {\n",
    "       ( listener ? GetClusterStateEvent ) .mapTo[Set[ClusterDomainEvent]]           \n",
    "     }\n",
    "}\n",
    "\n"
   ]
  },
  {
   "cell_type": "markdown",
   "metadata": {},
   "source": [
    "Se obtienes los eventos escuchados por este nodo\n",
    "\n",
    "> Se utiliza `TestUtil` por motivos de testing"
   ]
  },
  {
   "cell_type": "code",
   "execution_count": 26,
   "metadata": {
    "scrolled": true
   },
   "outputs": [
    {
     "data": {
      "text/plain": [
       "\u001b[36mres25\u001b[39m: \u001b[32mTry\u001b[39m[\u001b[32mSet\u001b[39m[\u001b[32makka\u001b[39m.\u001b[32mcluster\u001b[39m.\u001b[32mClusterEvent\u001b[39m.\u001b[32mClusterDomainEvent\u001b[39m]] = \u001b[33mSuccess\u001b[39m(\u001b[33mSet\u001b[39m())"
      ]
     },
     "execution_count": 26,
     "metadata": {},
     "output_type": "execute_result"
    }
   ],
   "source": [
    "TestUtil.result {\n",
    "   EventClusterListener.getEvents\n",
    "}"
   ]
  }
 ],
 "metadata": {
  "kernelspec": {
   "display_name": "Scala (2.12)",
   "language": "scala",
   "name": "scala_2_12"
  },
  "language_info": {
   "codemirror_mode": "text/x-scala",
   "file_extension": ".scala",
   "mimetype": "text/x-scala",
   "name": "scala212",
   "nbconvert_exporter": "script",
   "pygments_lexer": "scala",
   "version": "2.12.2"
  }
 },
 "nbformat": 4,
 "nbformat_minor": 2
}
