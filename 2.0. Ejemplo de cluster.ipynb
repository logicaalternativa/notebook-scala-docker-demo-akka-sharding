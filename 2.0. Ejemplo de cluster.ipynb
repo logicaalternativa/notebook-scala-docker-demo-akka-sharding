{
 "cells": [
  {
   "cell_type": "markdown",
   "metadata": {},
   "source": [
    "# Ejemplo final\n",
    "\n",
    "Implementamos el mismo ejemplo anterior pero esta vez utilizando **cluster sharding**.\n",
    "\n",
    "## Índice\n",
    "- Protocolo de mensajería\n",
    "  + De entrada\n",
    "  + De salida\n",
    "  + Eventos\n",
    "- Cuentas y transferencias\n",
    "  + Actor cuenta\n",
    "    - Funciones, a partir del mensaje: \n",
    "      + Id de cuenta a partir del mensaje\n",
    "      + Región de sharding a partir del mensaje\n",
    "  + Interfaz cuenta\n",
    "  + Definición de una transferencia\n",
    "- Implementaciones\n",
    "  + Logica de negocio: actualización del balance\n",
    "  + Publicación de eventos\n",
    "- Probandolo todo\n",
    "  + Se crea el sistema de actores con la configuración necesaria\n",
    "  + Se crea la región de cluster sharding\n",
    "- Bonus track\n",
    "  + Utilizar `akka-management`\n",
    "  + Escuchar los eventos del cluster "
   ]
  },
  {
   "cell_type": "markdown",
   "metadata": {},
   "source": [
    "###  Se importan la librerías de akka \n",
    "\n",
    "> Ahora se importan las librerías de cluster sharding"
   ]
  },
  {
   "cell_type": "code",
   "execution_count": null,
   "metadata": {},
   "outputs": [],
   "source": [
    "import $ivy.`com.typesafe.akka::akka-cluster-sharding:2.5.14`\n",
    "import $ivy.`com.lightbend.akka.management::akka-management:0.17.0`\n",
    "import $ivy.`com.lightbend.akka.management::akka-management-cluster-http:0.17.0`"
   ]
  },
  {
   "cell_type": "markdown",
   "metadata": {},
   "source": [
    "### Implicitos necesarios"
   ]
  },
  {
   "cell_type": "code",
   "execution_count": null,
   "metadata": {},
   "outputs": [],
   "source": [
    "import scala.concurrent.ExecutionContext \n",
    "import java.util.concurrent.Executors\n",
    "import akka.util.Timeout\n",
    "import scala.concurrent.duration._\n",
    "\n",
    "implicit val ec  = ExecutionContext.fromExecutorService( Executors.newFixedThreadPool( 10 ) )\n",
    "implicit val timeout = Timeout( 5 seconds )   \n",
    "\n",
    "object Types {\n",
    "    \n",
    "   type Balance = Int\n",
    "   type Amount  = Int\n",
    "   type IdAccount = String\n",
    "}\n"
   ]
  },
  {
   "cell_type": "markdown",
   "metadata": {},
   "source": [
    "---\n",
    "\n",
    "---\n",
    "## Se define el protocolo de mensajería\n",
    "\n",
    "### Protocolo de entrada"
   ]
  },
  {
   "cell_type": "code",
   "execution_count": null,
   "metadata": {},
   "outputs": [],
   "source": [
    "import Types._\n",
    "\n",
    "sealed trait AccountIn {\n",
    "    val accountId : IdAccount\n",
    "}\n",
    "\n",
    "// Commands\n",
    "\n",
    "sealed trait AccountCommand extends AccountIn { \n",
    "    val amount : Amount\n",
    "}\n",
    "\n",
    "final case class Withdrawal(accountId : IdAccount, amount : Amount) extends AccountCommand \n",
    "final case class Income(accountId : IdAccount, amount : Amount) extends AccountCommand \n",
    "\n",
    "\n",
    "// Queries\n",
    "\n",
    "sealed trait AccountQuery extends AccountIn\n",
    "\n",
    "final case class GetBalance(accountId : IdAccount) extends AccountQuery"
   ]
  },
  {
   "cell_type": "markdown",
   "metadata": {},
   "source": [
    "### Protocolo de salida"
   ]
  },
  {
   "cell_type": "code",
   "execution_count": null,
   "metadata": {},
   "outputs": [],
   "source": [
    "import Types._ \n",
    "\n",
    "sealed trait AccountOut\n",
    "\n",
    "final case class CurrentBalance( balance: Balance ) extends AccountOut"
   ]
  },
  {
   "cell_type": "markdown",
   "metadata": {},
   "source": [
    "### Eventos"
   ]
  },
  {
   "cell_type": "code",
   "execution_count": null,
   "metadata": {},
   "outputs": [],
   "source": [
    "import Types._ \n",
    "\n",
    "sealed trait AccountEvent {    \n",
    "    val idAccount : IdAccount\n",
    "    val amount: Amount\n",
    "}\n",
    "\n",
    "case class WithdrawalCreated( \n",
    "                                val idAccount: IdAccount, \n",
    "                                val amount : Amount\n",
    "                            ) extends AccountEvent\n",
    "case class IncomeCreated( \n",
    "                            val idAccount: IdAccount, \n",
    "                            val amount : Amount\n",
    "                        ) extends AccountEvent"
   ]
  },
  {
   "cell_type": "markdown",
   "metadata": {},
   "source": [
    "---\n",
    "\n",
    "---\n",
    "## Cuentas y transferencias\n",
    "### Actor 'Cuenta'"
   ]
  },
  {
   "cell_type": "code",
   "execution_count": null,
   "metadata": {},
   "outputs": [],
   "source": [
    "import akka.actor._\n",
    "import scala.collection.mutable.Queue\n",
    "import scala.util._\n",
    "import Types._\n",
    "\n",
    "class ActorAccount( \n",
    "                    private val updateBalance : (Amount, Balance) => Try[Balance], \n",
    "                    private val queueCQRS: Queue[AccountEvent] \n",
    "                 ) extends Actor {\n",
    "    \n",
    "    val id = self.path.name\n",
    "    \n",
    "    var balance : Int = 0\n",
    "    \n",
    "    override def receive = {\n",
    "        \n",
    "        case command : AccountCommand => manageCommads( command )\n",
    "        case querry  : AccountQuery   => manageQueries( querry )\n",
    "        case other                    => unhandled( other )\n",
    "        \n",
    "    }\n",
    "    \n",
    "    private def manageCommads( command: AccountCommand ) : Unit = {\n",
    "        \n",
    "        command match {\n",
    "            case Withdrawal(_, amount ) => execUpdateBalance( -1 * amount, command)\n",
    "            case Income( _, amount )     => execUpdateBalance( amount, command )\n",
    "            \n",
    "        }           \n",
    "        \n",
    "    }\n",
    "    \n",
    "    private def execUpdateBalance( amount : Amount, command : AccountCommand) = {        \n",
    "        updateBalance( amount, balance ) match {            \n",
    "            case Success( newBalance ) => {\n",
    "                balance = newBalance\n",
    "                responseBalance\n",
    "                sendEvent( command )\n",
    "            }\n",
    "            case Failure(  error ) => sender() ! Status.Failure( error )         \n",
    "        }\n",
    "    }\n",
    "    \n",
    "    private def sendEvent( command: AccountCommand ) {\n",
    "        \n",
    "        val event : AccountEvent = command match {\n",
    "            case Withdrawal(_, amount ) => WithdrawalCreated( id, amount ) \n",
    "            case Income( _, amount )     => IncomeCreated( id, amount ) \n",
    "        }\n",
    "        \n",
    "        queueCQRS.enqueue( event )\n",
    "        \n",
    "    }\n",
    "    \n",
    "    private def manageQueries( queries : AccountQuery ) : Unit = queries match {\n",
    "        case GetBalance(_) => sender() !  CurrentBalance( balance )\n",
    "    }\n",
    "    \n",
    "    private def responseBalance() = sender() !  CurrentBalance( balance )    \n",
    "}\n",
    "\n",
    "\n",
    "/*\n",
    "\n",
    "#### Se crea un objeto acompañante\n",
    "Tendra las funciones necesarias para la creación de la región de sharding\n",
    "*/\n",
    "\n",
    "object ActorAccount {\n",
    "    \n",
    "    import akka.cluster.sharding.{ShardRegion, ClusterSharding, ClusterShardingSettings}\n",
    "    import akka.actor.ActorRef\n",
    "    \n",
    "    \n",
    "    def props( updateBalance : (Amount, Balance) => Try[Balance], queueCQRS: Queue[AccountEvent] ) = Props {\n",
    "        new ActorAccount( updateBalance, queueCQRS ) \n",
    "    }        \n",
    "    \n",
    "    def extractShardId: ShardRegion.ExtractShardId = {\n",
    "        case a : AccountIn =>  ( Math.abs( a.accountId.hashCode % 3 ) ).toString\n",
    "\n",
    "    }\n",
    "\n",
    "    def  extractEntityId: ShardRegion.ExtractEntityId = {\n",
    "        case a : AccountIn =>  ( a.accountId, a)\n",
    "    }\n",
    "    \n",
    "}\n"
   ]
  },
  {
   "cell_type": "markdown",
   "metadata": {},
   "source": [
    "### Interfaz 'Cuenta'"
   ]
  },
  {
   "cell_type": "code",
   "execution_count": null,
   "metadata": {},
   "outputs": [],
   "source": [
    "import scala.concurrent.Future\n",
    "import Types._\n",
    "\n",
    "trait Account[P[_]] {\n",
    "   def makeWithdrawal( amount : Amount ) : P[Balance] \n",
    "   def makeIncome( amount : Amount ) : P[Balance] \n",
    "   def getBalance: P[Balance]\n",
    "}\n",
    "\n",
    "object Account {\n",
    "    \n",
    "    import akka.pattern._\n",
    "    import akka.actor._\n",
    "    import akka.util.Timeout\n",
    "    \n",
    "    private def toBalance( responseActor : Future[Any] )( implicit ec : ExecutionContext ) : Future[Balance] = {\n",
    "        responseActor.mapTo[CurrentBalance].map( _.balance )\n",
    "    }\n",
    "    \n",
    "    def apply( accountId : String, accountSharding : ActorRef )\n",
    "                ( implicit ec : ExecutionContext, timeout : Timeout ) = new Account[Future] {\n",
    "      \n",
    "         def makeWithdrawal( amount : Int ) : Future[ Int] = toBalance {\n",
    "            accountSharding ? Withdrawal( accountId, amount )\n",
    "         }\n",
    "\n",
    "         def makeIncome( amount : Int ) : Future[Int] = toBalance {\n",
    "             accountSharding ? Income( accountId,  amount ) \n",
    "         }\n",
    "\n",
    "         def getBalance : Future[Int] = toBalance {\n",
    "             accountSharding ? GetBalance( accountId )\n",
    "         }\n",
    "        \n",
    "    }\n",
    "}\n",
    "\n"
   ]
  },
  {
   "cell_type": "markdown",
   "metadata": {},
   "source": [
    "### Defincición de una transferencia\n",
    "\n",
    "Se simula una operación/compensacion siguiendo el patrón sagas"
   ]
  },
  {
   "cell_type": "code",
   "execution_count": null,
   "metadata": {},
   "outputs": [],
   "source": [
    "import Types._\n",
    "\n",
    "object Transfer {\n",
    "    \n",
    "    import scala.concurrent._\n",
    "    \n",
    "    def transfer( from : Account[Future], to: Account[Future] )( amount : Amount )( implicit ec : ExecutionContext) = {\n",
    "        \n",
    "        for {\n",
    "            \n",
    "             _  <- from.makeWithdrawal( amount ) \n",
    "            res <- to.makeIncome( amount )\n",
    "                    .map( _ => true )\n",
    "                    .recoverWith{ \n",
    "                        case _ => from.makeIncome( amount ).map( _=> false ) \n",
    "                    }\n",
    "        } yield( res )\n",
    "        \n",
    "   }\n",
    "    \n",
    "}"
   ]
  },
  {
   "cell_type": "markdown",
   "metadata": {},
   "source": [
    "---\n",
    "\n",
    "----\n",
    "## Implementaciones"
   ]
  },
  {
   "cell_type": "markdown",
   "metadata": {},
   "source": [
    "### Lógica de negocio\n",
    "Se define una lógica de negocio simple. En este caso no se admiten descubiertos, pero por ejemplo se pueden implementar diferentes lógicas como un porcentaje de descubierto dependiendo del balance. \n",
    "> El objetivo final es que la lógica puede estar separada del actor y puede ser validada y probada aparte"
   ]
  },
  {
   "cell_type": "code",
   "execution_count": null,
   "metadata": {},
   "outputs": [],
   "source": [
    "import scala.util._\n",
    "import Types._\n",
    "\n",
    "implicit val updateBalance : (Amount,Balance) => Try[Balance] = ( amount, balance ) => {\n",
    "   \n",
    "    val newBalance = amount + balance\n",
    "    \n",
    "    if( newBalance >= 0 ) {\n",
    "    \n",
    "        Success( newBalance )\n",
    "        \n",
    "    } else {\n",
    "        \n",
    "        Failure( new IllegalStateException( s\"It should not be in red( ${newBalance} )\" ) )\n",
    "    }\n",
    "    \n",
    "}"
   ]
  },
  {
   "cell_type": "markdown",
   "metadata": {},
   "source": [
    "### Indirección de publicación de eventos\n",
    "Se define una cola que será la indirección de publicación de eventos.\n",
    "En este caso para esta prueba será una cola mitable de Scala.   \n",
    "> En un sistema real puede ser un akka stream con su fuente '_materializada_' en una cola"
   ]
  },
  {
   "cell_type": "code",
   "execution_count": null,
   "metadata": {},
   "outputs": [],
   "source": [
    "import scala.collection.mutable.Queue\n",
    "\n",
    "val queueCQRS = Queue[AccountEvent]()"
   ]
  },
  {
   "cell_type": "markdown",
   "metadata": {},
   "source": [
    "---\n",
    "\n",
    "---\n",
    "## Probandolo todo"
   ]
  },
  {
   "cell_type": "markdown",
   "metadata": {},
   "source": [
    "### _Testing: Utilidades_\n",
    "\n",
    "> **Sólo para motivos de testing**. Espera el resultado de un futuro"
   ]
  },
  {
   "cell_type": "code",
   "execution_count": null,
   "metadata": {
    "slideshow": {
     "slide_type": "notes"
    }
   },
   "outputs": [],
   "source": [
    "object TestUtil {\n",
    "    \n",
    "    import scala.concurrent._, duration._\n",
    "    import akka.pattern._\n",
    "    import akka.util.Timeout\n",
    "\n",
    "\n",
    "    val tm = 5 seconds\n",
    "    val timeout = Timeout( tm )\n",
    "\n",
    "    def result[T]( future : => Future[T] ) =  Try {\n",
    "        Await.result( future, tm )\n",
    "    }\n",
    "    \n",
    "}"
   ]
  },
  {
   "cell_type": "markdown",
   "metadata": {},
   "source": [
    "---\n",
    "### Iniciando el entorno"
   ]
  },
  {
   "cell_type": "markdown",
   "metadata": {},
   "source": [
    "#### Singlenton de utilidades del sistema de actores\n",
    "\n",
    "Se crea un objeto con los métodos necesarios para crear el sistema de actores con la configuración necesaria que requiere akka sharding. También permite parar el sistema de actores de una manera ordenada.\n",
    "\n",
    "> En este caso existen dos _seed nodes_ configurados para permitir comprobar el comportamiento del cluster"
   ]
  },
  {
   "cell_type": "code",
   "execution_count": null,
   "metadata": {},
   "outputs": [],
   "source": [
    "\n",
    "object SystemUtil {\n",
    "    \n",
    "    import com.typesafe.config.ConfigFactory \n",
    "    import akka.actor._\n",
    "    import akka.cluster.Cluster\n",
    "    import scala.concurrent.Future\n",
    "\n",
    "    val SystemName = \"test2\"\n",
    "    \n",
    "    val AkkaPort = 2554\n",
    "    \n",
    "    val AkkaManagementPort = 8554\n",
    "    \n",
    "    val akkaCfg =\n",
    "      s\"\"\"\n",
    "        |akka {\n",
    "        |  \n",
    "        |  remote {\n",
    "        |    netty.tcp {\n",
    "        |      hostname = \"127.0.0.1\"\n",
    "        |      port = ${AkkaPort}\n",
    "        |    }\n",
    "        |  }\n",
    "        |  \n",
    "        |  cluster {\n",
    "        |     seed-nodes = [\n",
    "        |                     \"akka.tcp://${SystemName}@127.0.0.1:2554\",\n",
    "        |                     \"akka.tcp://${SystemName}@127.0.0.1:2553\"\n",
    "        |                   ]\n",
    "        |      sharding.state-store-mode = ddata\n",
    "        |    }\n",
    "        |\n",
    "        |  actor {\n",
    "        |    provider = \"akka.cluster.ClusterActorRefProvider\"\n",
    "        |  }\n",
    "        |\n",
    "        |  management {\n",
    "        |     http {\n",
    "        |       hostname = \"127.0.0.1\"\n",
    "        |       port = ${AkkaManagementPort} \n",
    "        |     }\n",
    "        |\n",
    "        |  }\n",
    "        |\n",
    "        |}\n",
    "      \"\"\".stripMargin\n",
    "    \n",
    "    lazy val system = ActorSystem.create( SystemName, \n",
    "                                          ConfigFactory.parseString( akkaCfg ).resolve() \n",
    "                                         )\n",
    "    def terminate : Unit = {\n",
    "        val cluster = Cluster.get( system )\n",
    "        cluster.registerOnMemberRemoved( system.terminate )\n",
    "        cluster.leave( cluster.selfAddress )\n",
    "    }\n",
    "    \n",
    "}\n",
    "\n"
   ]
  },
  {
   "cell_type": "markdown",
   "metadata": {},
   "source": [
    "####  Se crea la región de cluster sharding"
   ]
  },
  {
   "cell_type": "code",
   "execution_count": null,
   "metadata": {},
   "outputs": [],
   "source": [
    "import akka.cluster.sharding.{ClusterSharding, ClusterShardingSettings}\n",
    "import akka.actor.ActorRef\n",
    "\n",
    "val accountsSharding : ActorRef = ClusterSharding( SystemUtil.system ).start(\n",
    "      typeName = \"accounts\",\n",
    "      entityProps = ActorAccount.props( updateBalance, queueCQRS ),\n",
    "      settings = ClusterShardingSettings( SystemUtil.system ),\n",
    "      extractShardId = ActorAccount.extractShardId,\n",
    "      extractEntityId = ActorAccount.extractEntityId\n",
    "    )"
   ]
  },
  {
   "cell_type": "markdown",
   "metadata": {},
   "source": [
    "#### Se crean dos 'entidades' cuenta"
   ]
  },
  {
   "cell_type": "code",
   "execution_count": null,
   "metadata": {},
   "outputs": [],
   "source": [
    "val accountOne = Account( \"accountOne\", accountsSharding )\n",
    "val accountTwo = Account( \"accountTwo\", accountsSharding )"
   ]
  },
  {
   "cell_type": "markdown",
   "metadata": {},
   "source": [
    "#### Se hace un ingreso incial a las dos cuentas\n",
    "\n",
    "Se obtiene el resutlado de los dos balances y se calcula el total del dinero (la suma de los dos balances)\n",
    "\n",
    "> Aquí se hace `Await` sólo por motivos de testing"
   ]
  },
  {
   "cell_type": "code",
   "execution_count": null,
   "metadata": {},
   "outputs": [],
   "source": [
    "\n",
    "TestUtil.result{\n",
    "    \n",
    "    accountOne.makeIncome( 1000 ).zipWith( accountTwo.makeIncome( 1000 ) ){\n",
    "        ( b1, b2 ) => (b1, b2, b1 +b2) \n",
    "    }\n",
    "    \n",
    "}"
   ]
  },
  {
   "cell_type": "markdown",
   "metadata": {},
   "source": [
    "#### Se comprueban los eventos"
   ]
  },
  {
   "cell_type": "code",
   "execution_count": null,
   "metadata": {},
   "outputs": [],
   "source": [
    "queueCQRS.toList ; queueCQRS.clear"
   ]
  },
  {
   "cell_type": "markdown",
   "metadata": {},
   "source": [
    "---\n",
    "### _Probando, probando_"
   ]
  },
  {
   "cell_type": "markdown",
   "metadata": {},
   "source": [
    "#### Funciones de utilidades\n",
    "Para poder testear transferencias de una cuenta a otra de una manera más cómoda"
   ]
  },
  {
   "cell_type": "code",
   "execution_count": null,
   "metadata": {},
   "outputs": [],
   "source": [
    "val transfersOneToTwo =  Transfer.transfer( accountOne, accountTwo)( _ )\n",
    "val transfersTwoToOne =  Transfer.transfer( accountTwo, accountOne)( _ )"
   ]
  },
  {
   "cell_type": "markdown",
   "metadata": {},
   "source": [
    "#### Primera prueba\n",
    "\n",
    "Dos transferencias lanzadas en paralelo. El mismo importe (`500`) desde la cuenta 1 a la 2 y desde la 2 a la 1"
   ]
  },
  {
   "cell_type": "code",
   "execution_count": null,
   "metadata": {
    "scrolled": true
   },
   "outputs": [],
   "source": [
    "TestUtil.result{\n",
    "    \n",
    "    transfersOneToTwo( 500 ).zipWith( transfersTwoToOne( 500 ) ) {\n",
    "        (a, b) =>  a && b\n",
    "    }\n",
    "    \n",
    "}"
   ]
  },
  {
   "cell_type": "markdown",
   "metadata": {},
   "source": [
    "#### Se vuelen a compruebar los balances\n",
    "\n",
    "> `Await` sólo por motivos de testing"
   ]
  },
  {
   "cell_type": "code",
   "execution_count": null,
   "metadata": {},
   "outputs": [],
   "source": [
    "TestUtil.result {\n",
    "    accountOne.getBalance.zipWith( accountTwo.getBalance ){\n",
    "        ( b1, b2 ) => (b1, b2, b1 +b2) \n",
    "    }\n",
    "}"
   ]
  },
  {
   "cell_type": "markdown",
   "metadata": {},
   "source": [
    "#### Se vuelven a comprobar los eventos"
   ]
  },
  {
   "cell_type": "code",
   "execution_count": null,
   "metadata": {},
   "outputs": [],
   "source": [
    "queueCQRS.toList ; queueCQRS.clear"
   ]
  },
  {
   "cell_type": "markdown",
   "metadata": {},
   "source": [
    "---\n",
    "### Bonus track\n"
   ]
  },
  {
   "cell_type": "markdown",
   "metadata": {},
   "source": [
    "#### Akka management"
   ]
  },
  {
   "cell_type": "markdown",
   "metadata": {},
   "source": [
    "Se arranca akka-management. En este caso arranca un api rest en el puerto definido en `AkkaManagementPort` en `SystemUtil`"
   ]
  },
  {
   "cell_type": "code",
   "execution_count": null,
   "metadata": {},
   "outputs": [],
   "source": [
    "import akka.management.AkkaManagement\n",
    "\n",
    "TestUtil.result {\n",
    "    AkkaManagement( SystemUtil.system ).start()    \n",
    "}"
   ]
  },
  {
   "cell_type": "markdown",
   "metadata": {},
   "source": [
    "#### Escuchar eventos del estado del cluster"
   ]
  },
  {
   "cell_type": "markdown",
   "metadata": {},
   "source": [
    "Actor '_listener_' que escucha los eventos del cluster `MemberEvent` y `ReachabilityEvent` y los almacena en una variable.\n",
    "\n",
    "Se puede obtener esa información eviando un mensaje del tipo `GetClusterStateEvent`. Después de devolver estos datos se incializa la variable."
   ]
  },
  {
   "cell_type": "code",
   "execution_count": null,
   "metadata": {},
   "outputs": [],
   "source": [
    "sealed trait EventClusterListenerIn \n",
    "final case object GetClusterStateEvent extends EventClusterListenerIn\n",
    "\n",
    "class EventClusterListener extends Actor {\n",
    "    \n",
    "    import akka.cluster.Cluster\n",
    "    \n",
    "    import akka.cluster.ClusterEvent._\n",
    "    \n",
    "    val cluster = Cluster( context.system  )\n",
    "    \n",
    "    cluster.subscribe(self, \n",
    "                      initialStateMode = InitialStateAsEvents, \n",
    "                      classOf[MemberEvent], \n",
    "                      classOf[ReachabilityEvent] )\n",
    "    \n",
    "    var listDomain = Set[ClusterDomainEvent]()       \n",
    "    \n",
    "    \n",
    "    override def receive = {\n",
    "        \n",
    "        case a : ClusterDomainEvent => {\n",
    "            listDomain = listDomain + a\n",
    "        }\n",
    "        \n",
    "        case GetClusterStateEvent => {\n",
    "            sender() ! listDomain\n",
    "            listDomain = Set()\n",
    "        }       \n",
    "    }\n",
    "    \n",
    "}\n"
   ]
  },
  {
   "cell_type": "markdown",
   "metadata": {},
   "source": [
    "Se crea un objeto que envuelve al actor para gestionar estos mensajes"
   ]
  },
  {
   "cell_type": "code",
   "execution_count": null,
   "metadata": {},
   "outputs": [],
   "source": [
    "object EventClusterListener {\n",
    "    \n",
    "    import akka.pattern._\n",
    "    import akka.actor._\n",
    "    import akka.util.Timeout\n",
    "    \n",
    "    import akka.cluster.ClusterEvent._\n",
    "    \n",
    "    lazy val listener = SystemUtil.system.actorOf( Props( new EventClusterListener() ) )\n",
    "    \n",
    "     def getEvents: Future[Set[ClusterDomainEvent]] = {\n",
    "       ( listener ? GetClusterStateEvent ) .mapTo[Set[ClusterDomainEvent]]           \n",
    "     }\n",
    "}\n",
    "\n"
   ]
  },
  {
   "cell_type": "markdown",
   "metadata": {},
   "source": [
    "Se obtienes los eventos escuchados por este nodo\n",
    "\n",
    "> Se utiliza `TestUtil` por motivos de testing"
   ]
  },
  {
   "cell_type": "code",
   "execution_count": null,
   "metadata": {
    "scrolled": true
   },
   "outputs": [],
   "source": [
    "TestUtil.result {\n",
    "   EventClusterListener.getEvents\n",
    "}"
   ]
  }
 ],
 "metadata": {
  "kernelspec": {
   "display_name": "Scala (2.12)",
   "language": "scala",
   "name": "scala_2_12"
  },
  "language_info": {
   "codemirror_mode": "text/x-scala",
   "file_extension": ".scala",
   "mimetype": "text/x-scala",
   "name": "scala212",
   "nbconvert_exporter": "script",
   "pygments_lexer": "scala",
   "version": "2.12.2"
  }
 },
 "nbformat": 4,
 "nbformat_minor": 2
}
