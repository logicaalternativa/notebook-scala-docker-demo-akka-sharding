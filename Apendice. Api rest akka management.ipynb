{
 "cells": [
  {
   "cell_type": "markdown",
   "metadata": {},
   "source": [
    "# Uso del api REST de akka management"
   ]
  },
  {
   "cell_type": "markdown",
   "metadata": {},
   "source": [
    "### Librerías necesarias"
   ]
  },
  {
   "cell_type": "code",
   "execution_count": 1,
   "metadata": {},
   "outputs": [
    {
     "data": {
      "text/plain": [
       "\u001b[32mimport \u001b[39m\u001b[36m$ivy.$                                                                   \u001b[39m"
      ]
     },
     "execution_count": 1,
     "metadata": {},
     "output_type": "execute_result"
    }
   ],
   "source": [
    "import $ivy.`com.lightbend.akka.management::akka-management-cluster-http:0.17.0`"
   ]
  },
  {
   "cell_type": "markdown",
   "metadata": {},
   "source": [
    "Clase de utilidades muy sencilla para hacer llamadas GET HTTP"
   ]
  },
  {
   "cell_type": "code",
   "execution_count": 2,
   "metadata": {},
   "outputs": [
    {
     "data": {
      "text/plain": [
       "defined \u001b[32mobject\u001b[39m \u001b[36mUriUtil\u001b[39m"
      ]
     },
     "execution_count": 2,
     "metadata": {},
     "output_type": "execute_result"
    }
   ],
   "source": [
    "object UriUtil {\n",
    "\n",
    "    import spray.json._\n",
    "    import scala.io.Source\n",
    "\n",
    "    def get( url :String ) = {\n",
    "        val res = Source.fromURL( url ).mkString\n",
    "        JsonParser( res ).prettyPrint        \n",
    "    }\n",
    "    \n",
    "}"
   ]
  },
  {
   "cell_type": "markdown",
   "metadata": {},
   "source": [
    "## Primer nodo \n",
    "Puerto akka : 2554   \n",
    "Puerto http : 8554"
   ]
  },
  {
   "cell_type": "markdown",
   "metadata": {},
   "source": [
    "Se obtiene la información relativa a los miembros del cluster obtenida por el primer nodo"
   ]
  },
  {
   "cell_type": "code",
   "execution_count": 3,
   "metadata": {
    "scrolled": true
   },
   "outputs": [
    {
     "name": "stdout",
     "output_type": "stream",
     "text": [
      "{\n",
      "  \"selfNode\": \"akka.tcp://test2@127.0.0.1:2554\",\n",
      "  \"leader\": \"akka.tcp://test2@127.0.0.1:2554\",\n",
      "  \"oldest\": \"akka.tcp://test2@127.0.0.1:2554\",\n",
      "  \"unreachable\": [],\n",
      "  \"members\": [{\n",
      "    \"node\": \"akka.tcp://test2@127.0.0.1:2554\",\n",
      "    \"nodeUid\": \"-439796425\",\n",
      "    \"status\": \"Up\",\n",
      "    \"roles\": [\"dc-default\"]\n",
      "  }]\n",
      "}\n"
     ]
    }
   ],
   "source": [
    "println( UriUtil.get( \"http://127.0.0.1:8554/cluster/members\" ) )"
   ]
  },
  {
   "cell_type": "markdown",
   "metadata": {},
   "source": [
    "Se obtiene la información relativa '_cuentas_' que tiene sobre instancias y regiones este nodo"
   ]
  },
  {
   "cell_type": "code",
   "execution_count": 4,
   "metadata": {},
   "outputs": [
    {
     "name": "stdout",
     "output_type": "stream",
     "text": [
      "{\n",
      "  \"regions\": [{\n",
      "    \"shardId\": \"2\",\n",
      "    \"numEntities\": 2\n",
      "  }]\n",
      "}\n"
     ]
    }
   ],
   "source": [
    "println( UriUtil.get( \"http://127.0.0.1:8554/cluster/shards/accounts\" ) )"
   ]
  },
  {
   "cell_type": "markdown",
   "metadata": {},
   "source": [
    "## Segundo nodo \n",
    "Puerto akka : 2553    \n",
    "Puerto http : 8553"
   ]
  },
  {
   "cell_type": "markdown",
   "metadata": {},
   "source": [
    "Se obtiene la información relativa a los miembros del cluster obtenida por el segundo nodo"
   ]
  },
  {
   "cell_type": "code",
   "execution_count": null,
   "metadata": {},
   "outputs": [],
   "source": [
    "println( UriUtil.get( \"http://127.0.0.1:8553/cluster/members\" ) )"
   ]
  },
  {
   "cell_type": "markdown",
   "metadata": {},
   "source": [
    "Se obtiene la información relativa '_cuentas_' que tiene sobre instancias y regiones este segundo nodo"
   ]
  },
  {
   "cell_type": "code",
   "execution_count": null,
   "metadata": {},
   "outputs": [],
   "source": [
    "println( UriUtil.get( \"http://127.0.0.1:8553/cluster/shards/accounts\" ) )"
   ]
  }
 ],
 "metadata": {
  "kernelspec": {
   "display_name": "Scala (2.12)",
   "language": "scala",
   "name": "scala_2_12"
  },
  "language_info": {
   "codemirror_mode": "text/x-scala",
   "file_extension": ".scala",
   "mimetype": "text/x-scala",
   "name": "scala212",
   "nbconvert_exporter": "script",
   "pygments_lexer": "scala",
   "version": "2.12.2"
  }
 },
 "nbformat": 4,
 "nbformat_minor": 2
}
