{
 "cells": [
  {
   "cell_type": "markdown",
   "metadata": {},
   "source": [
    "# Uso del api REST de akka management"
   ]
  },
  {
   "cell_type": "markdown",
   "metadata": {},
   "source": [
    "### Librerías necesarias"
   ]
  },
  {
   "cell_type": "code",
   "execution_count": null,
   "metadata": {},
   "outputs": [],
   "source": [
    "import $ivy.`com.lightbend.akka.management::akka-management-cluster-http:0.17.0`"
   ]
  },
  {
   "cell_type": "markdown",
   "metadata": {},
   "source": [
    "Clase de utilidades muy sencilla para hacer llamadas GET HTTP"
   ]
  },
  {
   "cell_type": "code",
   "execution_count": null,
   "metadata": {},
   "outputs": [],
   "source": [
    "object UriUtil {\n",
    "\n",
    "    import spray.json._\n",
    "    import scala.io.Source\n",
    "\n",
    "    def get( url :String ) = {\n",
    "        val res = Source.fromURL( url ).mkString\n",
    "        JsonParser( res ).prettyPrint        \n",
    "    }\n",
    "    \n",
    "}"
   ]
  },
  {
   "cell_type": "markdown",
   "metadata": {},
   "source": [
    "## Primer nodo \n",
    "Puerto akka : 2554   \n",
    "Puerto http : 8554"
   ]
  },
  {
   "cell_type": "markdown",
   "metadata": {},
   "source": [
    "Se obtiene la información relativa a los miembros del cluster obtenida por el primer nodo"
   ]
  },
  {
   "cell_type": "code",
   "execution_count": null,
   "metadata": {},
   "outputs": [],
   "source": [
    "println( UriUtil.get( \"http://127.0.0.1:8554/cluster/members\" ) )"
   ]
  },
  {
   "cell_type": "markdown",
   "metadata": {},
   "source": [
    "Se obtiene la información relativa '_cuentas_' que tiene sobre instancias y regiones este nodo"
   ]
  },
  {
   "cell_type": "code",
   "execution_count": null,
   "metadata": {},
   "outputs": [],
   "source": [
    "println( UriUtil.get( \"http://127.0.0.1:8554/cluster/shards/accounts\" ) )"
   ]
  },
  {
   "cell_type": "markdown",
   "metadata": {},
   "source": [
    "## Segundo nodo \n",
    "Puerto akka : 2553\n",
    "Puerto http : 8553"
   ]
  },
  {
   "cell_type": "markdown",
   "metadata": {},
   "source": [
    "Se obtiene la información relativa a los miembros del cluster obtenida por el segundo nodo"
   ]
  },
  {
   "cell_type": "code",
   "execution_count": null,
   "metadata": {},
   "outputs": [],
   "source": [
    "println( UriUtil.get( \"http://127.0.0.1:8553/cluster/members\" ) )"
   ]
  },
  {
   "cell_type": "markdown",
   "metadata": {},
   "source": [
    "Se obtiene la información relativa '_cuentas_' que tiene sobre instancias y regiones este segundo nodo"
   ]
  },
  {
   "cell_type": "code",
   "execution_count": null,
   "metadata": {},
   "outputs": [],
   "source": [
    "println( UriUtil.get( \"http://127.0.0.1:8553/cluster/shards/accounts\" ) )"
   ]
  }
 ],
 "metadata": {
  "kernelspec": {
   "display_name": "Scala (2.12)",
   "language": "scala",
   "name": "scala_2_12"
  },
  "language_info": {
   "codemirror_mode": "text/x-scala",
   "file_extension": ".scala",
   "mimetype": "text/x-scala",
   "name": "scala212",
   "nbconvert_exporter": "script",
   "pygments_lexer": "scala",
   "version": "2.12.2"
  }
 },
 "nbformat": 4,
 "nbformat_minor": 2
}
