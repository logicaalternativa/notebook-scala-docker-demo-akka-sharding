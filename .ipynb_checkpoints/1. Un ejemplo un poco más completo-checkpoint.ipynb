{
 "cells": [
  {
   "cell_type": "markdown",
   "metadata": {},
   "source": [
    "# Un ejemplo un poco más complicado\n",
    "\n",
    "Vamos a hacer un caso muy simplificado de una cuenta de un banco.\n",
    "\n",
    "## Índice\n",
    "- Protocolo de mensajería\n",
    "  + De entrada\n",
    "  + De salida\n",
    "  + Eventos\n",
    "- Cuentas y transferencias\n",
    "  + Actor cuenta\n",
    "  + Interfaz cuenta\n",
    "  + Definición de una transferencia\n",
    "- Implementaciones\n",
    "  + Logica de negocio: actualización del balance\n",
    "  + Publicación de eventos\n",
    " "
   ]
  },
  {
   "cell_type": "markdown",
   "metadata": {},
   "source": [
    "###  Se importan la librerias de akka "
   ]
  },
  {
   "cell_type": "code",
   "execution_count": 1,
   "metadata": {},
   "outputs": [
    {
     "data": {
      "text/plain": [
       "\u001b[32mimport \u001b[39m\u001b[36m$ivy.$                                     \u001b[39m"
      ]
     },
     "execution_count": 1,
     "metadata": {},
     "output_type": "execute_result"
    }
   ],
   "source": [
    "import $ivy.`com.typesafe.akka::akka-actor:2.5.14`"
   ]
  },
  {
   "cell_type": "markdown",
   "metadata": {},
   "source": [
    "### Implicitos necesarios"
   ]
  },
  {
   "cell_type": "code",
   "execution_count": 2,
   "metadata": {},
   "outputs": [
    {
     "data": {
      "text/plain": [
       "\u001b[32mimport \u001b[39m\u001b[36mscala.concurrent.ExecutionContext \n",
       "\u001b[39m\n",
       "\u001b[32mimport \u001b[39m\u001b[36mjava.util.concurrent.Executors\n",
       "\u001b[39m\n",
       "\u001b[32mimport \u001b[39m\u001b[36makka.util.Timeout\n",
       "\u001b[39m\n",
       "\u001b[32mimport \u001b[39m\u001b[36mscala.concurrent.duration._\n",
       "\n",
       "\u001b[39m\n",
       "\u001b[36mec\u001b[39m: \u001b[32mconcurrent\u001b[39m.\u001b[32mExecutionContextExecutorService\u001b[39m = scala.concurrent.impl.ExecutionContextImpl$$anon$1@2ed0f8c1\n",
       "\u001b[36mtimeout\u001b[39m: \u001b[32makka\u001b[39m.\u001b[32mutil\u001b[39m.\u001b[32mTimeout\u001b[39m = \u001b[33mTimeout\u001b[39m(5 seconds)"
      ]
     },
     "execution_count": 2,
     "metadata": {},
     "output_type": "execute_result"
    }
   ],
   "source": [
    "import scala.concurrent.ExecutionContext \n",
    "import java.util.concurrent.Executors\n",
    "import akka.util.Timeout\n",
    "import scala.concurrent.duration._\n",
    "\n",
    "implicit val ec  = ExecutionContext.fromExecutorService( Executors.newFixedThreadPool( 20 ) )\n",
    "implicit val timeout = Timeout( 5 seconds )   "
   ]
  },
  {
   "cell_type": "markdown",
   "metadata": {},
   "source": [
    "---\n",
    "\n",
    "---\n",
    "## Se define el protocolo de mensajería\n",
    "\n",
    "### Protocolo de entrada"
   ]
  },
  {
   "cell_type": "code",
   "execution_count": 3,
   "metadata": {},
   "outputs": [
    {
     "data": {
      "text/plain": [
       "defined \u001b[32mtrait\u001b[39m \u001b[36mAccountIn\u001b[39m\n",
       "defined \u001b[32mtrait\u001b[39m \u001b[36mAccountCommand\u001b[39m\n",
       "defined \u001b[32mclass\u001b[39m \u001b[36mWithdrawal\u001b[39m\n",
       "defined \u001b[32mclass\u001b[39m \u001b[36mIncome\u001b[39m\n",
       "defined \u001b[32mtrait\u001b[39m \u001b[36mAccountQuery\u001b[39m\n",
       "defined \u001b[32mobject\u001b[39m \u001b[36mGetBalance\u001b[39m"
      ]
     },
     "execution_count": 3,
     "metadata": {},
     "output_type": "execute_result"
    }
   ],
   "source": [
    "sealed trait AccountIn\n",
    "\n",
    "// Commands\n",
    "\n",
    "sealed trait AccountCommand extends AccountIn { \n",
    "    val amount : Int\n",
    "}\n",
    "\n",
    "final case class Withdrawal(amount : Int) extends AccountCommand \n",
    "final case class Income(amount : Int) extends AccountCommand \n",
    "\n",
    "\n",
    "// Queries\n",
    "\n",
    "sealed trait AccountQuery extends AccountIn\n",
    "\n",
    "final case object GetBalance extends AccountQuery"
   ]
  },
  {
   "cell_type": "markdown",
   "metadata": {},
   "source": [
    "### Protocolo de salida"
   ]
  },
  {
   "cell_type": "code",
   "execution_count": 4,
   "metadata": {},
   "outputs": [
    {
     "data": {
      "text/plain": [
       "defined \u001b[32mtrait\u001b[39m \u001b[36mAccountOut\u001b[39m\n",
       "defined \u001b[32mclass\u001b[39m \u001b[36mCurrentBalance\u001b[39m\n",
       "defined \u001b[32mclass\u001b[39m \u001b[36mDeltaBalance\u001b[39m"
      ]
     },
     "execution_count": 4,
     "metadata": {},
     "output_type": "execute_result"
    }
   ],
   "source": [
    "sealed trait AccountOut\n",
    "\n",
    "final case class CurrentBalance( balance: Int ) extends AccountOut\n",
    "final case class DeltaBalance( delta : Int ) extends AccountOut"
   ]
  },
  {
   "cell_type": "markdown",
   "metadata": {},
   "source": [
    "### Eventos"
   ]
  },
  {
   "cell_type": "code",
   "execution_count": 5,
   "metadata": {},
   "outputs": [
    {
     "data": {
      "text/plain": [
       "defined \u001b[32mtrait\u001b[39m \u001b[36mAccountEvent\u001b[39m\n",
       "defined \u001b[32mclass\u001b[39m \u001b[36mWithdrawalCreated\u001b[39m\n",
       "defined \u001b[32mclass\u001b[39m \u001b[36mIncomeCreated\u001b[39m"
      ]
     },
     "execution_count": 5,
     "metadata": {},
     "output_type": "execute_result"
    }
   ],
   "source": [
    "sealed trait AccountEvent {\n",
    "    \n",
    "    val idAccount : String\n",
    "    val amount: Int\n",
    "}\n",
    "\n",
    "case class WithdrawalCreated( val idAccount: String, val amount : Int ) extends AccountEvent\n",
    "case class IncomeCreated( val idAccount: String, val amount : Int ) extends AccountEvent"
   ]
  },
  {
   "cell_type": "markdown",
   "metadata": {},
   "source": [
    "---\n",
    "\n",
    "---\n",
    "## Cuentas y transferencias\n",
    "### Actor 'Cuenta'"
   ]
  },
  {
   "cell_type": "code",
   "execution_count": 6,
   "metadata": {},
   "outputs": [
    {
     "data": {
      "text/plain": [
       "\u001b[32mimport \u001b[39m\u001b[36makka.actor._\n",
       "\u001b[39m\n",
       "\u001b[32mimport \u001b[39m\u001b[36mscala.collection.mutable.Queue\n",
       "\u001b[39m\n",
       "\u001b[32mimport \u001b[39m\u001b[36mscala.util._\n",
       "\n",
       "\u001b[39m\n",
       "defined \u001b[32mclass\u001b[39m \u001b[36mActorAccount\u001b[39m"
      ]
     },
     "execution_count": 6,
     "metadata": {},
     "output_type": "execute_result"
    }
   ],
   "source": [
    "import akka.actor._\n",
    "import scala.collection.mutable.Queue\n",
    "import scala.util._\n",
    "\n",
    "class ActorAccount( private val updateBalance : (Int, Int) => Try[Int], \n",
    "                       private val queueCQRS: Queue[AccountEvent] ) extends Actor {\n",
    "    \n",
    "    \n",
    "    val id = self.path.name\n",
    "    \n",
    "    var balance : Int = 0\n",
    "    \n",
    "    override def receive = {\n",
    "        \n",
    "        case command : AccountCommand => manageCommads( command )\n",
    "        case querry  : AccountQuery   => manageQueries( querry )\n",
    "        case other                    => unhandled( other )\n",
    "        \n",
    "    }\n",
    "    \n",
    "    private def manageCommads( command: AccountCommand ) : Unit = {\n",
    "        \n",
    "        command match {\n",
    "            case Withdrawal( amount ) => execUpdateBalance( -1 * amount, command)\n",
    "            case Income( amount )     => execUpdateBalance( amount, command )\n",
    "            \n",
    "        }           \n",
    "        \n",
    "    }\n",
    "    \n",
    "    private def execUpdateBalance( amount : Int, command : AccountCommand) = {        \n",
    "        updateBalance( amount, balance ) match {            \n",
    "            case Success( newBalance ) => {\n",
    "                sender() ! DeltaBalance( newBalance - balance ) \n",
    "                sendEvent( command )\n",
    "                balance = newBalance\n",
    "            }\n",
    "            case Failure(  error ) => sender() ! Status.Failure( error )         \n",
    "        }\n",
    "    }\n",
    "    \n",
    "    private def sendEvent( command: AccountCommand ) {\n",
    "        \n",
    "        val event : AccountEvent = command match {\n",
    "            case Withdrawal( amount ) => WithdrawalCreated( id, amount ) \n",
    "            case Income( amount )     => IncomeCreated( id, amount ) \n",
    "        }\n",
    "        \n",
    "        queueCQRS.enqueue( event )\n",
    "        \n",
    "    }\n",
    "    \n",
    "    private def manageQueries( queries : AccountQuery ) : Unit = queries match {\n",
    "        case GetBalance => sender() !  CurrentBalance( balance )\n",
    "    }\n",
    "    \n",
    "    \n",
    "}"
   ]
  },
  {
   "cell_type": "markdown",
   "metadata": {},
   "source": [
    "### Interfaz 'Cuenta'"
   ]
  },
  {
   "cell_type": "code",
   "execution_count": 7,
   "metadata": {},
   "outputs": [
    {
     "data": {
      "text/plain": [
       "\u001b[32mimport \u001b[39m\u001b[36mscala.concurrent.Future\n",
       "\n",
       "\u001b[39m\n",
       "defined \u001b[32mtrait\u001b[39m \u001b[36mAccount\u001b[39m\n",
       "defined \u001b[32mobject\u001b[39m \u001b[36mAccount\u001b[39m"
      ]
     },
     "execution_count": 7,
     "metadata": {},
     "output_type": "execute_result"
    }
   ],
   "source": [
    "import scala.concurrent.Future\n",
    "\n",
    "trait Account {\n",
    "   def makeWithdrawal( amount : Int ) : Future[ Int ] \n",
    "   def makeIncome( amount : Int ) : Future[Int] \n",
    "   def getBalance: Future[Int]\n",
    "}\n",
    "\n",
    "object Account {\n",
    "    \n",
    "    import akka.pattern._\n",
    "    import akka.actor._\n",
    "    import akka.util.Timeout\n",
    "    \n",
    "    def apply( account :ActorRef )\n",
    "                    ( implicit ec : ExecutionContext, timeout : Timeout ) = new Account {\n",
    "      \n",
    "     def makeWithdrawal( amount : Int ) : Future[ Int] = {\n",
    "        ( account ? Withdrawal( amount ) ).mapTo[DeltaBalance].map( _.delta )            \n",
    "     }\n",
    "\n",
    "     def makeIncome( amount : Int ) : Future[Int] = {\n",
    "            ( account ? Income( amount ) ).mapTo[DeltaBalance].map( _.delta )             \n",
    "     }\n",
    "        \n",
    "      def getBalance : Future[Int] = {\n",
    "         ( account ? GetBalance ). mapTo[ CurrentBalance ].map( _.balance ) \n",
    "      }\n",
    "        \n",
    "    }\n",
    "}\n",
    "\n"
   ]
  },
  {
   "cell_type": "markdown",
   "metadata": {},
   "source": [
    "### Defincición de una transferencia\n",
    "\n",
    "Se simula una operación/compensacion siguiendo el patrón sagas"
   ]
  },
  {
   "cell_type": "code",
   "execution_count": 8,
   "metadata": {},
   "outputs": [
    {
     "data": {
      "text/plain": [
       "defined \u001b[32mobject\u001b[39m \u001b[36mTransfer\u001b[39m"
      ]
     },
     "execution_count": 8,
     "metadata": {},
     "output_type": "execute_result"
    }
   ],
   "source": [
    "object Transfer {\n",
    "    \n",
    "    import scala.concurrent._\n",
    "    \n",
    "    def transfer( from : Account, to: Account )( amount : Int )( implicit ec : ExecutionContext) = {\n",
    "        \n",
    "        from.makeWithdrawal( amount ).flatMap {\n",
    "             _ => to.makeIncome( amount )\n",
    "                    .map( _ => true )\n",
    "                    .recoverWith{ \n",
    "                        case _ => from.makeIncome( amount )\n",
    "                                      .map( _=> false ) \n",
    "                    }\n",
    "        }\n",
    "        \n",
    "   }\n",
    "    \n",
    "}\n",
    "\n"
   ]
  },
  {
   "cell_type": "markdown",
   "metadata": {},
   "source": [
    "---\n",
    "\n",
    "----\n",
    "## Implementaciones"
   ]
  },
  {
   "cell_type": "markdown",
   "metadata": {},
   "source": [
    "### Lógica de negocio\n",
    "Se define una lógica de negocio simple. En este caso no se admiten descubiertos, pero por ejemplo se pueden implementar diferentes lógicas como un porcentaje de descubierto dependiendo del balance. \n",
    "> El objetivo final es que la lógica puede estar separada del actor y puede ser validada y probada aparte"
   ]
  },
  {
   "cell_type": "code",
   "execution_count": 9,
   "metadata": {},
   "outputs": [
    {
     "data": {
      "text/plain": [
       "\u001b[32mimport \u001b[39m\u001b[36mscala.util._\n",
       "\n",
       "\u001b[39m\n",
       "\u001b[36mupdateBalance\u001b[39m: (\u001b[32mInt\u001b[39m, \u001b[32mInt\u001b[39m) => \u001b[32mTry\u001b[39m[\u001b[32mInt\u001b[39m] = $sess.cmd8Wrapper$Helper$$Lambda$3398/364795502@d0a781"
      ]
     },
     "execution_count": 9,
     "metadata": {},
     "output_type": "execute_result"
    }
   ],
   "source": [
    "import scala.util._\n",
    "\n",
    "implicit val updateBalance : (Int,Int) => Try[Int] = ( amount, balance ) => {\n",
    "   \n",
    "    val newBalance = amount + balance\n",
    "    \n",
    "    if( newBalance >= 0 ) {\n",
    "    \n",
    "        Success( newBalance )\n",
    "        \n",
    "    } else {\n",
    "        \n",
    "        Failure( new IllegalStateException( s\"It should not be in red( ${newBalance} )\" ) )\n",
    "    }\n",
    "    \n",
    "}"
   ]
  },
  {
   "cell_type": "markdown",
   "metadata": {},
   "source": [
    "### Indirección de publicación de eventos\n",
    "Se define una cola que será la indirección de publicación de eventos.\n",
    "En este caso para esta prueba será una cola mitable de Scala.   \n",
    "> En un sistema real puede ser un akka stream con su fuente '_materializada_' en una cola"
   ]
  },
  {
   "cell_type": "code",
   "execution_count": 10,
   "metadata": {},
   "outputs": [
    {
     "data": {
      "text/plain": [
       "\u001b[32mimport \u001b[39m\u001b[36mscala.collection.mutable.Queue\n",
       "\n",
       "\u001b[39m\n",
       "\u001b[36mqueueCQRS\u001b[39m: \u001b[32mQueue\u001b[39m[\u001b[32mAccountEvent\u001b[39m] = \u001b[33mQueue\u001b[39m()"
      ]
     },
     "execution_count": 10,
     "metadata": {},
     "output_type": "execute_result"
    }
   ],
   "source": [
    "import scala.collection.mutable.Queue\n",
    "\n",
    "val queueCQRS = Queue[AccountEvent]()"
   ]
  },
  {
   "cell_type": "markdown",
   "metadata": {},
   "source": [
    "---\n",
    "\n",
    "---\n",
    "## Probandolo todo"
   ]
  },
  {
   "cell_type": "markdown",
   "metadata": {},
   "source": [
    "### _Testing: Utilidades_"
   ]
  },
  {
   "cell_type": "code",
   "execution_count": 11,
   "metadata": {
    "slideshow": {
     "slide_type": "notes"
    }
   },
   "outputs": [
    {
     "data": {
      "text/plain": [
       "defined \u001b[32mobject\u001b[39m \u001b[36mTestUtil\u001b[39m"
      ]
     },
     "execution_count": 11,
     "metadata": {},
     "output_type": "execute_result"
    }
   ],
   "source": [
    "object TestUtil {\n",
    "    \n",
    "    import scala.concurrent._, duration._\n",
    "    import akka.pattern._\n",
    "    import akka.util.Timeout\n",
    "\n",
    "\n",
    "    val tm = 5 seconds\n",
    "    implicit val timeout = Timeout( tm )\n",
    "\n",
    "    def result[T]( future : => Future[T] ) = Try {\n",
    "        Await.result( future, tm )\n",
    "    }\n",
    "    \n",
    "}"
   ]
  },
  {
   "cell_type": "markdown",
   "metadata": {},
   "source": [
    "---\n",
    "### Iniciando el entorno"
   ]
  },
  {
   "cell_type": "markdown",
   "metadata": {},
   "source": [
    "#### Se crea el sistema de actores"
   ]
  },
  {
   "cell_type": "code",
   "execution_count": 12,
   "metadata": {},
   "outputs": [
    {
     "data": {
      "text/plain": [
       "\u001b[36msystem\u001b[39m: \u001b[32mActorSystem\u001b[39m = akka://test-1"
      ]
     },
     "execution_count": 12,
     "metadata": {},
     "output_type": "execute_result"
    }
   ],
   "source": [
    "val system = akka.actor.ActorSystem.create( \"test-1\" )"
   ]
  },
  {
   "cell_type": "markdown",
   "metadata": {},
   "source": [
    "#### Se crean dos actores cuenta"
   ]
  },
  {
   "cell_type": "code",
   "execution_count": 13,
   "metadata": {},
   "outputs": [
    {
     "data": {
      "text/plain": [
       "\u001b[32mimport \u001b[39m\u001b[36makka.actor.Props\n",
       "\n",
       "\u001b[39m\n",
       "\u001b[36maccountOneActor\u001b[39m: \u001b[32mActorRef\u001b[39m = Actor[akka://test-1/user/accountOne#289101094]\n",
       "\u001b[36maccountTwoActor\u001b[39m: \u001b[32mActorRef\u001b[39m = Actor[akka://test-1/user/accountTwo#-722463502]"
      ]
     },
     "execution_count": 13,
     "metadata": {},
     "output_type": "execute_result"
    }
   ],
   "source": [
    "import akka.actor.Props\n",
    "\n",
    "val accountOneActor = system.actorOf (\n",
    "        Props( new ActorAccount(  updateBalance, queueCQRS )),  \n",
    "       \"accountOne\"  \n",
    ")\n",
    "\n",
    "val accountTwoActor = system.actorOf (\n",
    "        Props( new ActorAccount( updateBalance, queueCQRS ) ),\n",
    "        \"accountTwo\"\n",
    ")"
   ]
  },
  {
   "cell_type": "markdown",
   "metadata": {},
   "source": [
    "#### Se crean dos 'entidades' cuenta"
   ]
  },
  {
   "cell_type": "code",
   "execution_count": 14,
   "metadata": {},
   "outputs": [
    {
     "data": {
      "text/plain": [
       "\u001b[36maccountOne\u001b[39m: \u001b[32mAnyRef\u001b[39m with \u001b[32mAccount\u001b[39m = $sess.cmd6Wrapper$Helper$Account$$anon$1@29a51948\n",
       "\u001b[36maccountTwo\u001b[39m: \u001b[32mAnyRef\u001b[39m with \u001b[32mAccount\u001b[39m = $sess.cmd6Wrapper$Helper$Account$$anon$1@4f90a960"
      ]
     },
     "execution_count": 14,
     "metadata": {},
     "output_type": "execute_result"
    }
   ],
   "source": [
    "val accountOne = Account( accountOneActor )\n",
    "val accountTwo = Account( accountTwoActor )"
   ]
  },
  {
   "cell_type": "markdown",
   "metadata": {},
   "source": [
    "#### Se hace un ingreso incial a las dos cuentas\n",
    "\n",
    "Después se comprueba el balance y se obtiene el total del dinero (la suma de los dos balances)\n",
    "\n",
    "> Aquí se hace `Await` sólo por motivos de testing"
   ]
  },
  {
   "cell_type": "code",
   "execution_count": 15,
   "metadata": {},
   "outputs": [
    {
     "data": {
      "text/plain": [
       "\u001b[36mres14\u001b[39m: \u001b[32mTry\u001b[39m[(\u001b[32mInt\u001b[39m, \u001b[32mInt\u001b[39m, \u001b[32mInt\u001b[39m)] = \u001b[33mSuccess\u001b[39m((\u001b[32m1000\u001b[39m, \u001b[32m1000\u001b[39m, \u001b[32m2000\u001b[39m))"
      ]
     },
     "execution_count": 15,
     "metadata": {},
     "output_type": "execute_result"
    }
   ],
   "source": [
    "\n",
    "TestUtil.result{\n",
    "    for {\n",
    "        _  <- accountOne.makeIncome( 1000 )\n",
    "        _  <- accountTwo.makeIncome( 1000 ) \n",
    "        b1 <- accountOne.getBalance  \n",
    "        b2 <- accountTwo.getBalance \n",
    "    } yield {( b1, b2, b1 + b2 )}\n",
    "}"
   ]
  },
  {
   "cell_type": "markdown",
   "metadata": {},
   "source": [
    "#### Se comprueban los eventos"
   ]
  },
  {
   "cell_type": "code",
   "execution_count": 16,
   "metadata": {},
   "outputs": [
    {
     "data": {
      "text/plain": [
       "\u001b[36mres15_0\u001b[39m: \u001b[32mList\u001b[39m[\u001b[32mAccountEvent\u001b[39m] = \u001b[33mList\u001b[39m(IncomeCreated(accountOne,1000), IncomeCreated(accountTwo,1000))"
      ]
     },
     "execution_count": 16,
     "metadata": {},
     "output_type": "execute_result"
    }
   ],
   "source": [
    "queueCQRS.toList ; queueCQRS.clear"
   ]
  },
  {
   "cell_type": "markdown",
   "metadata": {},
   "source": [
    "---\n",
    "### _Probando, probando_"
   ]
  },
  {
   "cell_type": "markdown",
   "metadata": {},
   "source": [
    "#### Funciones de utilidades\n",
    "Para poder testear transferencias de una cuenta a otra de una manera más cómoda"
   ]
  },
  {
   "cell_type": "code",
   "execution_count": 17,
   "metadata": {},
   "outputs": [
    {
     "data": {
      "text/plain": [
       "\u001b[36mtransfersOneToTwo\u001b[39m: \u001b[32mInt\u001b[39m => \u001b[32mFuture\u001b[39m[\u001b[32mBoolean\u001b[39m] = $sess.cmd16Wrapper$Helper$$Lambda$3646/472174427@ad26fb4\n",
       "\u001b[36mtransfersTwoToOne\u001b[39m: \u001b[32mInt\u001b[39m => \u001b[32mFuture\u001b[39m[\u001b[32mBoolean\u001b[39m] = $sess.cmd16Wrapper$Helper$$Lambda$3647/549467421@5898b0a2"
      ]
     },
     "execution_count": 17,
     "metadata": {},
     "output_type": "execute_result"
    }
   ],
   "source": [
    "val transfersOneToTwo =  Transfer.transfer( accountOne, accountTwo)( _ )\n",
    "val transfersTwoToOne =  Transfer.transfer( accountTwo, accountOne)( _ )"
   ]
  },
  {
   "cell_type": "markdown",
   "metadata": {},
   "source": [
    "#### Primera prueba"
   ]
  },
  {
   "cell_type": "code",
   "execution_count": 18,
   "metadata": {
    "scrolled": true
   },
   "outputs": [
    {
     "data": {
      "text/plain": [
       "\u001b[36mres17\u001b[39m: \u001b[32mTry\u001b[39m[\u001b[32mBoolean\u001b[39m] = \u001b[33mSuccess\u001b[39m(\u001b[32mtrue\u001b[39m)"
      ]
     },
     "execution_count": 18,
     "metadata": {},
     "output_type": "execute_result"
    }
   ],
   "source": [
    "TestUtil.result{\n",
    "       for {\n",
    "           a <- transfersOneToTwo( 500 ) \n",
    "           b <- transfersTwoToOne( 500 ) \n",
    "       } yield( a && b )\n",
    "}"
   ]
  },
  {
   "cell_type": "markdown",
   "metadata": {},
   "source": [
    "#### Se vuelen a compruebar los balances\n",
    "\n",
    "> `Await` sólo por motivos de testing"
   ]
  },
  {
   "cell_type": "code",
   "execution_count": 19,
   "metadata": {},
   "outputs": [
    {
     "data": {
      "text/plain": [
       "\u001b[36mres18\u001b[39m: \u001b[32mTry\u001b[39m[(\u001b[32mInt\u001b[39m, \u001b[32mInt\u001b[39m, \u001b[32mInt\u001b[39m)] = \u001b[33mSuccess\u001b[39m((\u001b[32m1000\u001b[39m, \u001b[32m1000\u001b[39m, \u001b[32m2000\u001b[39m))"
      ]
     },
     "execution_count": 19,
     "metadata": {},
     "output_type": "execute_result"
    }
   ],
   "source": [
    "TestUtil.result {\n",
    "    for {\n",
    "        b1 <- accountOne.getBalance\n",
    "        b2 <- accountTwo.getBalance  \n",
    "    } yield{  (b1, b2, b1 +b2) }    \n",
    "}"
   ]
  },
  {
   "cell_type": "markdown",
   "metadata": {},
   "source": [
    "#### Se vuelven a comprobar los eventos"
   ]
  },
  {
   "cell_type": "code",
   "execution_count": 20,
   "metadata": {},
   "outputs": [
    {
     "data": {
      "text/plain": [
       "\u001b[36mres19_0\u001b[39m: \u001b[32mList\u001b[39m[\u001b[32mAccountEvent\u001b[39m] = \u001b[33mList\u001b[39m(\n",
       "  WithdrawalCreated(accountOne,500),\n",
       "  IncomeCreated(accountTwo,500),\n",
       "  WithdrawalCreated(accountTwo,500),\n",
       "  IncomeCreated(accountOne,500)\n",
       ")"
      ]
     },
     "execution_count": 20,
     "metadata": {},
     "output_type": "execute_result"
    }
   ],
   "source": [
    "queueCQRS.toList ; queueCQRS.clear"
   ]
  },
  {
   "cell_type": "markdown",
   "metadata": {},
   "source": [
    "---\n",
    "### Bonus track\n",
    "Test de concurrencia, lanzando transferencias en paralelo desde las mismas cuentas con cantidades aleatorias.\n",
    "\n",
    "El resultado debera conservar la suma de los balances y ninguna de las dos cuentas puede tener valores negativos, ni valores mayores que la suma de los dos balances inciales"
   ]
  },
  {
   "cell_type": "code",
   "execution_count": 21,
   "metadata": {},
   "outputs": [
    {
     "data": {
      "text/plain": [
       "defined \u001b[32mobject\u001b[39m \u001b[36mTestConcurrent\u001b[39m"
      ]
     },
     "execution_count": 21,
     "metadata": {},
     "output_type": "execute_result"
    }
   ],
   "source": [
    "object TestConcurrent {\n",
    "\n",
    "    import scala.util.Random\n",
    "\n",
    "    def randomTransfer( implicit ec : ExecutionContext ) = Future {\n",
    "        val amount = Random.nextInt( 998 ) + 1\n",
    "        if ( Random.nextInt(2) == 0 ) {\n",
    "            transfersOneToTwo( amount )\n",
    "        } else {\n",
    "            transfersTwoToOne( amount )\n",
    "        }\n",
    "    }.flatten.map{\n",
    "       _ => 1  \n",
    "    } .recover{\n",
    "        case _=> 0\n",
    "    }\n",
    "  \n",
    "    def testConncurrent( cont: Int, \n",
    "                         from : List[Future[Int]] = List())( implicit ec : ExecutionContext ): Future[Int] ={\n",
    "\n",
    "        if ( cont == 0 ) {\n",
    "            Future.sequence( from ) .map {\n",
    "                _.fold(0) { \n",
    "                        ( a,b ) => a + b \n",
    "                } \n",
    "            }\n",
    "        } else  {\n",
    "           val newRandomTransfer = randomTransfer    \n",
    "           testConncurrent( cont -1, newRandomTransfer +: from )\n",
    "        }\n",
    "    }\n",
    "\n",
    "}"
   ]
  },
  {
   "cell_type": "code",
   "execution_count": 22,
   "metadata": {},
   "outputs": [
    {
     "data": {
      "text/plain": [
       "\u001b[36mres21\u001b[39m: \u001b[32mTry\u001b[39m[(\u001b[32mInt\u001b[39m, (\u001b[32mInt\u001b[39m, \u001b[32mInt\u001b[39m, \u001b[32mInt\u001b[39m))] = \u001b[33mSuccess\u001b[39m((\u001b[32m19\u001b[39m, (\u001b[32m1487\u001b[39m, \u001b[32m513\u001b[39m, \u001b[32m2000\u001b[39m)))"
      ]
     },
     "execution_count": 22,
     "metadata": {},
     "output_type": "execute_result"
    }
   ],
   "source": [
    "TestUtil.result {\n",
    "    for {\n",
    "        t <- TestConcurrent.testConncurrent( 500 ) \n",
    "        b1 <- accountOne.getBalance\n",
    "        b2 <- accountTwo.getBalance  \n",
    "    } yield{  (t, (b1, b2, b1 +b2) ) }    \n",
    "}"
   ]
  },
  {
   "cell_type": "markdown",
   "metadata": {},
   "source": [
    "#### Se vuelven a comprobar los eventos"
   ]
  },
  {
   "cell_type": "code",
   "execution_count": 23,
   "metadata": {},
   "outputs": [
    {
     "data": {
      "text/plain": [
       "\u001b[36mres22_0\u001b[39m: \u001b[32mList\u001b[39m[\u001b[32mAccountEvent\u001b[39m] = \u001b[33mList\u001b[39m(\n",
       "  WithdrawalCreated(accountOne,956),\n",
       "  WithdrawalCreated(accountTwo,609),\n",
       "  WithdrawalCreated(accountTwo,257),\n",
       "  IncomeCreated(accountOne,609),\n",
       "  IncomeCreated(accountOne,257),\n",
       "  WithdrawalCreated(accountOne,470),\n",
       "  WithdrawalCreated(accountOne,232),\n",
       "  WithdrawalCreated(accountOne,62),\n",
       "  WithdrawalCreated(accountTwo,6),\n",
       "  WithdrawalCreated(accountTwo,92),\n",
       "  IncomeCreated(accountTwo,956),\n",
       "\u001b[33m...\u001b[39m"
      ]
     },
     "execution_count": 23,
     "metadata": {},
     "output_type": "execute_result"
    }
   ],
   "source": [
    "queueCQRS.toList ; queueCQRS.clear"
   ]
  }
 ],
 "metadata": {
  "kernelspec": {
   "display_name": "Scala (2.12)",
   "language": "scala",
   "name": "scala_2_12"
  },
  "language_info": {
   "codemirror_mode": "text/x-scala",
   "file_extension": ".scala",
   "mimetype": "text/x-scala",
   "name": "scala212",
   "nbconvert_exporter": "script",
   "pygments_lexer": "scala",
   "version": "2.12.2"
  }
 },
 "nbformat": 4,
 "nbformat_minor": 2
}
