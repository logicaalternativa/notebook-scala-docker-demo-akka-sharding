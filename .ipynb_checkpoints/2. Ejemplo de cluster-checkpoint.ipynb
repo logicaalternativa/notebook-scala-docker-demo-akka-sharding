{
 "cells": [
  {
   "cell_type": "markdown",
   "metadata": {},
   "source": [
    "##### Ejemplo final\n",
    "\n",
    "Implementamos un ejemplo bancario modelidazando cuentas y trasnferencias utilizando **cluster sharding**.\n",
    "\n",
    "## Índice\n",
    "- Protocolo de mensajería\n",
    "  + De entrada\n",
    "  + De salida\n",
    "  + Eventos\n",
    "- Cuentas y transferencias\n",
    "  + Actor cuenta\n",
    "    - Funciones, a partir del mensaje: \n",
    "      + Id de cuenta a partir del mensaje\n",
    "      + Región de sharding a partir del mensaje\n",
    "  + Interfaz cuenta\n",
    "  + Definición de una transferencia\n",
    "- Implementaciones\n",
    "  + Logica de negocio: actualización del balance\n",
    "  + Publicación de eventos\n",
    "- Probandolo todo\n",
    "  + Se crea el sistema de actores con la configuración necesaria\n",
    "  + Se crea la región de cluster sharding\n",
    "- Bonus track\n",
    "  + Utilizar `akka-management`\n",
    "  + Escuchar los eventos del cluster "
   ]
  },
  {
   "cell_type": "markdown",
   "metadata": {},
   "source": [
    "###  Se importan la librerías de akka \n",
    "\n",
    "> Ahora se importan las librerías de cluster sharding"
   ]
  },
  {
   "cell_type": "markdown",
   "metadata": {},
   "source": [
    "### Implicitos necesarios"
   ]
  },
  {
   "cell_type": "code",
   "execution_count": 1,
   "metadata": {},
   "outputs": [
    {
     "data": {
      "text/plain": [
       "\u001b[32mimport \u001b[39m\u001b[36m$ivy.$                                                \n",
       "\u001b[39m\n",
       "\u001b[32mimport \u001b[39m\u001b[36m$ivy.$                                                      \n",
       "\u001b[39m\n",
       "\u001b[32mimport \u001b[39m\u001b[36m$ivy.$                                                                   \u001b[39m"
      ]
     },
     "execution_count": 1,
     "metadata": {},
     "output_type": "execute_result"
    }
   ],
   "source": [
    "import $ivy.`com.typesafe.akka::akka-cluster-sharding:2.5.14`\n",
    "import $ivy.`com.lightbend.akka.management::akka-management:0.17.0`\n",
    "import $ivy.`com.lightbend.akka.management::akka-management-cluster-http:0.17.0`"
   ]
  },
  {
   "cell_type": "code",
   "execution_count": 2,
   "metadata": {},
   "outputs": [
    {
     "data": {
      "text/plain": [
       "\u001b[32mimport \u001b[39m\u001b[36mscala.concurrent.ExecutionContext \n",
       "\u001b[39m\n",
       "\u001b[32mimport \u001b[39m\u001b[36mjava.util.concurrent.Executors\n",
       "\u001b[39m\n",
       "\u001b[32mimport \u001b[39m\u001b[36makka.util.Timeout\n",
       "\u001b[39m\n",
       "\u001b[32mimport \u001b[39m\u001b[36mscala.concurrent.duration._\n",
       "\n",
       "\u001b[39m\n",
       "\u001b[36mec\u001b[39m: \u001b[32mconcurrent\u001b[39m.\u001b[32mExecutionContextExecutorService\u001b[39m = scala.concurrent.impl.ExecutionContextImpl$$anon$1@cc3051e\n",
       "\u001b[36mtimeout\u001b[39m: \u001b[32makka\u001b[39m.\u001b[32mutil\u001b[39m.\u001b[32mTimeout\u001b[39m = \u001b[33mTimeout\u001b[39m(5 seconds)\n",
       "defined \u001b[32mobject\u001b[39m \u001b[36mTypes\u001b[39m"
      ]
     },
     "execution_count": 2,
     "metadata": {},
     "output_type": "execute_result"
    }
   ],
   "source": [
    "import scala.concurrent.ExecutionContext \n",
    "import java.util.concurrent.Executors\n",
    "import akka.util.Timeout\n",
    "import scala.concurrent.duration._\n",
    "\n",
    "implicit val ec  = ExecutionContext.fromExecutorService( Executors.newFixedThreadPool( 10 ) )\n",
    "implicit val timeout = Timeout( 5 seconds )   \n",
    "\n",
    "object Types {    \n",
    "   type Balance = Int\n",
    "   type Amount  = Int\n",
    "   type IdAccount = String\n",
    "}\n"
   ]
  },
  {
   "cell_type": "markdown",
   "metadata": {},
   "source": [
    "---\n",
    "\n",
    "---\n",
    "## Se define el protocolo de mensajería\n",
    "\n",
    "### Protocolo de entrada"
   ]
  },
  {
   "cell_type": "code",
   "execution_count": 3,
   "metadata": {},
   "outputs": [
    {
     "data": {
      "text/plain": [
       "\u001b[32mimport \u001b[39m\u001b[36mTypes._\n",
       "\n",
       "\u001b[39m\n",
       "defined \u001b[32mtrait\u001b[39m \u001b[36mAccountIn\u001b[39m\n",
       "defined \u001b[32mtrait\u001b[39m \u001b[36mAccountCommand\u001b[39m\n",
       "defined \u001b[32mclass\u001b[39m \u001b[36mWithdrawal\u001b[39m\n",
       "defined \u001b[32mclass\u001b[39m \u001b[36mIncome\u001b[39m\n",
       "defined \u001b[32mtrait\u001b[39m \u001b[36mAccountQuery\u001b[39m\n",
       "defined \u001b[32mclass\u001b[39m \u001b[36mGetBalance\u001b[39m"
      ]
     },
     "execution_count": 3,
     "metadata": {},
     "output_type": "execute_result"
    }
   ],
   "source": [
    "import Types._\n",
    "\n",
    "sealed trait AccountIn {\n",
    "    val idAccount : IdAccount\n",
    "}\n",
    "\n",
    "// Commands\n",
    "\n",
    "sealed trait AccountCommand extends AccountIn { \n",
    "    val amount : Balance\n",
    "}\n",
    "\n",
    "final case class Withdrawal(idAccount : IdAccount, amount : Amount) extends AccountCommand \n",
    "final case class Income(idAccount : IdAccount, amount : Amount) extends AccountCommand \n",
    "\n",
    "\n",
    "// Queries\n",
    "\n",
    "sealed trait AccountQuery extends AccountIn\n",
    "\n",
    "final case class GetBalance(idAccount : IdAccount) extends AccountQuery\n",
    "\n",
    "// Envolve for AkkaSharding"
   ]
  },
  {
   "cell_type": "markdown",
   "metadata": {},
   "source": [
    "### Protocolo de salida"
   ]
  },
  {
   "cell_type": "code",
   "execution_count": 4,
   "metadata": {},
   "outputs": [
    {
     "data": {
      "text/plain": [
       "\u001b[32mimport \u001b[39m\u001b[36mTypes._ \n",
       "\n",
       "\u001b[39m\n",
       "defined \u001b[32mtrait\u001b[39m \u001b[36mAccountOut\u001b[39m\n",
       "defined \u001b[32mclass\u001b[39m \u001b[36mCurrentBalance\u001b[39m"
      ]
     },
     "execution_count": 4,
     "metadata": {},
     "output_type": "execute_result"
    }
   ],
   "source": [
    "import Types._ \n",
    "\n",
    "sealed trait AccountOut\n",
    "\n",
    "final case class CurrentBalance( balance: Balance ) extends AccountOut"
   ]
  },
  {
   "cell_type": "markdown",
   "metadata": {},
   "source": [
    "### Eventos"
   ]
  },
  {
   "cell_type": "code",
   "execution_count": 5,
   "metadata": {},
   "outputs": [
    {
     "data": {
      "text/plain": [
       "\u001b[32mimport \u001b[39m\u001b[36mTypes._ \n",
       "\n",
       "\u001b[39m\n",
       "defined \u001b[32mtrait\u001b[39m \u001b[36mAccountEvent\u001b[39m\n",
       "defined \u001b[32mclass\u001b[39m \u001b[36mWithdrawalCreated\u001b[39m\n",
       "defined \u001b[32mclass\u001b[39m \u001b[36mIncomeCreated\u001b[39m"
      ]
     },
     "execution_count": 5,
     "metadata": {},
     "output_type": "execute_result"
    }
   ],
   "source": [
    "import Types._ \n",
    "\n",
    "sealed trait AccountEvent {    \n",
    "    val idAccount : IdAccount\n",
    "    val amount: Amount\n",
    "}\n",
    "\n",
    "case class WithdrawalCreated( \n",
    "                                val idAccount: IdAccount, \n",
    "                                val amount : Amount\n",
    "                            ) extends AccountEvent\n",
    "case class IncomeCreated( \n",
    "                            val idAccount: IdAccount, \n",
    "                            val amount : Amount\n",
    "                        ) extends AccountEvent"
   ]
  },
  {
   "cell_type": "markdown",
   "metadata": {},
   "source": [
    "---\n",
    "\n",
    "---\n",
    "## Cuentas y transferencias\n",
    "### Actor 'Cuenta'"
   ]
  },
  {
   "cell_type": "code",
   "execution_count": 6,
   "metadata": {},
   "outputs": [
    {
     "data": {
      "text/plain": [
       "\u001b[32mimport \u001b[39m\u001b[36makka.actor._\n",
       "\u001b[39m\n",
       "\u001b[32mimport \u001b[39m\u001b[36mscala.collection.mutable.Queue\n",
       "\u001b[39m\n",
       "\u001b[32mimport \u001b[39m\u001b[36mscala.util._\n",
       "\u001b[39m\n",
       "\u001b[32mimport \u001b[39m\u001b[36mTypes._\n",
       "\n",
       "\u001b[39m\n",
       "defined \u001b[32mclass\u001b[39m \u001b[36mActorAccount\u001b[39m\n",
       "defined \u001b[32mobject\u001b[39m \u001b[36mActorAccount\u001b[39m"
      ]
     },
     "execution_count": 6,
     "metadata": {},
     "output_type": "execute_result"
    }
   ],
   "source": [
    "import akka.actor._\n",
    "import scala.collection.mutable.Queue\n",
    "import scala.util._\n",
    "import Types._\n",
    "\n",
    "class ActorAccount( \n",
    "                    private val updateBalance : (Amount, Balance) => Try[Balance], \n",
    "                    private val queueCQRS: Queue[AccountEvent] \n",
    "                 ) extends Actor {\n",
    "    \n",
    "    val id = self.path.name\n",
    "    \n",
    "    var balance : Int = 0\n",
    "    \n",
    "    override def receive = {\n",
    "        \n",
    "        case command : AccountCommand => manageCommads( command )\n",
    "        case querry  : AccountQuery   => manageQueries( querry )\n",
    "        case other                    => unhandled( other )\n",
    "        \n",
    "    }\n",
    "    \n",
    "    private def manageCommads( command: AccountCommand ) : Unit = {\n",
    "        \n",
    "        command match {\n",
    "            case Withdrawal( _ , amount ) => execUpdateBalance( -1 * amount, command)\n",
    "            case Income( _, amount )     => execUpdateBalance( amount, command )\n",
    "            \n",
    "        }           \n",
    "        \n",
    "    }\n",
    "    \n",
    "    private def execUpdateBalance( amount : Amount, command : AccountCommand) = {        \n",
    "        updateBalance( amount, balance ) match {            \n",
    "            case Success( newBalance ) => {\n",
    "                balance = newBalance\n",
    "                responseBalance( balance )\n",
    "                sendEvent( command )\n",
    "            }\n",
    "            case Failure(  error ) => sender() ! Status.Failure( error )         \n",
    "        }\n",
    "    }\n",
    "    \n",
    "    private def sendEvent( command: AccountCommand ) {\n",
    "        \n",
    "        val event : AccountEvent = command match {\n",
    "            case Withdrawal( idAccount, amount ) => WithdrawalCreated( idAccount, amount ) \n",
    "            case Income( idAccount, amount )     => IncomeCreated( idAccount, amount ) \n",
    "        }\n",
    "        \n",
    "        queueCQRS.enqueue( event )\n",
    "        \n",
    "    }\n",
    "    \n",
    "    private def manageQueries( queries : AccountQuery ) : Unit = queries match {\n",
    "        case GetBalance(_) => responseBalance( balance )\n",
    "    }\n",
    "    \n",
    "    private def responseBalance( bal : Balance ) = sender() !  CurrentBalance( bal )    \n",
    "}\n",
    "\n",
    "\n",
    "/*\n",
    "\n",
    "#### Se crea un objeto acompañante\n",
    "Tendra las funciones necesarias para la creación de la región de sharding\n",
    "*/\n",
    "\n",
    "object ActorAccount {\n",
    "    \n",
    "    import akka.cluster.sharding.{ShardRegion, ClusterSharding, ClusterShardingSettings}\n",
    "    import akka.actor.ActorRef\n",
    "    \n",
    "    \n",
    "    def props( updateBalance : (Amount, Balance) => Try[Balance], queueCQRS: Queue[AccountEvent] ) = Props {\n",
    "        new ActorAccount( updateBalance, queueCQRS ) \n",
    "    }  \n",
    "\n",
    "    def  extractEntityId: ShardRegion.ExtractEntityId = {\n",
    "        case in: AccountIn =>  ( in.idAccount, in )\n",
    "    }      \n",
    "    \n",
    "    def extractShardId: ShardRegion.ExtractShardId = {\n",
    "        case in: AccountIn =>  ( Math.abs( in.idAccount.hashCode % 3 ) ).toString\n",
    "\n",
    "    }\n",
    "    \n",
    "}\n"
   ]
  },
  {
   "cell_type": "markdown",
   "metadata": {},
   "source": [
    "### Interfaz 'Cuenta'"
   ]
  },
  {
   "cell_type": "code",
   "execution_count": 7,
   "metadata": {},
   "outputs": [
    {
     "data": {
      "text/plain": [
       "\u001b[32mimport \u001b[39m\u001b[36mscala.concurrent.Future\n",
       "\u001b[39m\n",
       "\u001b[32mimport \u001b[39m\u001b[36mTypes._\n",
       "\n",
       "\u001b[39m\n",
       "defined \u001b[32mtrait\u001b[39m \u001b[36mAccount\u001b[39m\n",
       "defined \u001b[32mobject\u001b[39m \u001b[36mAccount\u001b[39m"
      ]
     },
     "execution_count": 7,
     "metadata": {},
     "output_type": "execute_result"
    }
   ],
   "source": [
    "import scala.concurrent.Future\n",
    "import Types._\n",
    "\n",
    "trait Account{\n",
    "   def makeWithdrawal( amount : Amount ) : Future[Balance] \n",
    "   def makeIncome( amount : Amount ) : Future[Balance] \n",
    "   def getBalance: Future[Balance]\n",
    "}\n",
    "\n",
    "object Account {\n",
    "    \n",
    "    import akka.pattern._\n",
    "    import akka.actor._\n",
    "    import akka.util.Timeout\n",
    "    \n",
    "    private def toBalance( responseActor : Future[Any] )( implicit ec : ExecutionContext ) : Future[Balance] = {\n",
    "        responseActor.mapTo[CurrentBalance].map( _.balance )\n",
    "    }\n",
    "    \n",
    "    def apply( accountId : String, accountSharding : ActorRef )\n",
    "                ( implicit ec : ExecutionContext, timeout : Timeout ) = new Account {\n",
    "      \n",
    "         def makeWithdrawal( amount : Int ) : Future[ Int] = toBalance {\n",
    "            accountSharding ? Withdrawal( accountId, amount ) \n",
    "         }\n",
    "\n",
    "         def makeIncome( amount : Int ) : Future[Int] = toBalance {\n",
    "             accountSharding ? Income( accountId, amount ) \n",
    "         }\n",
    "\n",
    "         def getBalance : Future[Int] = toBalance {\n",
    "             accountSharding ? GetBalance( accountId )\n",
    "         }\n",
    "        \n",
    "    }\n",
    "}\n",
    "\n"
   ]
  },
  {
   "cell_type": "markdown",
   "metadata": {},
   "source": [
    "### Definición de una transferencia\n",
    "\n",
    "Se simula una operación/compensacion siguiendo el patrón sagas"
   ]
  },
  {
   "cell_type": "code",
   "execution_count": 8,
   "metadata": {},
   "outputs": [
    {
     "data": {
      "text/plain": [
       "\u001b[32mimport \u001b[39m\u001b[36mTypes._\n",
       "\n",
       "\u001b[39m\n",
       "defined \u001b[32mobject\u001b[39m \u001b[36mTransfer\u001b[39m"
      ]
     },
     "execution_count": 8,
     "metadata": {},
     "output_type": "execute_result"
    }
   ],
   "source": [
    "import Types._\n",
    "\n",
    "object Transfer {\n",
    "    \n",
    "    import scala.concurrent._\n",
    "    \n",
    "    def transfer( from : Account, to: Account )( amount : Amount )( implicit ec : ExecutionContext) = {\n",
    "        \n",
    "        for {\n",
    "            \n",
    "             _  <- from.makeWithdrawal( amount ) \n",
    "            res <- to.makeIncome( amount )\n",
    "                    .map( _ => true )\n",
    "                    .recoverWith{ \n",
    "                        case _ => from.makeIncome( amount ).map( _=> false ) \n",
    "                    }\n",
    "        } yield( res )\n",
    "        \n",
    "   }\n",
    "    \n",
    "}"
   ]
  },
  {
   "cell_type": "markdown",
   "metadata": {},
   "source": [
    "---\n",
    "\n",
    "----\n",
    "## Implementaciones"
   ]
  },
  {
   "cell_type": "markdown",
   "metadata": {},
   "source": [
    "### Lógica de negocio\n",
    "Se define una lógica de negocio simple. En este caso no se admiten descubiertos, pero por ejemplo se pueden implementar diferentes lógicas como un porcentaje de descubierto dependiendo del balance. \n",
    "> El objetivo final es que la lógica puede estar separada del actor y puede ser validada y probada aparte"
   ]
  },
  {
   "cell_type": "code",
   "execution_count": 9,
   "metadata": {},
   "outputs": [
    {
     "data": {
      "text/plain": [
       "\u001b[32mimport \u001b[39m\u001b[36mscala.util._\n",
       "\u001b[39m\n",
       "\u001b[32mimport \u001b[39m\u001b[36mTypes._\n",
       "\n",
       "\u001b[39m\n",
       "\u001b[36mupdateBalance\u001b[39m: (\u001b[32mAmount\u001b[39m, \u001b[32mBalance\u001b[39m) => \u001b[32mTry\u001b[39m[\u001b[32mBalance\u001b[39m] = $sess.cmd8Wrapper$Helper$$Lambda$3423/302591303@4bcfbd82"
      ]
     },
     "execution_count": 9,
     "metadata": {},
     "output_type": "execute_result"
    }
   ],
   "source": [
    "import scala.util._\n",
    "import Types._\n",
    "\n",
    "implicit val updateBalance : (Amount,Balance) => Try[Balance] = ( amount, balance ) => {\n",
    "   \n",
    "    val newBalance = amount + balance\n",
    "    \n",
    "    if( newBalance >= 0 ) {\n",
    "    \n",
    "        Success( newBalance )\n",
    "        \n",
    "    } else {\n",
    "        \n",
    "        Failure( new IllegalStateException( s\"It should not be in red( ${newBalance} )\" ) )\n",
    "    }\n",
    "    \n",
    "}"
   ]
  },
  {
   "cell_type": "markdown",
   "metadata": {},
   "source": [
    "### Indirección de publicación de eventos\n",
    "Se define una cola que será la indirección de publicación de eventos.\n",
    "En este caso para esta prueba será una cola mutable de Scala.   \n",
    "> En un sistema real puede ser un akka stream con su fuente '_materializada_' en una cola"
   ]
  },
  {
   "cell_type": "code",
   "execution_count": 10,
   "metadata": {},
   "outputs": [
    {
     "data": {
      "text/plain": [
       "\u001b[32mimport \u001b[39m\u001b[36mscala.collection.mutable.Queue\n",
       "\n",
       "\u001b[39m\n",
       "\u001b[36mqueueCQRS\u001b[39m: \u001b[32mQueue\u001b[39m[\u001b[32mAccountEvent\u001b[39m] = \u001b[33mQueue\u001b[39m()"
      ]
     },
     "execution_count": 10,
     "metadata": {},
     "output_type": "execute_result"
    }
   ],
   "source": [
    "import scala.collection.mutable.Queue\n",
    "\n",
    "val queueCQRS = Queue[AccountEvent]()"
   ]
  },
  {
   "cell_type": "markdown",
   "metadata": {},
   "source": [
    "---\n",
    "\n",
    "---\n",
    "## Probandolo todo"
   ]
  },
  {
   "cell_type": "markdown",
   "metadata": {},
   "source": [
    "### _Testing: Utilidades_\n",
    "\n",
    "> **Sólo para motivos de testing**. Espera el resultado de un futuro"
   ]
  },
  {
   "cell_type": "code",
   "execution_count": 11,
   "metadata": {
    "slideshow": {
     "slide_type": "notes"
    }
   },
   "outputs": [
    {
     "data": {
      "text/plain": [
       "defined \u001b[32mobject\u001b[39m \u001b[36mTestUtil\u001b[39m"
      ]
     },
     "execution_count": 11,
     "metadata": {},
     "output_type": "execute_result"
    }
   ],
   "source": [
    "object TestUtil {\n",
    "    \n",
    "    import scala.concurrent._, duration._\n",
    "    import akka.pattern._\n",
    "    import akka.util.Timeout\n",
    "\n",
    "\n",
    "    val tm = 5 seconds\n",
    "    val timeout = Timeout( tm )\n",
    "\n",
    "    def result[T]( future : => Future[T] ) =  Try {\n",
    "        Await.result( future, tm )\n",
    "    }\n",
    "    \n",
    "}"
   ]
  },
  {
   "cell_type": "markdown",
   "metadata": {},
   "source": [
    "---\n",
    "### Iniciando el entorno"
   ]
  },
  {
   "cell_type": "markdown",
   "metadata": {},
   "source": [
    "#### Singlenton de utilidades del sistema de actores\n",
    "\n",
    "Se crea un objeto con los métodos necesarios para crear el sistema de actores con la configuración necesaria que requiere akka sharding. También permite parar el sistema de actores de una manera ordenada.\n",
    "\n",
    "> En este caso existen dos _seed nodes_ configurados para permitir comprobar el comportamiento del cluster"
   ]
  },
  {
   "cell_type": "code",
   "execution_count": 12,
   "metadata": {},
   "outputs": [
    {
     "data": {
      "text/plain": [
       "defined \u001b[32mobject\u001b[39m \u001b[36mSystemUtil\u001b[39m"
      ]
     },
     "execution_count": 12,
     "metadata": {},
     "output_type": "execute_result"
    }
   ],
   "source": [
    "\n",
    "object SystemUtil {\n",
    "    \n",
    "    import com.typesafe.config.ConfigFactory \n",
    "    import akka.actor._\n",
    "    import akka.cluster.Cluster\n",
    "    import scala.concurrent.Future\n",
    "\n",
    "    val SystemName = \"test2\"\n",
    "    \n",
    "    val AkkaPort = 2554\n",
    "    \n",
    "    val AkkaManagementPort = 8554\n",
    "    \n",
    "    val akkaCfg =\n",
    "      s\"\"\"\n",
    "        |akka {\n",
    "        |  \n",
    "        |  remote {\n",
    "        |    netty.tcp {\n",
    "        |      hostname = \"127.0.0.1\"\n",
    "        |      port = ${AkkaPort}\n",
    "        |    }\n",
    "        |  }\n",
    "        |  \n",
    "        |  cluster {\n",
    "        |     seed-nodes = [\n",
    "        |                     \"akka.tcp://${SystemName}@127.0.0.1:2554\",\n",
    "        |                     \"akka.tcp://${SystemName}@127.0.0.1:2553\"\n",
    "        |                   ]\n",
    "        |      sharding.state-store-mode = ddata\n",
    "        |    }\n",
    "        |\n",
    "        |  actor {\n",
    "        |    provider = \"akka.cluster.ClusterActorRefProvider\"\n",
    "        |  }\n",
    "        |\n",
    "        |  management {\n",
    "        |     http {\n",
    "        |       hostname = \"127.0.0.1\"\n",
    "        |       port = ${AkkaManagementPort} \n",
    "        |     }\n",
    "        |\n",
    "        |  }\n",
    "        |\n",
    "        |}\n",
    "      \"\"\".stripMargin\n",
    "    \n",
    "    lazy val system = ActorSystem.create( SystemName, \n",
    "                                          ConfigFactory.parseString( akkaCfg ).resolve() \n",
    "                                         )\n",
    "    def terminate = {\n",
    "        val cluster = Cluster.get( system )\n",
    "        cluster.registerOnMemberRemoved( system.terminate )\n",
    "        cluster.leave( cluster.selfAddress )\n",
    "        system.whenTerminated\n",
    "    }\n",
    "    \n",
    "}\n",
    "\n"
   ]
  },
  {
   "cell_type": "markdown",
   "metadata": {},
   "source": [
    "####  Se crea la región de cluster sharding"
   ]
  },
  {
   "cell_type": "code",
   "execution_count": 13,
   "metadata": {
    "scrolled": true
   },
   "outputs": [
    {
     "name": "stdout",
     "output_type": "stream",
     "text": [
      "[INFO] [11/22/2018 05:33:36.110] [pool-6-thread-12] [akka.remote.Remoting] Starting remoting\n",
      "[INFO] [11/22/2018 05:33:36.299] [pool-6-thread-12] [akka.remote.Remoting] Remoting started; listening on addresses :[akka.tcp://test2@127.0.0.1:2554]\n",
      "[INFO] [11/22/2018 05:33:36.301] [pool-6-thread-12] [akka.remote.Remoting] Remoting now listens on addresses: [akka.tcp://test2@127.0.0.1:2554]\n",
      "[INFO] [11/22/2018 05:33:36.335] [pool-6-thread-12] [akka.cluster.Cluster(akka://test2)] Cluster Node [akka.tcp://test2@127.0.0.1:2554] - Starting up...\n",
      "[INFO] [11/22/2018 05:33:36.521] [pool-6-thread-12] [akka.cluster.Cluster(akka://test2)] Cluster Node [akka.tcp://test2@127.0.0.1:2554] - Registered cluster JMX MBean [akka:type=Cluster]\n",
      "[INFO] [11/22/2018 05:33:36.521] [pool-6-thread-12] [akka.cluster.Cluster(akka://test2)] Cluster Node [akka.tcp://test2@127.0.0.1:2554] - Started up successfully\n"
     ]
    },
    {
     "data": {
      "text/plain": [
       "\u001b[32mimport \u001b[39m\u001b[36makka.cluster.sharding.{ClusterSharding, ClusterShardingSettings}\n",
       "\u001b[39m\n",
       "\u001b[32mimport \u001b[39m\u001b[36makka.actor.ActorRef\n",
       "\n",
       "\u001b[39m\n",
       "\u001b[36maccountsSharding\u001b[39m: \u001b[32mActorRef\u001b[39m = Actor[akka://test2/system/sharding/accounts#1572097039]"
      ]
     },
     "execution_count": 13,
     "metadata": {},
     "output_type": "execute_result"
    }
   ],
   "source": [
    "import akka.cluster.sharding.{ClusterSharding, ClusterShardingSettings}\n",
    "import akka.actor.ActorRef\n",
    "\n",
    "val accountsSharding : ActorRef = ClusterSharding( SystemUtil.system ).start(\n",
    "      typeName = \"accounts\",\n",
    "      entityProps = ActorAccount.props( updateBalance, queueCQRS ),\n",
    "      settings = ClusterShardingSettings( SystemUtil.system ),\n",
    "      extractShardId = ActorAccount.extractShardId,\n",
    "      extractEntityId = ActorAccount.extractEntityId\n",
    "    )"
   ]
  },
  {
   "cell_type": "markdown",
   "metadata": {},
   "source": [
    "#### Se crean dos 'entidades' cuenta"
   ]
  },
  {
   "cell_type": "code",
   "execution_count": 14,
   "metadata": {
    "scrolled": true
   },
   "outputs": [
    {
     "data": {
      "text/plain": [
       "\u001b[36maccountOne\u001b[39m: \u001b[32mAnyRef\u001b[39m with \u001b[32mAccount\u001b[39m = $sess.cmd6Wrapper$Helper$Account$$anon$1@1f9c5f13\n",
       "\u001b[36maccountTwo\u001b[39m: \u001b[32mAnyRef\u001b[39m with \u001b[32mAccount\u001b[39m = $sess.cmd6Wrapper$Helper$Account$$anon$1@1701077"
      ]
     },
     "execution_count": 14,
     "metadata": {},
     "output_type": "execute_result"
    }
   ],
   "source": [
    "val accountOne = Account( \"accountOne\", accountsSharding )\n",
    "val accountTwo = Account( \"accountTwo\", accountsSharding )"
   ]
  },
  {
   "cell_type": "markdown",
   "metadata": {},
   "source": [
    "#### Se hace un ingreso incial a las dos cuentas\n",
    "\n",
    "Se obtiene el resutlado de los dos balances y se calcula el total del dinero (la suma de los dos balances)\n",
    "\n",
    "> Aquí se hace `Await` sólo por motivos de testing"
   ]
  },
  {
   "cell_type": "code",
   "execution_count": 15,
   "metadata": {},
   "outputs": [
    {
     "data": {
      "text/plain": [
       "\u001b[36mres14\u001b[39m: \u001b[32mTry\u001b[39m[(\u001b[32mBalance\u001b[39m, \u001b[32mBalance\u001b[39m, \u001b[32mInt\u001b[39m)] = \u001b[33mFailure\u001b[39m(\n",
       "  java.util.concurrent.TimeoutException: Futures timed out after [5 seconds]\n",
       ")"
      ]
     },
     "execution_count": 15,
     "metadata": {},
     "output_type": "execute_result"
    }
   ],
   "source": [
    "\n",
    "TestUtil.result{\n",
    "    \n",
    "    accountOne.makeIncome( 1000 ).zipWith( accountTwo.makeIncome( 1000 ) ){\n",
    "        ( b1, b2 ) => (b1, b2, b1 +b2) \n",
    "    }\n",
    "    \n",
    "}"
   ]
  },
  {
   "cell_type": "markdown",
   "metadata": {},
   "source": [
    "#### Se comprueban los balances\n",
    "\n",
    "> `Await` sólo por motivos de testing"
   ]
  },
  {
   "cell_type": "code",
   "execution_count": 16,
   "metadata": {},
   "outputs": [
    {
     "data": {
      "text/plain": [
       "\u001b[36mres15\u001b[39m: \u001b[32mTry\u001b[39m[(\u001b[32mBalance\u001b[39m, \u001b[32mBalance\u001b[39m, \u001b[32mInt\u001b[39m)] = \u001b[33mSuccess\u001b[39m((\u001b[32m1000\u001b[39m, \u001b[32m1000\u001b[39m, \u001b[32m2000\u001b[39m))"
      ]
     },
     "execution_count": 16,
     "metadata": {},
     "output_type": "execute_result"
    }
   ],
   "source": [
    "TestUtil.result {\n",
    "    accountOne.getBalance.zipWith( accountTwo.getBalance ){\n",
    "        ( b1, b2 ) => (b1, b2, b1 + b2) \n",
    "    }\n",
    "}"
   ]
  },
  {
   "cell_type": "markdown",
   "metadata": {},
   "source": [
    "#### Se comprueban los eventos"
   ]
  },
  {
   "cell_type": "code",
   "execution_count": 17,
   "metadata": {},
   "outputs": [
    {
     "data": {
      "text/plain": [
       "\u001b[36mres16_0\u001b[39m: \u001b[32mList\u001b[39m[\u001b[32mAccountEvent\u001b[39m] = \u001b[33mList\u001b[39m()"
      ]
     },
     "execution_count": 17,
     "metadata": {},
     "output_type": "execute_result"
    }
   ],
   "source": [
    "queueCQRS.toList ; queueCQRS.clear"
   ]
  },
  {
   "cell_type": "markdown",
   "metadata": {},
   "source": [
    "---\n",
    "### _Probando, probando_"
   ]
  },
  {
   "cell_type": "markdown",
   "metadata": {},
   "source": [
    "#### Funciones de utilidades\n",
    "Para poder testear transferencias de una cuenta a otra de una manera más cómoda"
   ]
  },
  {
   "cell_type": "code",
   "execution_count": 18,
   "metadata": {},
   "outputs": [
    {
     "data": {
      "text/plain": [
       "\u001b[36mtransfersOneToTwo\u001b[39m: \u001b[32mAmount\u001b[39m => \u001b[32mFuture\u001b[39m[\u001b[32mBoolean\u001b[39m] = $sess.cmd17Wrapper$Helper$$Lambda$4213/1080223011@4cc66642\n",
       "\u001b[36mtransfersTwoToOne\u001b[39m: \u001b[32mAmount\u001b[39m => \u001b[32mFuture\u001b[39m[\u001b[32mBoolean\u001b[39m] = $sess.cmd17Wrapper$Helper$$Lambda$4214/196248011@64a67361"
      ]
     },
     "execution_count": 18,
     "metadata": {},
     "output_type": "execute_result"
    }
   ],
   "source": [
    "val transfersOneToTwo =  Transfer.transfer( accountOne, accountTwo)( _ )\n",
    "val transfersTwoToOne =  Transfer.transfer( accountTwo, accountOne)( _ )"
   ]
  },
  {
   "cell_type": "markdown",
   "metadata": {},
   "source": [
    "#### Primera prueba\n",
    "\n",
    "Dos transferencias lanzadas en paralelo. El mismo importe (`500`) desde la cuenta 1 a la 2 y desde la 2 a la 1"
   ]
  },
  {
   "cell_type": "code",
   "execution_count": 19,
   "metadata": {
    "scrolled": true
   },
   "outputs": [
    {
     "data": {
      "text/plain": [
       "\u001b[36mres18\u001b[39m: \u001b[32mTry\u001b[39m[\u001b[32mBoolean\u001b[39m] = \u001b[33mSuccess\u001b[39m(\u001b[32mtrue\u001b[39m)"
      ]
     },
     "execution_count": 19,
     "metadata": {},
     "output_type": "execute_result"
    }
   ],
   "source": [
    "TestUtil.result{\n",
    "    \n",
    "    transfersOneToTwo( 500 ).zipWith( transfersTwoToOne( 500 ) ) {\n",
    "        (a, b) =>  a && b\n",
    "    }\n",
    "    \n",
    "}"
   ]
  },
  {
   "cell_type": "markdown",
   "metadata": {},
   "source": [
    "#### Se vuelven a comprobar los balances\n",
    "\n",
    "> `Await` sólo por motivos de testing"
   ]
  },
  {
   "cell_type": "code",
   "execution_count": 26,
   "metadata": {},
   "outputs": [
    {
     "data": {
      "text/plain": [
       "\u001b[36mres25\u001b[39m: \u001b[32mTry\u001b[39m[(\u001b[32mBalance\u001b[39m, \u001b[32mBalance\u001b[39m, \u001b[32mInt\u001b[39m)] = \u001b[33mSuccess\u001b[39m((\u001b[32m0\u001b[39m, \u001b[32m0\u001b[39m, \u001b[32m0\u001b[39m))"
      ]
     },
     "execution_count": 26,
     "metadata": {},
     "output_type": "execute_result"
    }
   ],
   "source": [
    "TestUtil.result {\n",
    "    accountOne.getBalance.zipWith( accountTwo.getBalance ){\n",
    "        ( b1, b2 ) => (b1, b2, b1 + b2) \n",
    "    }\n",
    "}"
   ]
  },
  {
   "cell_type": "markdown",
   "metadata": {},
   "source": [
    "#### Se vuelven a comprobar los eventos"
   ]
  },
  {
   "cell_type": "code",
   "execution_count": 21,
   "metadata": {},
   "outputs": [
    {
     "data": {
      "text/plain": [
       "\u001b[36mres20_0\u001b[39m: \u001b[32mList\u001b[39m[\u001b[32mAccountEvent\u001b[39m] = \u001b[33mList\u001b[39m()"
      ]
     },
     "execution_count": 21,
     "metadata": {},
     "output_type": "execute_result"
    }
   ],
   "source": [
    "queueCQRS.toList ; queueCQRS.clear"
   ]
  },
  {
   "cell_type": "markdown",
   "metadata": {},
   "source": [
    "---\n",
    "### Bonus track\n"
   ]
  },
  {
   "cell_type": "markdown",
   "metadata": {},
   "source": [
    "#### Akka management"
   ]
  },
  {
   "cell_type": "markdown",
   "metadata": {},
   "source": [
    "Se arranca akka-management. En este caso arranca un api rest en el puerto definido en `AkkaManagementPort` en `SystemUtil`"
   ]
  },
  {
   "cell_type": "code",
   "execution_count": 22,
   "metadata": {},
   "outputs": [
    {
     "data": {
      "text/plain": [
       "\u001b[32mimport \u001b[39m\u001b[36makka.management.AkkaManagement\n",
       "\n",
       "\u001b[39m\n",
       "\u001b[36mres21_1\u001b[39m: \u001b[32mTry\u001b[39m[\u001b[32makka\u001b[39m.\u001b[32mhttp\u001b[39m.\u001b[32mscaladsl\u001b[39m.\u001b[32mmodel\u001b[39m.\u001b[32mUri\u001b[39m] = \u001b[33mSuccess\u001b[39m(http://127.0.0.1:8554)"
      ]
     },
     "execution_count": 22,
     "metadata": {},
     "output_type": "execute_result"
    }
   ],
   "source": [
    "import akka.management.AkkaManagement\n",
    "\n",
    "TestUtil.result {\n",
    "    AkkaManagement( SystemUtil.system ).start()    \n",
    "}"
   ]
  },
  {
   "cell_type": "markdown",
   "metadata": {},
   "source": [
    "#### Escuchar eventos del estado del cluster"
   ]
  },
  {
   "cell_type": "markdown",
   "metadata": {},
   "source": [
    "Actor '_listener_' que escucha los eventos del cluster `MemberEvent` y `ReachabilityEvent` y los almacena en una variable.\n",
    "\n",
    "Se puede obtener esa información eviando un mensaje del tipo `GetClusterStateEvent`. Después de devolver estos datos se incializa la variable."
   ]
  },
  {
   "cell_type": "code",
   "execution_count": 23,
   "metadata": {},
   "outputs": [
    {
     "data": {
      "text/plain": [
       "defined \u001b[32mtrait\u001b[39m \u001b[36mEventClusterListenerIn\u001b[39m\n",
       "defined \u001b[32mobject\u001b[39m \u001b[36mGetClusterStateEvent\u001b[39m\n",
       "defined \u001b[32mclass\u001b[39m \u001b[36mEventClusterListener\u001b[39m"
      ]
     },
     "execution_count": 23,
     "metadata": {},
     "output_type": "execute_result"
    }
   ],
   "source": [
    "sealed trait EventClusterListenerIn \n",
    "final case object GetClusterStateEvent extends EventClusterListenerIn\n",
    "\n",
    "class EventClusterListener extends Actor {\n",
    "    \n",
    "    import akka.cluster.Cluster\n",
    "    \n",
    "    import akka.cluster.ClusterEvent._\n",
    "    \n",
    "    val cluster = Cluster( context.system  )\n",
    "    \n",
    "    cluster.subscribe(self, \n",
    "                      initialStateMode = InitialStateAsEvents, \n",
    "                      classOf[MemberEvent], \n",
    "                      classOf[ReachabilityEvent] )\n",
    "    \n",
    "    var listDomain = Set[ClusterDomainEvent]()       \n",
    "    \n",
    "    \n",
    "    override def receive = {\n",
    "        \n",
    "        case a : ClusterDomainEvent => {\n",
    "            listDomain = listDomain + a\n",
    "        }\n",
    "        \n",
    "        case GetClusterStateEvent => {\n",
    "            sender() ! listDomain\n",
    "            listDomain = Set()\n",
    "        }       \n",
    "    }\n",
    "    \n",
    "}\n"
   ]
  },
  {
   "cell_type": "markdown",
   "metadata": {},
   "source": [
    "Se crea un objeto que envuelve al actor para gestionar estos mensajes"
   ]
  },
  {
   "cell_type": "code",
   "execution_count": 24,
   "metadata": {},
   "outputs": [
    {
     "data": {
      "text/plain": [
       "defined \u001b[32mobject\u001b[39m \u001b[36mEventClusterListener\u001b[39m"
      ]
     },
     "execution_count": 24,
     "metadata": {},
     "output_type": "execute_result"
    }
   ],
   "source": [
    "object EventClusterListener {\n",
    "    \n",
    "    import akka.pattern._\n",
    "    import akka.actor._\n",
    "    import akka.util.Timeout\n",
    "    \n",
    "    import akka.cluster.ClusterEvent._\n",
    "    \n",
    "    lazy val listener = SystemUtil.system.actorOf( Props( new EventClusterListener() ) )\n",
    "    \n",
    "     def getEvents: Future[Set[ClusterDomainEvent]] = {\n",
    "       ( listener ? GetClusterStateEvent ) .mapTo[Set[ClusterDomainEvent]]           \n",
    "     }\n",
    "}\n",
    "\n"
   ]
  },
  {
   "cell_type": "markdown",
   "metadata": {},
   "source": [
    "Se obtiene los eventos escuchados por este nodo\n",
    "\n",
    "> Se utiliza `TestUtil` por motivos de testing"
   ]
  },
  {
   "cell_type": "code",
   "execution_count": 25,
   "metadata": {
    "scrolled": true
   },
   "outputs": [
    {
     "data": {
      "text/plain": [
       "\u001b[36mres24\u001b[39m: \u001b[32mTry\u001b[39m[\u001b[32mSet\u001b[39m[\u001b[32makka\u001b[39m.\u001b[32mcluster\u001b[39m.\u001b[32mClusterEvent\u001b[39m.\u001b[32mClusterDomainEvent\u001b[39m]] = \u001b[33mSuccess\u001b[39m(\n",
       "  \u001b[33mSet\u001b[39m(\n",
       "    MemberUp(Member(address = akka.tcp://test2@127.0.0.1:2553, status = Up)),\n",
       "    MemberUp(Member(address = akka.tcp://test2@127.0.0.1:2554, status = Up))\n",
       "  )\n",
       ")"
      ]
     },
     "execution_count": 25,
     "metadata": {},
     "output_type": "execute_result"
    }
   ],
   "source": [
    "TestUtil.result {\n",
    "   EventClusterListener.getEvents\n",
    "}"
   ]
  }
 ],
 "metadata": {
  "kernelspec": {
   "display_name": "Scala (2.12)",
   "language": "scala",
   "name": "scala_2_12"
  },
  "language_info": {
   "codemirror_mode": "text/x-scala",
   "file_extension": ".scala",
   "mimetype": "text/x-scala",
   "name": "scala212",
   "nbconvert_exporter": "script",
   "pygments_lexer": "scala",
   "version": "2.12.2"
  }
 },
 "nbformat": 4,
 "nbformat_minor": 2
}
