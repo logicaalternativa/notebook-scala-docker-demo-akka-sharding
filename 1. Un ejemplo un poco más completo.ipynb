{
 "cells": [
  {
   "cell_type": "markdown",
   "metadata": {},
   "source": [
    "# Un ejemplo un poco más complicado\n",
    "\n",
    "Vamos a hacer un caso muy simplificado de una cuenta de un banco"
   ]
  },
  {
   "cell_type": "markdown",
   "metadata": {},
   "source": [
    "###  Se importan la librerias de akka "
   ]
  },
  {
   "cell_type": "code",
   "execution_count": 1,
   "metadata": {},
   "outputs": [
    {
     "data": {
      "text/plain": [
       "\u001b[32mimport \u001b[39m\u001b[36m$ivy.$                                     \u001b[39m"
      ]
     },
     "execution_count": 1,
     "metadata": {},
     "output_type": "execute_result"
    }
   ],
   "source": [
    "import $ivy.`com.typesafe.akka::akka-actor:2.5.14`"
   ]
  },
  {
   "cell_type": "markdown",
   "metadata": {},
   "source": [
    "## Se define el protocolo de mensajería\n",
    "\n",
    "### Protocolo de entrada"
   ]
  },
  {
   "cell_type": "code",
   "execution_count": 2,
   "metadata": {},
   "outputs": [
    {
     "data": {
      "text/plain": [
       "defined \u001b[32mtrait\u001b[39m \u001b[36mAccountIn\u001b[39m\n",
       "defined \u001b[32mtrait\u001b[39m \u001b[36mAccountCommand\u001b[39m\n",
       "defined \u001b[32mclass\u001b[39m \u001b[36mWithdrawal\u001b[39m\n",
       "defined \u001b[32mclass\u001b[39m \u001b[36mIncome\u001b[39m\n",
       "defined \u001b[32mtrait\u001b[39m \u001b[36mAccountQuery\u001b[39m\n",
       "defined \u001b[32mobject\u001b[39m \u001b[36mGetBalance\u001b[39m"
      ]
     },
     "execution_count": 2,
     "metadata": {},
     "output_type": "execute_result"
    }
   ],
   "source": [
    "sealed trait AccountIn\n",
    "\n",
    "// Commands\n",
    "\n",
    "sealed trait AccountCommand extends AccountIn { \n",
    "    val amount : Int\n",
    "    assume( amount >= 0, \"Amount should not be a negative number\" )\n",
    "}\n",
    "\n",
    "final case class Withdrawal(amount : Int) extends AccountCommand\n",
    "final case class Income(amount : Int) extends AccountCommand\n",
    "\n",
    "// Queries\n",
    "\n",
    "sealed trait AccountQuery extends AccountIn\n",
    "\n",
    "final case object GetBalance extends AccountQuery"
   ]
  },
  {
   "cell_type": "markdown",
   "metadata": {},
   "source": [
    "### Protocolo de salida"
   ]
  },
  {
   "cell_type": "code",
   "execution_count": 3,
   "metadata": {},
   "outputs": [
    {
     "data": {
      "text/plain": [
       "defined \u001b[32mtrait\u001b[39m \u001b[36mAccountOut\u001b[39m\n",
       "defined \u001b[32mclass\u001b[39m \u001b[36mCurrentBalance\u001b[39m\n",
       "defined \u001b[32mclass\u001b[39m \u001b[36mDeltaBalance\u001b[39m"
      ]
     },
     "execution_count": 3,
     "metadata": {},
     "output_type": "execute_result"
    }
   ],
   "source": [
    "sealed trait AccountOut\n",
    "\n",
    "final case class CurrentBalance( balance: Int ) extends AccountOut\n",
    "final case class DeltaBalance( delta : Int, error : Option[Throwable] = None ) extends AccountOut"
   ]
  },
  {
   "cell_type": "markdown",
   "metadata": {},
   "source": [
    "### Eventos"
   ]
  },
  {
   "cell_type": "code",
   "execution_count": 4,
   "metadata": {},
   "outputs": [
    {
     "data": {
      "text/plain": [
       "defined \u001b[32mtrait\u001b[39m \u001b[36mAccountEvent\u001b[39m\n",
       "defined \u001b[32mclass\u001b[39m \u001b[36mWithdrawalCreated\u001b[39m\n",
       "defined \u001b[32mclass\u001b[39m \u001b[36mIncomeCreated\u001b[39m"
      ]
     },
     "execution_count": 4,
     "metadata": {},
     "output_type": "execute_result"
    }
   ],
   "source": [
    "sealed trait AccountEvent {\n",
    "    \n",
    "    val idAccount : String\n",
    "    val amount: Int\n",
    "}\n",
    "\n",
    "case class WithdrawalCreated( val idAccount: String, val amount : Int ) extends AccountEvent\n",
    "case class IncomeCreated( val idAccount: String, val amount : Int ) extends AccountEvent"
   ]
  },
  {
   "cell_type": "markdown",
   "metadata": {},
   "source": [
    "---\n",
    "\n",
    "---\n",
    "## Se define un actor 'Cuenta'"
   ]
  },
  {
   "cell_type": "code",
   "execution_count": 5,
   "metadata": {},
   "outputs": [
    {
     "data": {
      "text/plain": [
       "\u001b[32mimport \u001b[39m\u001b[36makka.actor._\n",
       "\u001b[39m\n",
       "\u001b[32mimport \u001b[39m\u001b[36mscala.collection.mutable.Queue\n",
       "\u001b[39m\n",
       "\u001b[32mimport \u001b[39m\u001b[36mscala.util._\n",
       "\n",
       "\u001b[39m\n",
       "defined \u001b[32mclass\u001b[39m \u001b[36mActorAccount\u001b[39m"
      ]
     },
     "execution_count": 5,
     "metadata": {},
     "output_type": "execute_result"
    }
   ],
   "source": [
    "import akka.actor._\n",
    "import scala.collection.mutable.Queue\n",
    "import scala.util._\n",
    "\n",
    "class ActorAccount( private val id: String, \n",
    "                       private val updateBalance : (Int, Int) => Try[Int], \n",
    "                       private val queueCQRS: Queue[AccountEvent] ) extends Actor {\n",
    "    \n",
    "    var balance : Int = 0\n",
    "    \n",
    "    override def receive = {\n",
    "        \n",
    "        case command : AccountCommand => manageCommads( command )\n",
    "        case querry  : AccountQuery   => manageQueries( querry )\n",
    "        case other                    => unhandled( other )\n",
    "        \n",
    "    }\n",
    "    \n",
    "    private def manageCommads( command: AccountCommand ) : Unit = {\n",
    "        \n",
    "        val amount =  command match {\n",
    "            case Withdrawal( amount ) => -1 * amount\n",
    "            case Income( amount ) => amount\n",
    "        }\n",
    "        \n",
    "        updateBalance( amount, balance ) match {            \n",
    "            case Success( newBalance ) => {\n",
    "                sender() ! DeltaBalance( newBalance - balance ) \n",
    "                sendEvent( command )\n",
    "                balance = newBalance\n",
    "            }\n",
    "            case Failure(  error ) => sender() ! DeltaBalance( 0, Some( error ) )         \n",
    "        }   \n",
    "        \n",
    "    }\n",
    "    \n",
    "    private def sendEvent( command: AccountCommand ) {\n",
    "        \n",
    "        val event : AccountEvent = command match {\n",
    "            case Withdrawal( amount ) => WithdrawalCreated( id, amount ) \n",
    "            case Income( amount )     => IncomeCreated( id, amount ) \n",
    "        }\n",
    "        \n",
    "        queueCQRS.enqueue( event )\n",
    "        \n",
    "    }\n",
    "    \n",
    "    private def manageQueries( queries : AccountQuery ) : Unit = queries match {\n",
    "        case GetBalance => sender() !  CurrentBalance( balance )\n",
    "    }\n",
    "    \n",
    "    \n",
    "}"
   ]
  },
  {
   "cell_type": "markdown",
   "metadata": {},
   "source": [
    "### Utilidades para manejar cuentas"
   ]
  },
  {
   "cell_type": "code",
   "execution_count": 6,
   "metadata": {},
   "outputs": [
    {
     "data": {
      "text/plain": [
       "defined \u001b[32mobject\u001b[39m \u001b[36mAccount\u001b[39m\n",
       "defined \u001b[32mclass\u001b[39m \u001b[36mAccount\u001b[39m"
      ]
     },
     "execution_count": 6,
     "metadata": {},
     "output_type": "execute_result"
    }
   ],
   "source": [
    "object Account {\n",
    "    def apply( account :ActorRef ) = new Account( account )\n",
    "}\n",
    "\n",
    "class Account( private val account :ActorRef  ) {\n",
    "    \n",
    " import scala.concurrent._\n",
    " import scala.concurrent.duration._\n",
    " import akka.pattern._\n",
    " import akka.actor\n",
    " import akka.util.Timeout\n",
    "    \n",
    " implicit val timeout = Timeout( 5 seconds )\n",
    "\n",
    "    \n",
    " def makeWithdrawal( amount : Int ) : Future[ DeltaBalance ] = {\n",
    "        ( account ? Withdrawal( amount ) ).mapTo[DeltaBalance]            \n",
    "  }\n",
    "    \n",
    " def makeIncome( amount : Int ) : Future[DeltaBalance] = {\n",
    "        ( account ? Income( amount ) ).mapTo[DeltaBalance]            \n",
    "  }\n",
    "    \n",
    "  def getBalance : Future[CurrentBalance] = {\n",
    "     ( account ? GetBalance ). mapTo[ CurrentBalance ]\n",
    " }\n",
    "    \n",
    "}\n",
    "\n"
   ]
  },
  {
   "cell_type": "markdown",
   "metadata": {},
   "source": [
    "---\n",
    "\n",
    "----\n",
    "## Implementaciones"
   ]
  },
  {
   "cell_type": "markdown",
   "metadata": {},
   "source": [
    "### Lógica de negocio\n",
    "Se define una lógica de negocio simple. En este caso no se admiten descubiertos, pero por ejemplo se pueden implementar diferentes lógicas como un porcentaje de descubierto dependiendo del balance. \n",
    "> El objetivo de esto es que la lógica puede estar separada del actor y puede ser validada y probada aparte"
   ]
  },
  {
   "cell_type": "code",
   "execution_count": 7,
   "metadata": {},
   "outputs": [
    {
     "data": {
      "text/plain": [
       "\u001b[32mimport \u001b[39m\u001b[36mscala.util._\n",
       "\n",
       "\u001b[39m\n",
       "\u001b[36mupdateBalance\u001b[39m: (\u001b[32mInt\u001b[39m, \u001b[32mInt\u001b[39m) => \u001b[32mTry\u001b[39m[\u001b[32mInt\u001b[39m] = $sess.cmd6Wrapper$Helper$$Lambda$3294/670360747@1c9cab80"
      ]
     },
     "execution_count": 7,
     "metadata": {},
     "output_type": "execute_result"
    }
   ],
   "source": [
    "import scala.util._\n",
    "\n",
    "val updateBalance : (Int,Int) => Try[Int] = ( amount, balance ) => {\n",
    "   \n",
    "    val newBalance = amount + balance\n",
    "    \n",
    "    if( newBalance >= 0 ) {\n",
    "    \n",
    "        Success( newBalance )\n",
    "        \n",
    "    } else {\n",
    "        \n",
    "        Failure( new IllegalStateException( s\"It should not be in red( ${newBalance} )\" ) )\n",
    "    }\n",
    "    \n",
    "}"
   ]
  },
  {
   "cell_type": "markdown",
   "metadata": {},
   "source": [
    "### Indirección de publicación de eventos\n",
    "Se define una cola que será la indirección de publicación de eventos.\n",
    "En este caso para esta prueba será una `ConcurrentLinkedQueue`.   \n",
    "> En un sistema real puede ser un akka stream con su fuente '_materializada_' en una cola"
   ]
  },
  {
   "cell_type": "code",
   "execution_count": 8,
   "metadata": {},
   "outputs": [
    {
     "data": {
      "text/plain": [
       "\u001b[32mimport \u001b[39m\u001b[36mscala.collection.mutable.Queue\n",
       "\n",
       "\u001b[39m\n",
       "\u001b[36mqueueCQRS\u001b[39m: \u001b[32mQueue\u001b[39m[\u001b[32mAccountEvent\u001b[39m] = \u001b[33mQueue\u001b[39m()"
      ]
     },
     "execution_count": 8,
     "metadata": {},
     "output_type": "execute_result"
    }
   ],
   "source": [
    "import scala.collection.mutable.Queue\n",
    "\n",
    "val queueCQRS = Queue[AccountEvent]()"
   ]
  },
  {
   "cell_type": "markdown",
   "metadata": {},
   "source": [
    "---\n",
    "\n",
    "---\n",
    "## Probandolo todo"
   ]
  },
  {
   "cell_type": "markdown",
   "metadata": {},
   "source": [
    "### _Testing: Utilidades_"
   ]
  },
  {
   "cell_type": "code",
   "execution_count": 9,
   "metadata": {
    "slideshow": {
     "slide_type": "notes"
    }
   },
   "outputs": [
    {
     "data": {
      "text/plain": [
       "defined \u001b[32mobject\u001b[39m \u001b[36mTestUtil\u001b[39m"
      ]
     },
     "execution_count": 9,
     "metadata": {},
     "output_type": "execute_result"
    }
   ],
   "source": [
    "object TestUtil {\n",
    "    \n",
    "    import scala.concurrent._, duration._\n",
    "    import akka.pattern._\n",
    "    import akka.util.Timeout\n",
    "\n",
    "\n",
    "    val tm = 5 seconds\n",
    "    implicit val timeout = Timeout( tm )\n",
    "\n",
    "    def result[T]( future : Future[T] ) = Try {\n",
    "        Await.result( future, tm )\n",
    "    }\n",
    "    \n",
    "}"
   ]
  },
  {
   "cell_type": "markdown",
   "metadata": {},
   "source": [
    "### Se crea el sistema de actores"
   ]
  },
  {
   "cell_type": "code",
   "execution_count": 10,
   "metadata": {},
   "outputs": [
    {
     "data": {
      "text/plain": [
       "\u001b[36msystem\u001b[39m: \u001b[32mActorSystem\u001b[39m = akka://test-1"
      ]
     },
     "execution_count": 10,
     "metadata": {},
     "output_type": "execute_result"
    }
   ],
   "source": [
    "val system = ActorSystem.create( \"test-1\" )"
   ]
  },
  {
   "cell_type": "markdown",
   "metadata": {},
   "source": [
    "### Se crean dos actores cuenta"
   ]
  },
  {
   "cell_type": "code",
   "execution_count": 11,
   "metadata": {},
   "outputs": [
    {
     "data": {
      "text/plain": [
       "\u001b[36maccountOneActor\u001b[39m: \u001b[32mActorRef\u001b[39m = Actor[akka://test-1/user/$a#480683290]\n",
       "\u001b[36maccountTwoActor\u001b[39m: \u001b[32mActorRef\u001b[39m = Actor[akka://test-1/user/$b#-1522344440]\n",
       "\u001b[36maccountOne\u001b[39m: \u001b[32mAccount\u001b[39m = $sess.cmd5Wrapper$Helper$Account@288842d7\n",
       "\u001b[36maccountTwo\u001b[39m: \u001b[32mAccount\u001b[39m = $sess.cmd5Wrapper$Helper$Account@b8fb511"
      ]
     },
     "execution_count": 11,
     "metadata": {},
     "output_type": "execute_result"
    }
   ],
   "source": [
    "val accountOneActor = system.actorOf{\n",
    "        Props( new ActorAccount( \"accountOne\", updateBalance, queueCQRS ) ) \n",
    "}\n",
    "\n",
    "val accountTwoActor = system.actorOf{\n",
    "        Props( new ActorAccount( \"accountTwo\", updateBalance, queueCQRS ) ) \n",
    "}\n",
    "\n",
    "val accountOne = Account( accountOneActor )\n",
    "val accountTwo = Account( accountTwoActor )"
   ]
  },
  {
   "cell_type": "markdown",
   "metadata": {},
   "source": [
    "### Se hace un ingreso incial a las dos cuentas\n",
    "\n",
    "> Aquí se hace `Await` sólo por motivos de testing"
   ]
  },
  {
   "cell_type": "code",
   "execution_count": 12,
   "metadata": {},
   "outputs": [
    {
     "data": {
      "text/plain": [
       "\u001b[36mres11_0\u001b[39m: \u001b[32mTry\u001b[39m[\u001b[32mDeltaBalance\u001b[39m] = \u001b[33mSuccess\u001b[39m(\u001b[33mDeltaBalance\u001b[39m(\u001b[32m1000\u001b[39m, None))\n",
       "\u001b[36mres11_1\u001b[39m: \u001b[32mTry\u001b[39m[\u001b[32mDeltaBalance\u001b[39m] = \u001b[33mSuccess\u001b[39m(\u001b[33mDeltaBalance\u001b[39m(\u001b[32m1000\u001b[39m, None))"
      ]
     },
     "execution_count": 12,
     "metadata": {},
     "output_type": "execute_result"
    }
   ],
   "source": [
    "\n",
    "TestUtil.result{\n",
    "    accountOne.makeIncome( 1000 ) \n",
    "}\n",
    "\n",
    "TestUtil.result{\n",
    "    accountTwo.makeIncome( 1000 ) \n",
    "}\n"
   ]
  },
  {
   "cell_type": "markdown",
   "metadata": {},
   "source": [
    "#### Se comprueba los balances\n",
    "\n",
    "> `Await` sólo por motivos de testing"
   ]
  },
  {
   "cell_type": "code",
   "execution_count": 13,
   "metadata": {},
   "outputs": [
    {
     "data": {
      "text/plain": [
       "\u001b[36mres12_0\u001b[39m: \u001b[32mTry\u001b[39m[\u001b[32mCurrentBalance\u001b[39m] = \u001b[33mSuccess\u001b[39m(\u001b[33mCurrentBalance\u001b[39m(\u001b[32m1000\u001b[39m))\n",
       "\u001b[36mres12_1\u001b[39m: \u001b[32mTry\u001b[39m[\u001b[32mCurrentBalance\u001b[39m] = \u001b[33mSuccess\u001b[39m(\u001b[33mCurrentBalance\u001b[39m(\u001b[32m1000\u001b[39m))"
      ]
     },
     "execution_count": 13,
     "metadata": {},
     "output_type": "execute_result"
    }
   ],
   "source": [
    "TestUtil.result{\n",
    "    accountOne.getBalance \n",
    "}\n",
    "\n",
    "TestUtil.result { \n",
    "    accountTwo.getBalance \n",
    "}"
   ]
  },
  {
   "cell_type": "markdown",
   "metadata": {},
   "source": [
    "#### Se comprueban los eventos"
   ]
  },
  {
   "cell_type": "code",
   "execution_count": 14,
   "metadata": {},
   "outputs": [
    {
     "data": {
      "text/plain": [
       "\u001b[36mres13_0\u001b[39m: \u001b[32mList\u001b[39m[\u001b[32mAccountEvent\u001b[39m] = \u001b[33mList\u001b[39m(IncomeCreated(accountOne,1000), IncomeCreated(accountTwo,1000))"
      ]
     },
     "execution_count": 14,
     "metadata": {},
     "output_type": "execute_result"
    }
   ],
   "source": [
    "queueCQRS.toList ; queueCQRS.clear"
   ]
  },
  {
   "cell_type": "markdown",
   "metadata": {},
   "source": [
    "### Se hace una transferencia\n",
    "\n",
    "Se simula una operación/compensacion siguiendo el patrón sagas"
   ]
  },
  {
   "cell_type": "code",
   "execution_count": 15,
   "metadata": {},
   "outputs": [
    {
     "data": {
      "text/plain": [
       "defined \u001b[32mobject\u001b[39m \u001b[36mTransfer\u001b[39m"
      ]
     },
     "execution_count": 15,
     "metadata": {},
     "output_type": "execute_result"
    }
   ],
   "source": [
    "\n",
    "\n",
    "object Transfer {\n",
    "    \n",
    "    import scala.concurrent.ExecutionContext.Implicits.global\n",
    "    import scala.concurrent._\n",
    "    \n",
    "    def transfer( from : Account, to: Account ) ( amount : Int ) = {\n",
    "        \n",
    "        val withdrawn = from.makeWithdrawal( amount )\n",
    "        \n",
    "        val income = to.makeIncome( amount )        \n",
    "\n",
    "        for {\n",
    "             w    <- withdrawn\n",
    "             i    <- income\n",
    "             comp <- ( w.delta + i.delta ) match {\n",
    "                    case a if ( a < 0 ) => from.makeIncome( amount )\n",
    "                    case a if ( a > 0 ) => to.makeWithdrawal( amount )\n",
    "                    case _ => Future{ DeltaBalance(0) }\n",
    "                }\n",
    "        } yield {\n",
    "            ( w, i, comp )\n",
    "        }\n",
    "        \n",
    "    }\n",
    "    \n",
    "}\n",
    "\n"
   ]
  },
  {
   "cell_type": "code",
   "execution_count": 16,
   "metadata": {},
   "outputs": [
    {
     "data": {
      "text/plain": [
       "\u001b[36mtransfersOneToTwo\u001b[39m: \u001b[32mInt\u001b[39m => \u001b[32mconcurrent\u001b[39m.\u001b[32mFuture\u001b[39m[(\u001b[32mDeltaBalance\u001b[39m, \u001b[32mDeltaBalance\u001b[39m, \u001b[32mDeltaBalance\u001b[39m)] = $sess.cmd15Wrapper$Helper$$Lambda$3669/916654241@6b909c26\n",
       "\u001b[36mtransfersTwoToOne\u001b[39m: \u001b[32mInt\u001b[39m => \u001b[32mconcurrent\u001b[39m.\u001b[32mFuture\u001b[39m[(\u001b[32mDeltaBalance\u001b[39m, \u001b[32mDeltaBalance\u001b[39m, \u001b[32mDeltaBalance\u001b[39m)] = $sess.cmd15Wrapper$Helper$$Lambda$3670/2137939645@6dd62807"
      ]
     },
     "execution_count": 16,
     "metadata": {},
     "output_type": "execute_result"
    }
   ],
   "source": [
    "val transfersOneToTwo =  Transfer.transfer( accountOne, accountTwo)( _ ) \n",
    "val transfersTwoToOne =  Transfer.transfer( accountTwo, accountOne)( _ ) "
   ]
  },
  {
   "cell_type": "markdown",
   "metadata": {},
   "source": [
    "## _Probando, probando_"
   ]
  },
  {
   "cell_type": "code",
   "execution_count": 19,
   "metadata": {
    "scrolled": true
   },
   "outputs": [
    {
     "data": {
      "text/plain": [
       "\u001b[36mres18\u001b[39m: \u001b[32mTry\u001b[39m[(\u001b[32mDeltaBalance\u001b[39m, \u001b[32mDeltaBalance\u001b[39m, \u001b[32mDeltaBalance\u001b[39m)] = \u001b[33mSuccess\u001b[39m(\n",
       "  (\u001b[33mDeltaBalance\u001b[39m(\u001b[32m-500\u001b[39m, None), \u001b[33mDeltaBalance\u001b[39m(\u001b[32m500\u001b[39m, None), \u001b[33mDeltaBalance\u001b[39m(\u001b[32m0\u001b[39m, None))\n",
       ")"
      ]
     },
     "execution_count": 19,
     "metadata": {},
     "output_type": "execute_result"
    }
   ],
   "source": [
    "TestUtil.result{\n",
    "        transfersOneToTwo( 500 ) \n",
    "}"
   ]
  },
  {
   "cell_type": "markdown",
   "metadata": {},
   "source": [
    "#### Se vuelen a compruebar los balances\n",
    "\n",
    "> `Await` sólo por motivos de testing"
   ]
  },
  {
   "cell_type": "code",
   "execution_count": 20,
   "metadata": {},
   "outputs": [
    {
     "data": {
      "text/plain": [
       "\u001b[36mres19_0\u001b[39m: \u001b[32mTry\u001b[39m[\u001b[32mCurrentBalance\u001b[39m] = \u001b[33mSuccess\u001b[39m(\u001b[33mCurrentBalance\u001b[39m(\u001b[32m500\u001b[39m))\n",
       "\u001b[36mres19_1\u001b[39m: \u001b[32mTry\u001b[39m[\u001b[32mCurrentBalance\u001b[39m] = \u001b[33mSuccess\u001b[39m(\u001b[33mCurrentBalance\u001b[39m(\u001b[32m1500\u001b[39m))"
      ]
     },
     "execution_count": 20,
     "metadata": {},
     "output_type": "execute_result"
    }
   ],
   "source": [
    "TestUtil.result{\n",
    "    accountOne.getBalance \n",
    "}\n",
    "\n",
    "\n",
    "TestUtil.result { \n",
    "    accountTwo.getBalance \n",
    "}"
   ]
  },
  {
   "cell_type": "markdown",
   "metadata": {},
   "source": [
    "#### Se vuelven a comprobar los eventos"
   ]
  },
  {
   "cell_type": "code",
   "execution_count": 21,
   "metadata": {},
   "outputs": [
    {
     "data": {
      "text/plain": [
       "\u001b[36mres20_0\u001b[39m: \u001b[32mList\u001b[39m[\u001b[32mAccountEvent\u001b[39m] = \u001b[33mList\u001b[39m(\n",
       "  IncomeCreated(accountTwo,5000),\n",
       "  WithdrawalCreated(accountTwo,5000),\n",
       "  WithdrawalCreated(accountOne,500),\n",
       "  IncomeCreated(accountTwo,500)\n",
       ")"
      ]
     },
     "execution_count": 21,
     "metadata": {},
     "output_type": "execute_result"
    }
   ],
   "source": [
    "queueCQRS.toList ; queueCQRS.clear"
   ]
  }
 ],
 "metadata": {
  "kernelspec": {
   "display_name": "Scala (2.12)",
   "language": "scala",
   "name": "scala_2_12"
  },
  "language_info": {
   "codemirror_mode": "text/x-scala",
   "file_extension": ".scala",
   "mimetype": "text/x-scala",
   "name": "scala212",
   "nbconvert_exporter": "script",
   "pygments_lexer": "scala",
   "version": "2.12.2"
  }
 },
 "nbformat": 4,
 "nbformat_minor": 2
}
